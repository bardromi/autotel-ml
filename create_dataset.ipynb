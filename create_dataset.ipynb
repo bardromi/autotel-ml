{
  "nbformat": 4,
  "nbformat_minor": 0,
  "metadata": {
    "colab": {
      "name": "create_dataset.ipynb",
      "provenance": [],
      "collapsed_sections": [],
      "toc_visible": true
    },
    "kernelspec": {
      "name": "python3",
      "display_name": "Python 3"
    }
  },
  "cells": [
    {
      "cell_type": "code",
      "metadata": {
        "id": "LHvqitDJO6RE",
        "colab_type": "code",
        "colab": {}
      },
      "source": [
        ""
      ],
      "execution_count": 0,
      "outputs": []
    },
    {
      "cell_type": "markdown",
      "metadata": {
        "id": "7gXMLcUWO7OU",
        "colab_type": "text"
      },
      "source": [
        ""
      ]
    },
    {
      "cell_type": "markdown",
      "metadata": {
        "id": "GvV2KnQmO7c1",
        "colab_type": "text"
      },
      "source": [
        ""
      ]
    },
    {
      "cell_type": "code",
      "metadata": {
        "id": "0q70X8lYPysf",
        "colab_type": "code",
        "colab": {
          "base_uri": "https://localhost:8080/",
          "height": 51
        },
        "outputId": "8b589923-aeba-471f-d88e-346a6c61b9b6"
      },
      "source": [
        "df = pd.read_csv(\"df_with_neis.csv\")\n"
      ],
      "execution_count": 20,
      "outputs": [
        {
          "output_type": "stream",
          "text": [
            "/usr/local/lib/python3.6/dist-packages/IPython/core/interactiveshell.py:2718: DtypeWarning: Columns (25,26) have mixed types. Specify dtype option on import or set low_memory=False.\n",
            "  interactivity=interactivity, compiler=compiler, result=result)\n"
          ],
          "name": "stderr"
        }
      ]
    },
    {
      "cell_type": "code",
      "metadata": {
        "id": "TBwoS3oEQUq7",
        "colab_type": "code",
        "colab": {}
      },
      "source": [
        "import numpy as np\n",
        "import pandas as pd"
      ],
      "execution_count": 0,
      "outputs": []
    },
    {
      "cell_type": "code",
      "metadata": {
        "id": "AanAjz9eQYWn",
        "colab_type": "code",
        "colab": {
          "base_uri": "https://localhost:8080/",
          "height": 51
        },
        "outputId": "5eac56de-1e42-40df-a13b-36b619831866"
      },
      "source": [
        "df = pd.read_csv(\"df_with_neis.csv\")\n"
      ],
      "execution_count": 22,
      "outputs": [
        {
          "output_type": "stream",
          "text": [
            "/usr/local/lib/python3.6/dist-packages/IPython/core/interactiveshell.py:2718: DtypeWarning: Columns (25,26) have mixed types. Specify dtype option on import or set low_memory=False.\n",
            "  interactivity=interactivity, compiler=compiler, result=result)\n"
          ],
          "name": "stderr"
        }
      ]
    },
    {
      "cell_type": "code",
      "metadata": {
        "id": "yz-cTcspPezQ",
        "colab_type": "code",
        "colab": {}
      },
      "source": [
        "df['end_dt'] = pd.to_datetime(df['end_dt'], errors='coerce')\n",
        "df = (df\n",
        "      .assign(end_hour = lambda x: x['end_dt'].dt.hour)\n",
        "      .assign(end_dayofweek = lambda x: x['end_dt'].dt.strftime('%A'))\n",
        "      .assign(end_month = lambda x: x['end_dt'].dt.strftime('%B'))\n",
        "     )"
      ],
      "execution_count": 0,
      "outputs": []
    },
    {
      "cell_type": "code",
      "metadata": {
        "id": "8Ia-eeqRPpvy",
        "colab_type": "code",
        "colab": {}
      },
      "source": [
        "d1 = pd.DataFrame({})\n",
        "d2 = pd.DataFrame({})\n",
        "\n",
        "d1[['vehicle_id','address','coord_x','coord_y','coord_merc','coord_mercy','hour','dayofwee','month','neighborhood']]=df[['vehicle_id','orig_addr_c','orig_x','orig_y','orig_x_merc', 'orig_y_merc','start_hour','start_dayofweek','start_month','orig_nei' ]]\n",
        "d2[['vehicle_id','address','coord_x','coord_y','coord_merc','coord_mercy','hour','dayofwee','month','neighborhood']]=df[['vehicle_id','dest_addr_c','dest_x','dest_y','dest_x_merc', 'dest_y_merc','end_hour','end_dayofweek','end_month','dest_nei' ]]\n",
        "result = d1.append(d2, sort=False)"
      ],
      "execution_count": 0,
      "outputs": []
    },
    {
      "cell_type": "code",
      "metadata": {
        "id": "jm34mQbdSwA5",
        "colab_type": "code",
        "colab": {}
      },
      "source": [
        "result.to_csv('dateset.csv')"
      ],
      "execution_count": 0,
      "outputs": []
    },
    {
      "cell_type": "code",
      "metadata": {
        "id": "dkDqCM4PSG-h",
        "colab_type": "code",
        "colab": {}
      },
      "source": [
        ""
      ],
      "execution_count": 0,
      "outputs": []
    }
  ]
}