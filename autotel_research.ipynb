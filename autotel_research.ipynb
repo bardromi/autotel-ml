{
 "cells": [
  {
   "cell_type": "markdown",
   "metadata": {},
   "source": [
    "# Table of Contents\n",
    "1. [Step 1: Gather the Data](#step1)\n",
    "1. [Step 2: Prepare Data for Consumption](#step2)\n",
    "   - [2.1 Import Libraries](#step2.1)\n",
    "   - [2.1 Meet The Data](#step2.2)\n",
    "   - [2.3 Clean Data](#step2.3)\n",
    "   - [2.4 Convert Formats](#step2.4)\n",
    "1. [Step 3: Visualization](#step3)"
   ]
  },
  {
   "cell_type": "markdown",
   "metadata": {},
   "source": [
    "<a id=\"step1\"></a>\n",
    "# Step 1: Gather the Data\n",
    "The data collected and created at create_ds.ipynb script"
   ]
  },
  {
   "cell_type": "markdown",
   "metadata": {},
   "source": [
    "<a id=\"step2\"></a>\n",
    "# Step 2: Prepare Data for Consumption"
   ]
  },
  {
   "cell_type": "markdown",
   "metadata": {},
   "source": [
    "<a id=\"step2.1\"></a>\n",
    "## 2.1 Import Libraries"
   ]
  },
  {
   "cell_type": "code",
   "execution_count": 1,
   "metadata": {},
   "outputs": [
    {
     "name": "stdout",
     "output_type": "stream",
     "text": [
      "Python version: 3.7.4 (tags/v3.7.4:e09359112e, Jul  8 2019, 19:29:22) [MSC v.1916 32 bit (Intel)]\n",
      "pandas version: 1.0.3\n",
      "NumPy version: 1.18.2\n",
      "SciPy version: 1.4.1\n",
      "matplotlib version: 3.2.1\n",
      "ipywidgets version: 7.5.1\n",
      "seaborn version: 0.10.0\n"
     ]
    },
    {
     "data": {
      "text/html": [
       "        <script type=\"text/javascript\">\n",
       "        window.PlotlyConfig = {MathJaxConfig: 'local'};\n",
       "        if (window.MathJax) {MathJax.Hub.Config({SVG: {font: \"STIX-Web\"}});}\n",
       "        if (typeof require !== 'undefined') {\n",
       "        require.undef(\"plotly\");\n",
       "        requirejs.config({\n",
       "            paths: {\n",
       "                'plotly': ['https://cdn.plot.ly/plotly-latest.min']\n",
       "            }\n",
       "        });\n",
       "        require(['plotly'], function(Plotly) {\n",
       "            window._Plotly = Plotly;\n",
       "        });\n",
       "        }\n",
       "        </script>\n",
       "        "
      ]
     },
     "metadata": {},
     "output_type": "display_data"
    },
    {
     "data": {
      "text/html": [
       "        <script type=\"text/javascript\">\n",
       "        window.PlotlyConfig = {MathJaxConfig: 'local'};\n",
       "        if (window.MathJax) {MathJax.Hub.Config({SVG: {font: \"STIX-Web\"}});}\n",
       "        if (typeof require !== 'undefined') {\n",
       "        require.undef(\"plotly\");\n",
       "        requirejs.config({\n",
       "            paths: {\n",
       "                'plotly': ['https://cdn.plot.ly/plotly-latest.min']\n",
       "            }\n",
       "        });\n",
       "        require(['plotly'], function(Plotly) {\n",
       "            window._Plotly = Plotly;\n",
       "        });\n",
       "        }\n",
       "        </script>\n",
       "        "
      ]
     },
     "metadata": {},
     "output_type": "display_data"
    },
    {
     "name": "stdout",
     "output_type": "stream",
     "text": [
      "cufflinks version: 0.17.3\n"
     ]
    }
   ],
   "source": [
    "import sys\n",
    "print(\"Python version: {}\". format(sys.version))\n",
    "\n",
    "import pandas as pd\n",
    "print(\"pandas version: {}\". format(pd.__version__))\n",
    "\n",
    "import numpy as np\n",
    "print(\"NumPy version: {}\". format(np.__version__))\n",
    "\n",
    "import scipy as sp\n",
    "print(\"SciPy version: {}\". format(sp.__version__)) \n",
    "\n",
    "import matplotlib\n",
    "import matplotlib.pyplot as plt\n",
    "print(\"matplotlib version: {}\". format(matplotlib.__version__))\n",
    "\n",
    "import ipywidgets as widgets\n",
    "from ipywidgets import interact, interact_manual\n",
    "print(\"ipywidgets version: {}\". format(widgets.__version__))\n",
    "\n",
    "import seaborn as sns\n",
    "print(\"seaborn version: {}\". format(sns.__version__))\n",
    "%matplotlib inline\n",
    "\n",
    "# Standard plotly imports\n",
    "import chart_studio.plotly as py\n",
    "import plotly.graph_objs as go\n",
    "from plotly.offline import iplot, init_notebook_mode\n",
    "\n",
    "# Using plotly + cufflinks in offline mode\n",
    "import cufflinks\n",
    "cufflinks.go_offline(connected=True)\n",
    "init_notebook_mode(connected=True)\n",
    "print(\"cufflinks version: {}\". format(cufflinks.__version__))\n",
    "\n",
    "pd.set_option('display.max_columns', None)\n",
    "sns.set(style='white', context='notebook', palette='deep')\n",
    "\n",
    "import warnings\n",
    "from pandas.core.common import SettingWithCopyWarning\n",
    "warnings.simplefilter(action=\"ignore\", category=SettingWithCopyWarning)"
   ]
  },
  {
   "cell_type": "markdown",
   "metadata": {},
   "source": [
    "<a id=\"step2.2\"></a>\n",
    "## 2.2 Meet The Data"
   ]
  },
  {
   "cell_type": "code",
   "execution_count": 2,
   "metadata": {},
   "outputs": [],
   "source": [
    "def print_info(df):\n",
    "    df.info()\n",
    "    print(\"\\nshape: \" + str(df.shape) + \"\\n\")\n",
    "    print(df.isna().sum())"
   ]
  },
  {
   "cell_type": "markdown",
   "metadata": {},
   "source": [
    "Data explanation should be here"
   ]
  },
  {
   "cell_type": "code",
   "execution_count": 3,
   "metadata": {},
   "outputs": [
    {
     "name": "stderr",
     "output_type": "stream",
     "text": [
      "c:\\projects\\python\\ssd\\venv\\lib\\site-packages\\IPython\\core\\interactiveshell.py:3063: DtypeWarning:\n",
      "\n",
      "Columns (5) have mixed types.Specify dtype option on import or set low_memory=False.\n",
      "\n"
     ]
    }
   ],
   "source": [
    "df = pd.read_csv(\"./input/autotel_with_target.csv\",dtype={\n",
    "    \"Order number\": \"str\",\n",
    "    \"Year\": \"str\",\n",
    "    \"Month\": \"str\",\n",
    "    \"Day\": \"str\",\n",
    "    \"Hour\": \"str\",\n",
    "    \"Minute\": \"str\",\n",
    "} ,index_col=0)"
   ]
  },
  {
   "cell_type": "code",
   "execution_count": 4,
   "metadata": {},
   "outputs": [],
   "source": [
    "# print(df.isnull().sum())\n",
    "# df.describe(include='all')"
   ]
  },
  {
   "cell_type": "markdown",
   "metadata": {},
   "source": [
    "<a id=\"step2.3\"><a/>\n",
    "## 2.3 Clean Data"
   ]
  },
  {
   "cell_type": "code",
   "execution_count": 5,
   "metadata": {},
   "outputs": [
    {
     "name": "stdout",
     "output_type": "stream",
     "text": [
      "<class 'pandas.core.frame.DataFrame'>\n",
      "Int64Index: 136155 entries, 0 to 136154\n",
      "Data columns (total 36 columns):\n",
      " #   Column                    Non-Null Count   Dtype  \n",
      "---  ------                    --------------   -----  \n",
      " 0   Car id                    136155 non-null  object \n",
      " 1   Order number              136155 non-null  object \n",
      " 2   Category                  136155 non-null  object \n",
      " 3   Avg distance              136155 non-null  int64  \n",
      " 4   Billing minutes           132902 non-null  object \n",
      " 5   Address                   136155 non-null  object \n",
      " 6   Time                      134980 non-null  object \n",
      " 7   kmh                       132860 non-null  float64\n",
      " 8   Coords                    134957 non-null  object \n",
      " 9   Lat                       134957 non-null  float64\n",
      " 10  Lon                       134957 non-null  float64\n",
      " 11  neighborhood              134957 non-null  object \n",
      " 12  Area                      134957 non-null  float64\n",
      " 13  Population                134957 non-null  float64\n",
      " 14  Street                    136155 non-null  object \n",
      " 15  City                      136155 non-null  object \n",
      " 16  Country                   136148 non-null  object \n",
      " 17  Street_c                  135708 non-null  object \n",
      " 18  Address_c                 136155 non-null  object \n",
      " 19  Address_c2                136155 non-null  object \n",
      " 20  Date                      134980 non-null  object \n",
      " 21  Year                      134980 non-null  object \n",
      " 22  Month                     134980 non-null  object \n",
      " 23  Day                       134980 non-null  object \n",
      " 24  Hour                      134980 non-null  object \n",
      " 25  Minute                    134980 non-null  object \n",
      " 26  Temprature                133676 non-null  float64\n",
      " 27  Max Temprature            133676 non-null  float64\n",
      " 28  Min Temprature            133676 non-null  float64\n",
      " 29  Relative Humidity         133676 non-null  float64\n",
      " 30  Amount of Rain            133676 non-null  float64\n",
      " 31  Wind Speed                133676 non-null  float64\n",
      " 32  Wind Direction            133676 non-null  float64\n",
      " 33  Max Wind Speed per Min    133676 non-null  float64\n",
      " 34  Max Win Speed per 10 Min  133676 non-null  float64\n",
      " 35  count                     95933 non-null   float64\n",
      "dtypes: float64(15), int64(1), object(20)\n",
      "memory usage: 28.0+ MB\n"
     ]
    }
   ],
   "source": [
    "df.info()"
   ]
  },
  {
   "cell_type": "markdown",
   "metadata": {},
   "source": [
    "### 2.3. Filling empy billing minutes with 0, most of the time its canceled drive"
   ]
  },
  {
   "cell_type": "code",
   "execution_count": 6,
   "metadata": {},
   "outputs": [],
   "source": [
    "df['Billing minutes'] = pd.to_numeric(df['Billing minutes'],errors='coerce')\n",
    "df['Billing minutes'] = df['Billing minutes'].fillna(0)"
   ]
  },
  {
   "cell_type": "markdown",
   "metadata": {},
   "source": [
    "### 2.3. Delete empty adresses"
   ]
  },
  {
   "cell_type": "code",
   "execution_count": 7,
   "metadata": {},
   "outputs": [],
   "source": [
    "delete_empty_addresses = df[\"Address\"].isnull()"
   ]
  },
  {
   "cell_type": "code",
   "execution_count": 8,
   "metadata": {},
   "outputs": [],
   "source": [
    "df = df[~delete_empty_addresses]\n",
    "# This is works too\n",
    "# df.drop(delete_empty_addresses.index,inplace=True)\n",
    "# df = df[pd.notnull(df['Address'])]"
   ]
  },
  {
   "cell_type": "code",
   "execution_count": 9,
   "metadata": {},
   "outputs": [
    {
     "data": {
      "text/plain": [
       "0"
      ]
     },
     "execution_count": 9,
     "metadata": {},
     "output_type": "execute_result"
    }
   ],
   "source": [
    "df[\"Address\"].isnull().sum()"
   ]
  },
  {
   "cell_type": "markdown",
   "metadata": {},
   "source": [
    "### 2.3. Fill na Street_c by Street\n",
    "the na is only from streets consists only from numbers"
   ]
  },
  {
   "cell_type": "code",
   "execution_count": 10,
   "metadata": {},
   "outputs": [],
   "source": [
    "df['Street_c'].fillna(df['Street'], inplace = True)"
   ]
  },
  {
   "cell_type": "markdown",
   "metadata": {},
   "source": [
    "### 2.3. Delete canceled and NO SHOW category rows"
   ]
  },
  {
   "cell_type": "code",
   "execution_count": 11,
   "metadata": {},
   "outputs": [],
   "source": [
    "df = df[(df['Category'] != 'Canceled') & (df['Category'] != 'NO SHOW')]"
   ]
  },
  {
   "cell_type": "markdown",
   "metadata": {},
   "source": [
    "### 2.3. Delete empty kmh drives\n",
    "Those rows with same start and destination addresses and the drive did not happen"
   ]
  },
  {
   "cell_type": "code",
   "execution_count": 12,
   "metadata": {},
   "outputs": [],
   "source": [
    "df = df[(df['Avg distance'] != 0) & (df['Billing minutes'] != 0)]"
   ]
  },
  {
   "cell_type": "markdown",
   "metadata": {},
   "source": [
    "### 2.3. Filling na kmh\n",
    "formula = Avg distance/(Billing minutes/60)"
   ]
  },
  {
   "cell_type": "code",
   "execution_count": 13,
   "metadata": {},
   "outputs": [],
   "source": [
    "# df['kmh'] = df.apply(lambda row : row['Avg distance']*(row['Billing minutes']/60) if np.isnan(row['kmh']) else row['kmh'],axis=1)"
   ]
  },
  {
   "cell_type": "code",
   "execution_count": 14,
   "metadata": {},
   "outputs": [],
   "source": [
    "df['kmh'].fillna(df['Avg distance']*(df['Billing minutes']/60),inplace=True)"
   ]
  },
  {
   "cell_type": "markdown",
   "metadata": {},
   "source": [
    "### 2.3. Filling empty Lat Lon Coords by similar Address rows"
   ]
  },
  {
   "cell_type": "code",
   "execution_count": 15,
   "metadata": {},
   "outputs": [],
   "source": [
    "AddressCols = ['Address','Lat','Lon','neighborhood','Coords']\n",
    "df[AddressCols] = df[AddressCols].sort_values(['Address']).ffill()"
   ]
  },
  {
   "cell_type": "markdown",
   "metadata": {},
   "source": [
    "### 2.3. Filling na weather data with previous data"
   ]
  },
  {
   "cell_type": "code",
   "execution_count": 16,
   "metadata": {},
   "outputs": [],
   "source": [
    "weatherCols = ['Time','Temprature','Max Temprature','Min Temprature','Relative Humidity','Amount of Rain','Wind Speed','Wind Direction','Max Wind Speed per Min','Max Win Speed per 10 Min']\n",
    "df[weatherCols] = df[weatherCols].sort_values(['Time']).ffill()"
   ]
  },
  {
   "cell_type": "markdown",
   "metadata": {},
   "source": [
    "### 2.3. Filling na Area and Population\n",
    "Filling by same neighborhoods"
   ]
  },
  {
   "cell_type": "code",
   "execution_count": 17,
   "metadata": {},
   "outputs": [],
   "source": [
    "neighborhoodMetaCols = [\"neighborhood\",\"Area\",\"Population\"]\n",
    "df[neighborhoodMetaCols] = df[neighborhoodMetaCols].sort_values(['neighborhood']).ffill()"
   ]
  },
  {
   "cell_type": "markdown",
   "metadata": {},
   "source": [
    "### 2.3. Delete empty target rows"
   ]
  },
  {
   "cell_type": "code",
   "execution_count": 18,
   "metadata": {},
   "outputs": [],
   "source": [
    "df.dropna(subset=['count'],inplace=True)"
   ]
  },
  {
   "cell_type": "markdown",
   "metadata": {},
   "source": [
    "### 2.3. Delete unneeded columns"
   ]
  },
  {
   "cell_type": "code",
   "execution_count": 19,
   "metadata": {},
   "outputs": [],
   "source": [
    "df.drop([\"Category\",\"Car id\",\"Order number\",\"Address\",\"Time\",\"Street\",\"City\",\"Country\",\"Address_c\",\"Address_c2\",\"Street_c\",\"Coords\",\"Lat\",\"Lon\",\"Avg distance\",\"Billing minutes\",\"kmh\",\"Minute\",\"Max Wind Speed per Min\",\"Max Win Speed per 10 Min\"],axis=1,inplace=True)\n",
    "# After visualization delete Coords, Date"
   ]
  },
  {
   "cell_type": "code",
   "execution_count": 20,
   "metadata": {},
   "outputs": [],
   "source": [
    "to_numeric = [\"Year\", \"Month\", \"Day\", \"Hour\"]\n",
    "df[to_numeric] = df[to_numeric].apply(pd.to_numeric)\n",
    "df[\"Date\"] = pd.to_datetime(df[\"Date\"])"
   ]
  },
  {
   "cell_type": "code",
   "execution_count": 21,
   "metadata": {},
   "outputs": [
    {
     "name": "stdout",
     "output_type": "stream",
     "text": [
      "<class 'pandas.core.frame.DataFrame'>\n",
      "Int64Index: 91370 entries, 0 to 136152\n",
      "Data columns (total 16 columns):\n",
      " #   Column             Non-Null Count  Dtype         \n",
      "---  ------             --------------  -----         \n",
      " 0   neighborhood       91370 non-null  object        \n",
      " 1   Area               91370 non-null  float64       \n",
      " 2   Population         91370 non-null  float64       \n",
      " 3   Date               91370 non-null  datetime64[ns]\n",
      " 4   Year               91370 non-null  float64       \n",
      " 5   Month              91370 non-null  float64       \n",
      " 6   Day                91370 non-null  float64       \n",
      " 7   Hour               91370 non-null  float64       \n",
      " 8   Temprature         91370 non-null  float64       \n",
      " 9   Max Temprature     91370 non-null  float64       \n",
      " 10  Min Temprature     91370 non-null  float64       \n",
      " 11  Relative Humidity  91370 non-null  float64       \n",
      " 12  Amount of Rain     91370 non-null  float64       \n",
      " 13  Wind Speed         91370 non-null  float64       \n",
      " 14  Wind Direction     91370 non-null  float64       \n",
      " 15  count              91370 non-null  float64       \n",
      "dtypes: datetime64[ns](1), float64(14), object(1)\n",
      "memory usage: 11.5+ MB\n",
      "\n",
      "shape: (91370, 16)\n",
      "\n",
      "neighborhood         0\n",
      "Area                 0\n",
      "Population           0\n",
      "Date                 0\n",
      "Year                 0\n",
      "Month                0\n",
      "Day                  0\n",
      "Hour                 0\n",
      "Temprature           0\n",
      "Max Temprature       0\n",
      "Min Temprature       0\n",
      "Relative Humidity    0\n",
      "Amount of Rain       0\n",
      "Wind Speed           0\n",
      "Wind Direction       0\n",
      "count                0\n",
      "dtype: int64\n"
     ]
    }
   ],
   "source": [
    "print_info(df)"
   ]
  },
  {
   "cell_type": "code",
   "execution_count": 22,
   "metadata": {},
   "outputs": [],
   "source": [
    "df = df.groupby(['neighborhood','Date','Hour']).agg({\n",
    "    'Area': 'first',\n",
    "    'Population': 'first',\n",
    "    'Year': 'first',\n",
    "    'Month': 'first',\n",
    "    'Day': 'first',\n",
    "    'Temprature': 'mean',\n",
    "    'Max Temprature': 'max',\n",
    "    'Min Temprature': 'min',\n",
    "    'Relative Humidity': 'mean',\n",
    "    'Amount of Rain': 'mean',\n",
    "    'Wind Speed': 'mean',\n",
    "    'Wind Direction': 'mean',\n",
    "    'count': 'first'\n",
    "}).reset_index()"
   ]
  },
  {
   "cell_type": "code",
   "execution_count": 23,
   "metadata": {},
   "outputs": [
    {
     "data": {
      "text/html": [
       "<div>\n",
       "<style scoped>\n",
       "    .dataframe tbody tr th:only-of-type {\n",
       "        vertical-align: middle;\n",
       "    }\n",
       "\n",
       "    .dataframe tbody tr th {\n",
       "        vertical-align: top;\n",
       "    }\n",
       "\n",
       "    .dataframe thead th {\n",
       "        text-align: right;\n",
       "    }\n",
       "</style>\n",
       "<table border=\"1\" class=\"dataframe\">\n",
       "  <thead>\n",
       "    <tr style=\"text-align: right;\">\n",
       "      <th></th>\n",
       "      <th>neighborhood</th>\n",
       "      <th>Date</th>\n",
       "      <th>Hour</th>\n",
       "      <th>Area</th>\n",
       "      <th>Population</th>\n",
       "      <th>Year</th>\n",
       "      <th>Month</th>\n",
       "      <th>Day</th>\n",
       "      <th>Temprature</th>\n",
       "      <th>Max Temprature</th>\n",
       "      <th>Min Temprature</th>\n",
       "      <th>Relative Humidity</th>\n",
       "      <th>Amount of Rain</th>\n",
       "      <th>Wind Speed</th>\n",
       "      <th>Wind Direction</th>\n",
       "      <th>count</th>\n",
       "    </tr>\n",
       "  </thead>\n",
       "  <tbody>\n",
       "    <tr>\n",
       "      <th>0</th>\n",
       "      <td>'נאות אפקה א</td>\n",
       "      <td>2017-10-23</td>\n",
       "      <td>9.0</td>\n",
       "      <td>353611.36</td>\n",
       "      <td>3035.0</td>\n",
       "      <td>2017.0</td>\n",
       "      <td>10.0</td>\n",
       "      <td>23.0</td>\n",
       "      <td>25.25</td>\n",
       "      <td>26.0</td>\n",
       "      <td>24.4</td>\n",
       "      <td>53.33</td>\n",
       "      <td>0.0</td>\n",
       "      <td>1.72</td>\n",
       "      <td>276.17</td>\n",
       "      <td>5.0</td>\n",
       "    </tr>\n",
       "    <tr>\n",
       "      <th>1</th>\n",
       "      <td>'נאות אפקה א</td>\n",
       "      <td>2017-10-23</td>\n",
       "      <td>12.0</td>\n",
       "      <td>353611.36</td>\n",
       "      <td>3035.0</td>\n",
       "      <td>2017.0</td>\n",
       "      <td>10.0</td>\n",
       "      <td>23.0</td>\n",
       "      <td>25.65</td>\n",
       "      <td>26.2</td>\n",
       "      <td>25.0</td>\n",
       "      <td>58.67</td>\n",
       "      <td>0.0</td>\n",
       "      <td>4.25</td>\n",
       "      <td>302.17</td>\n",
       "      <td>27.0</td>\n",
       "    </tr>\n",
       "    <tr>\n",
       "      <th>2</th>\n",
       "      <td>'נאות אפקה א</td>\n",
       "      <td>2017-10-23</td>\n",
       "      <td>22.0</td>\n",
       "      <td>353611.36</td>\n",
       "      <td>3035.0</td>\n",
       "      <td>2017.0</td>\n",
       "      <td>10.0</td>\n",
       "      <td>23.0</td>\n",
       "      <td>22.92</td>\n",
       "      <td>23.2</td>\n",
       "      <td>22.7</td>\n",
       "      <td>62.33</td>\n",
       "      <td>0.0</td>\n",
       "      <td>1.37</td>\n",
       "      <td>127.17</td>\n",
       "      <td>12.0</td>\n",
       "    </tr>\n",
       "    <tr>\n",
       "      <th>3</th>\n",
       "      <td>'נאות אפקה א</td>\n",
       "      <td>2017-10-24</td>\n",
       "      <td>7.0</td>\n",
       "      <td>353611.36</td>\n",
       "      <td>3035.0</td>\n",
       "      <td>2017.0</td>\n",
       "      <td>10.0</td>\n",
       "      <td>24.0</td>\n",
       "      <td>20.83</td>\n",
       "      <td>22.0</td>\n",
       "      <td>19.7</td>\n",
       "      <td>69.50</td>\n",
       "      <td>0.0</td>\n",
       "      <td>2.58</td>\n",
       "      <td>119.67</td>\n",
       "      <td>1.0</td>\n",
       "    </tr>\n",
       "    <tr>\n",
       "      <th>4</th>\n",
       "      <td>'נאות אפקה א</td>\n",
       "      <td>2017-10-24</td>\n",
       "      <td>15.0</td>\n",
       "      <td>353611.36</td>\n",
       "      <td>3035.0</td>\n",
       "      <td>2017.0</td>\n",
       "      <td>10.0</td>\n",
       "      <td>24.0</td>\n",
       "      <td>25.03</td>\n",
       "      <td>25.4</td>\n",
       "      <td>24.7</td>\n",
       "      <td>58.17</td>\n",
       "      <td>0.0</td>\n",
       "      <td>4.07</td>\n",
       "      <td>294.17</td>\n",
       "      <td>4.0</td>\n",
       "    </tr>\n",
       "  </tbody>\n",
       "</table>\n",
       "</div>"
      ],
      "text/plain": [
       "   neighborhood       Date  Hour       Area  Population    Year  Month   Day  \\\n",
       "0  'נאות אפקה א 2017-10-23   9.0  353611.36      3035.0  2017.0   10.0  23.0   \n",
       "1  'נאות אפקה א 2017-10-23  12.0  353611.36      3035.0  2017.0   10.0  23.0   \n",
       "2  'נאות אפקה א 2017-10-23  22.0  353611.36      3035.0  2017.0   10.0  23.0   \n",
       "3  'נאות אפקה א 2017-10-24   7.0  353611.36      3035.0  2017.0   10.0  24.0   \n",
       "4  'נאות אפקה א 2017-10-24  15.0  353611.36      3035.0  2017.0   10.0  24.0   \n",
       "\n",
       "   Temprature  Max Temprature  Min Temprature  Relative Humidity  \\\n",
       "0       25.25            26.0            24.4              53.33   \n",
       "1       25.65            26.2            25.0              58.67   \n",
       "2       22.92            23.2            22.7              62.33   \n",
       "3       20.83            22.0            19.7              69.50   \n",
       "4       25.03            25.4            24.7              58.17   \n",
       "\n",
       "   Amount of Rain  Wind Speed  Wind Direction  count  \n",
       "0             0.0        1.72          276.17    5.0  \n",
       "1             0.0        4.25          302.17   27.0  \n",
       "2             0.0        1.37          127.17   12.0  \n",
       "3             0.0        2.58          119.67    1.0  \n",
       "4             0.0        4.07          294.17    4.0  "
      ]
     },
     "execution_count": 23,
     "metadata": {},
     "output_type": "execute_result"
    }
   ],
   "source": [
    "df.head()"
   ]
  },
  {
   "cell_type": "code",
   "execution_count": 24,
   "metadata": {},
   "outputs": [
    {
     "name": "stdout",
     "output_type": "stream",
     "text": [
      "<class 'pandas.core.frame.DataFrame'>\n",
      "RangeIndex: 51076 entries, 0 to 51075\n",
      "Data columns (total 16 columns):\n",
      " #   Column             Non-Null Count  Dtype         \n",
      "---  ------             --------------  -----         \n",
      " 0   neighborhood       51076 non-null  object        \n",
      " 1   Date               51076 non-null  datetime64[ns]\n",
      " 2   Hour               51076 non-null  float64       \n",
      " 3   Area               51076 non-null  float64       \n",
      " 4   Population         51076 non-null  float64       \n",
      " 5   Year               51076 non-null  float64       \n",
      " 6   Month              51076 non-null  float64       \n",
      " 7   Day                51076 non-null  float64       \n",
      " 8   Temprature         51076 non-null  float64       \n",
      " 9   Max Temprature     51076 non-null  float64       \n",
      " 10  Min Temprature     51076 non-null  float64       \n",
      " 11  Relative Humidity  51076 non-null  float64       \n",
      " 12  Amount of Rain     51076 non-null  float64       \n",
      " 13  Wind Speed         51076 non-null  float64       \n",
      " 14  Wind Direction     51076 non-null  float64       \n",
      " 15  count              51076 non-null  float64       \n",
      "dtypes: datetime64[ns](1), float64(14), object(1)\n",
      "memory usage: 6.0+ MB\n",
      "\n",
      "shape: (51076, 16)\n",
      "\n",
      "neighborhood         0\n",
      "Date                 0\n",
      "Hour                 0\n",
      "Area                 0\n",
      "Population           0\n",
      "Year                 0\n",
      "Month                0\n",
      "Day                  0\n",
      "Temprature           0\n",
      "Max Temprature       0\n",
      "Min Temprature       0\n",
      "Relative Humidity    0\n",
      "Amount of Rain       0\n",
      "Wind Speed           0\n",
      "Wind Direction       0\n",
      "count                0\n",
      "dtype: int64\n"
     ]
    }
   ],
   "source": [
    "print_info(df)"
   ]
  },
  {
   "cell_type": "markdown",
   "metadata": {},
   "source": [
    "<a id=\"step3\"></a>\n",
    "# Step 3: Visualization"
   ]
  },
  {
   "cell_type": "code",
   "execution_count": 25,
   "metadata": {},
   "outputs": [
    {
     "data": {
      "text/html": [
       "<div>\n",
       "<style scoped>\n",
       "    .dataframe tbody tr th:only-of-type {\n",
       "        vertical-align: middle;\n",
       "    }\n",
       "\n",
       "    .dataframe tbody tr th {\n",
       "        vertical-align: top;\n",
       "    }\n",
       "\n",
       "    .dataframe thead th {\n",
       "        text-align: right;\n",
       "    }\n",
       "</style>\n",
       "<table border=\"1\" class=\"dataframe\">\n",
       "  <thead>\n",
       "    <tr style=\"text-align: right;\">\n",
       "      <th></th>\n",
       "      <th>neighborhood</th>\n",
       "      <th>Date</th>\n",
       "      <th>Hour</th>\n",
       "      <th>Area</th>\n",
       "      <th>Population</th>\n",
       "      <th>Year</th>\n",
       "      <th>Month</th>\n",
       "      <th>Day</th>\n",
       "      <th>Temprature</th>\n",
       "      <th>Max Temprature</th>\n",
       "      <th>Min Temprature</th>\n",
       "      <th>Relative Humidity</th>\n",
       "      <th>Amount of Rain</th>\n",
       "      <th>Wind Speed</th>\n",
       "      <th>Wind Direction</th>\n",
       "      <th>count</th>\n",
       "    </tr>\n",
       "  </thead>\n",
       "  <tbody>\n",
       "    <tr>\n",
       "      <th>0</th>\n",
       "      <td>'נאות אפקה א</td>\n",
       "      <td>2017-10-23</td>\n",
       "      <td>9.0</td>\n",
       "      <td>353611.36</td>\n",
       "      <td>3035.0</td>\n",
       "      <td>2017.0</td>\n",
       "      <td>10.0</td>\n",
       "      <td>23.0</td>\n",
       "      <td>25.25</td>\n",
       "      <td>26.0</td>\n",
       "      <td>24.4</td>\n",
       "      <td>53.33</td>\n",
       "      <td>0.0</td>\n",
       "      <td>1.72</td>\n",
       "      <td>276.17</td>\n",
       "      <td>5.0</td>\n",
       "    </tr>\n",
       "    <tr>\n",
       "      <th>1</th>\n",
       "      <td>'נאות אפקה א</td>\n",
       "      <td>2017-10-23</td>\n",
       "      <td>12.0</td>\n",
       "      <td>353611.36</td>\n",
       "      <td>3035.0</td>\n",
       "      <td>2017.0</td>\n",
       "      <td>10.0</td>\n",
       "      <td>23.0</td>\n",
       "      <td>25.65</td>\n",
       "      <td>26.2</td>\n",
       "      <td>25.0</td>\n",
       "      <td>58.67</td>\n",
       "      <td>0.0</td>\n",
       "      <td>4.25</td>\n",
       "      <td>302.17</td>\n",
       "      <td>27.0</td>\n",
       "    </tr>\n",
       "    <tr>\n",
       "      <th>2</th>\n",
       "      <td>'נאות אפקה א</td>\n",
       "      <td>2017-10-23</td>\n",
       "      <td>22.0</td>\n",
       "      <td>353611.36</td>\n",
       "      <td>3035.0</td>\n",
       "      <td>2017.0</td>\n",
       "      <td>10.0</td>\n",
       "      <td>23.0</td>\n",
       "      <td>22.92</td>\n",
       "      <td>23.2</td>\n",
       "      <td>22.7</td>\n",
       "      <td>62.33</td>\n",
       "      <td>0.0</td>\n",
       "      <td>1.37</td>\n",
       "      <td>127.17</td>\n",
       "      <td>12.0</td>\n",
       "    </tr>\n",
       "    <tr>\n",
       "      <th>3</th>\n",
       "      <td>'נאות אפקה א</td>\n",
       "      <td>2017-10-24</td>\n",
       "      <td>7.0</td>\n",
       "      <td>353611.36</td>\n",
       "      <td>3035.0</td>\n",
       "      <td>2017.0</td>\n",
       "      <td>10.0</td>\n",
       "      <td>24.0</td>\n",
       "      <td>20.83</td>\n",
       "      <td>22.0</td>\n",
       "      <td>19.7</td>\n",
       "      <td>69.50</td>\n",
       "      <td>0.0</td>\n",
       "      <td>2.58</td>\n",
       "      <td>119.67</td>\n",
       "      <td>1.0</td>\n",
       "    </tr>\n",
       "    <tr>\n",
       "      <th>4</th>\n",
       "      <td>'נאות אפקה א</td>\n",
       "      <td>2017-10-24</td>\n",
       "      <td>15.0</td>\n",
       "      <td>353611.36</td>\n",
       "      <td>3035.0</td>\n",
       "      <td>2017.0</td>\n",
       "      <td>10.0</td>\n",
       "      <td>24.0</td>\n",
       "      <td>25.03</td>\n",
       "      <td>25.4</td>\n",
       "      <td>24.7</td>\n",
       "      <td>58.17</td>\n",
       "      <td>0.0</td>\n",
       "      <td>4.07</td>\n",
       "      <td>294.17</td>\n",
       "      <td>4.0</td>\n",
       "    </tr>\n",
       "  </tbody>\n",
       "</table>\n",
       "</div>"
      ],
      "text/plain": [
       "   neighborhood       Date  Hour       Area  Population    Year  Month   Day  \\\n",
       "0  'נאות אפקה א 2017-10-23   9.0  353611.36      3035.0  2017.0   10.0  23.0   \n",
       "1  'נאות אפקה א 2017-10-23  12.0  353611.36      3035.0  2017.0   10.0  23.0   \n",
       "2  'נאות אפקה א 2017-10-23  22.0  353611.36      3035.0  2017.0   10.0  23.0   \n",
       "3  'נאות אפקה א 2017-10-24   7.0  353611.36      3035.0  2017.0   10.0  24.0   \n",
       "4  'נאות אפקה א 2017-10-24  15.0  353611.36      3035.0  2017.0   10.0  24.0   \n",
       "\n",
       "   Temprature  Max Temprature  Min Temprature  Relative Humidity  \\\n",
       "0       25.25            26.0            24.4              53.33   \n",
       "1       25.65            26.2            25.0              58.67   \n",
       "2       22.92            23.2            22.7              62.33   \n",
       "3       20.83            22.0            19.7              69.50   \n",
       "4       25.03            25.4            24.7              58.17   \n",
       "\n",
       "   Amount of Rain  Wind Speed  Wind Direction  count  \n",
       "0             0.0        1.72          276.17    5.0  \n",
       "1             0.0        4.25          302.17   27.0  \n",
       "2             0.0        1.37          127.17   12.0  \n",
       "3             0.0        2.58          119.67    1.0  \n",
       "4             0.0        4.07          294.17    4.0  "
      ]
     },
     "execution_count": 25,
     "metadata": {},
     "output_type": "execute_result"
    }
   ],
   "source": [
    "df.head()"
   ]
  },
  {
   "cell_type": "code",
   "execution_count": 26,
   "metadata": {},
   "outputs": [
    {
     "data": {
      "text/html": [
       "<div>\n",
       "<style scoped>\n",
       "    .dataframe tbody tr th:only-of-type {\n",
       "        vertical-align: middle;\n",
       "    }\n",
       "\n",
       "    .dataframe tbody tr th {\n",
       "        vertical-align: top;\n",
       "    }\n",
       "\n",
       "    .dataframe thead th {\n",
       "        text-align: right;\n",
       "    }\n",
       "</style>\n",
       "<table border=\"1\" class=\"dataframe\">\n",
       "  <thead>\n",
       "    <tr style=\"text-align: right;\">\n",
       "      <th></th>\n",
       "      <th>neighborhood</th>\n",
       "      <th>Date</th>\n",
       "      <th>Hour</th>\n",
       "      <th>Area</th>\n",
       "      <th>Population</th>\n",
       "      <th>Year</th>\n",
       "      <th>Month</th>\n",
       "      <th>Day</th>\n",
       "      <th>Temprature</th>\n",
       "      <th>Max Temprature</th>\n",
       "      <th>Min Temprature</th>\n",
       "      <th>Relative Humidity</th>\n",
       "      <th>Amount of Rain</th>\n",
       "      <th>Wind Speed</th>\n",
       "      <th>Wind Direction</th>\n",
       "      <th>count</th>\n",
       "    </tr>\n",
       "  </thead>\n",
       "  <tbody>\n",
       "    <tr>\n",
       "      <th>5948</th>\n",
       "      <td>בבלי</td>\n",
       "      <td>2017-10-23</td>\n",
       "      <td>0.0</td>\n",
       "      <td>789096.26</td>\n",
       "      <td>9403.0</td>\n",
       "      <td>2017.0</td>\n",
       "      <td>10.0</td>\n",
       "      <td>23.0</td>\n",
       "      <td>20.53</td>\n",
       "      <td>20.8</td>\n",
       "      <td>20.1</td>\n",
       "      <td>66.67</td>\n",
       "      <td>0.0</td>\n",
       "      <td>2.53</td>\n",
       "      <td>117.00</td>\n",
       "      <td>9.0</td>\n",
       "    </tr>\n",
       "    <tr>\n",
       "      <th>5949</th>\n",
       "      <td>בבלי</td>\n",
       "      <td>2017-10-23</td>\n",
       "      <td>7.0</td>\n",
       "      <td>789096.26</td>\n",
       "      <td>9403.0</td>\n",
       "      <td>2017.0</td>\n",
       "      <td>10.0</td>\n",
       "      <td>23.0</td>\n",
       "      <td>20.38</td>\n",
       "      <td>21.6</td>\n",
       "      <td>19.3</td>\n",
       "      <td>67.00</td>\n",
       "      <td>0.0</td>\n",
       "      <td>3.08</td>\n",
       "      <td>121.83</td>\n",
       "      <td>3.0</td>\n",
       "    </tr>\n",
       "    <tr>\n",
       "      <th>5950</th>\n",
       "      <td>בבלי</td>\n",
       "      <td>2017-10-23</td>\n",
       "      <td>8.0</td>\n",
       "      <td>789096.26</td>\n",
       "      <td>9403.0</td>\n",
       "      <td>2017.0</td>\n",
       "      <td>10.0</td>\n",
       "      <td>23.0</td>\n",
       "      <td>23.15</td>\n",
       "      <td>25.0</td>\n",
       "      <td>21.6</td>\n",
       "      <td>58.00</td>\n",
       "      <td>0.0</td>\n",
       "      <td>1.83</td>\n",
       "      <td>113.83</td>\n",
       "      <td>1.0</td>\n",
       "    </tr>\n",
       "    <tr>\n",
       "      <th>5951</th>\n",
       "      <td>בבלי</td>\n",
       "      <td>2017-10-23</td>\n",
       "      <td>16.0</td>\n",
       "      <td>789096.26</td>\n",
       "      <td>9403.0</td>\n",
       "      <td>2017.0</td>\n",
       "      <td>10.0</td>\n",
       "      <td>23.0</td>\n",
       "      <td>24.37</td>\n",
       "      <td>24.8</td>\n",
       "      <td>24.0</td>\n",
       "      <td>60.00</td>\n",
       "      <td>0.0</td>\n",
       "      <td>4.03</td>\n",
       "      <td>326.00</td>\n",
       "      <td>20.0</td>\n",
       "    </tr>\n",
       "    <tr>\n",
       "      <th>5952</th>\n",
       "      <td>בבלי</td>\n",
       "      <td>2017-10-23</td>\n",
       "      <td>17.0</td>\n",
       "      <td>789096.26</td>\n",
       "      <td>9403.0</td>\n",
       "      <td>2017.0</td>\n",
       "      <td>10.0</td>\n",
       "      <td>23.0</td>\n",
       "      <td>23.78</td>\n",
       "      <td>24.1</td>\n",
       "      <td>23.7</td>\n",
       "      <td>60.83</td>\n",
       "      <td>0.0</td>\n",
       "      <td>3.40</td>\n",
       "      <td>332.17</td>\n",
       "      <td>6.0</td>\n",
       "    </tr>\n",
       "    <tr>\n",
       "      <th>...</th>\n",
       "      <td>...</td>\n",
       "      <td>...</td>\n",
       "      <td>...</td>\n",
       "      <td>...</td>\n",
       "      <td>...</td>\n",
       "      <td>...</td>\n",
       "      <td>...</td>\n",
       "      <td>...</td>\n",
       "      <td>...</td>\n",
       "      <td>...</td>\n",
       "      <td>...</td>\n",
       "      <td>...</td>\n",
       "      <td>...</td>\n",
       "      <td>...</td>\n",
       "      <td>...</td>\n",
       "      <td>...</td>\n",
       "    </tr>\n",
       "    <tr>\n",
       "      <th>6821</th>\n",
       "      <td>בבלי</td>\n",
       "      <td>2018-04-30</td>\n",
       "      <td>15.0</td>\n",
       "      <td>789096.26</td>\n",
       "      <td>9403.0</td>\n",
       "      <td>2018.0</td>\n",
       "      <td>4.0</td>\n",
       "      <td>30.0</td>\n",
       "      <td>24.90</td>\n",
       "      <td>26.2</td>\n",
       "      <td>24.4</td>\n",
       "      <td>80.00</td>\n",
       "      <td>0.0</td>\n",
       "      <td>5.67</td>\n",
       "      <td>61.83</td>\n",
       "      <td>9.0</td>\n",
       "    </tr>\n",
       "    <tr>\n",
       "      <th>6822</th>\n",
       "      <td>בבלי</td>\n",
       "      <td>2018-04-30</td>\n",
       "      <td>17.0</td>\n",
       "      <td>789096.26</td>\n",
       "      <td>9403.0</td>\n",
       "      <td>2018.0</td>\n",
       "      <td>4.0</td>\n",
       "      <td>30.0</td>\n",
       "      <td>24.90</td>\n",
       "      <td>25.6</td>\n",
       "      <td>24.5</td>\n",
       "      <td>72.50</td>\n",
       "      <td>0.0</td>\n",
       "      <td>7.25</td>\n",
       "      <td>3.50</td>\n",
       "      <td>2.0</td>\n",
       "    </tr>\n",
       "    <tr>\n",
       "      <th>6823</th>\n",
       "      <td>בבלי</td>\n",
       "      <td>2018-04-30</td>\n",
       "      <td>18.0</td>\n",
       "      <td>789096.26</td>\n",
       "      <td>9403.0</td>\n",
       "      <td>2018.0</td>\n",
       "      <td>4.0</td>\n",
       "      <td>30.0</td>\n",
       "      <td>24.50</td>\n",
       "      <td>25.1</td>\n",
       "      <td>24.2</td>\n",
       "      <td>76.00</td>\n",
       "      <td>0.0</td>\n",
       "      <td>5.73</td>\n",
       "      <td>3.50</td>\n",
       "      <td>7.0</td>\n",
       "    </tr>\n",
       "    <tr>\n",
       "      <th>6824</th>\n",
       "      <td>בבלי</td>\n",
       "      <td>2018-04-30</td>\n",
       "      <td>21.0</td>\n",
       "      <td>789096.26</td>\n",
       "      <td>9403.0</td>\n",
       "      <td>2018.0</td>\n",
       "      <td>4.0</td>\n",
       "      <td>30.0</td>\n",
       "      <td>24.88</td>\n",
       "      <td>25.2</td>\n",
       "      <td>24.2</td>\n",
       "      <td>72.17</td>\n",
       "      <td>0.0</td>\n",
       "      <td>0.55</td>\n",
       "      <td>103.83</td>\n",
       "      <td>2.0</td>\n",
       "    </tr>\n",
       "    <tr>\n",
       "      <th>6825</th>\n",
       "      <td>בבלי</td>\n",
       "      <td>2018-04-30</td>\n",
       "      <td>22.0</td>\n",
       "      <td>789096.26</td>\n",
       "      <td>9403.0</td>\n",
       "      <td>2018.0</td>\n",
       "      <td>4.0</td>\n",
       "      <td>30.0</td>\n",
       "      <td>25.52</td>\n",
       "      <td>26.9</td>\n",
       "      <td>24.5</td>\n",
       "      <td>53.67</td>\n",
       "      <td>0.0</td>\n",
       "      <td>1.68</td>\n",
       "      <td>41.50</td>\n",
       "      <td>2.0</td>\n",
       "    </tr>\n",
       "  </tbody>\n",
       "</table>\n",
       "<p>878 rows × 16 columns</p>\n",
       "</div>"
      ],
      "text/plain": [
       "     neighborhood       Date  Hour       Area  Population    Year  Month  \\\n",
       "5948         בבלי 2017-10-23   0.0  789096.26      9403.0  2017.0   10.0   \n",
       "5949         בבלי 2017-10-23   7.0  789096.26      9403.0  2017.0   10.0   \n",
       "5950         בבלי 2017-10-23   8.0  789096.26      9403.0  2017.0   10.0   \n",
       "5951         בבלי 2017-10-23  16.0  789096.26      9403.0  2017.0   10.0   \n",
       "5952         בבלי 2017-10-23  17.0  789096.26      9403.0  2017.0   10.0   \n",
       "...           ...        ...   ...        ...         ...     ...    ...   \n",
       "6821         בבלי 2018-04-30  15.0  789096.26      9403.0  2018.0    4.0   \n",
       "6822         בבלי 2018-04-30  17.0  789096.26      9403.0  2018.0    4.0   \n",
       "6823         בבלי 2018-04-30  18.0  789096.26      9403.0  2018.0    4.0   \n",
       "6824         בבלי 2018-04-30  21.0  789096.26      9403.0  2018.0    4.0   \n",
       "6825         בבלי 2018-04-30  22.0  789096.26      9403.0  2018.0    4.0   \n",
       "\n",
       "       Day  Temprature  Max Temprature  Min Temprature  Relative Humidity  \\\n",
       "5948  23.0       20.53            20.8            20.1              66.67   \n",
       "5949  23.0       20.38            21.6            19.3              67.00   \n",
       "5950  23.0       23.15            25.0            21.6              58.00   \n",
       "5951  23.0       24.37            24.8            24.0              60.00   \n",
       "5952  23.0       23.78            24.1            23.7              60.83   \n",
       "...    ...         ...             ...             ...                ...   \n",
       "6821  30.0       24.90            26.2            24.4              80.00   \n",
       "6822  30.0       24.90            25.6            24.5              72.50   \n",
       "6823  30.0       24.50            25.1            24.2              76.00   \n",
       "6824  30.0       24.88            25.2            24.2              72.17   \n",
       "6825  30.0       25.52            26.9            24.5              53.67   \n",
       "\n",
       "      Amount of Rain  Wind Speed  Wind Direction  count  \n",
       "5948             0.0        2.53          117.00    9.0  \n",
       "5949             0.0        3.08          121.83    3.0  \n",
       "5950             0.0        1.83          113.83    1.0  \n",
       "5951             0.0        4.03          326.00   20.0  \n",
       "5952             0.0        3.40          332.17    6.0  \n",
       "...              ...         ...             ...    ...  \n",
       "6821             0.0        5.67           61.83    9.0  \n",
       "6822             0.0        7.25            3.50    2.0  \n",
       "6823             0.0        5.73            3.50    7.0  \n",
       "6824             0.0        0.55          103.83    2.0  \n",
       "6825             0.0        1.68           41.50    2.0  \n",
       "\n",
       "[878 rows x 16 columns]"
      ]
     },
     "execution_count": 26,
     "metadata": {},
     "output_type": "execute_result"
    }
   ],
   "source": [
    "df[df['neighborhood'] == \"בבלי\"]"
   ]
  },
  {
   "cell_type": "code",
   "execution_count": 27,
   "metadata": {},
   "outputs": [
    {
     "data": {
      "application/vnd.jupyter.widget-view+json": {
       "model_id": "7f16af7a9386475d95a6d765678f72fe",
       "version_major": 2,
       "version_minor": 0
      },
      "text/plain": [
       "interactive(children=(Dropdown(description='column', options=('Hour', 'Area', 'Population', 'Year', 'Month', '…"
      ]
     },
     "metadata": {},
     "output_type": "display_data"
    }
   ],
   "source": [
    "@interact\n",
    "def show_more_then(column=list(df.select_dtypes('number').columns),x=(0,2000,5)):\n",
    "    tmp = df.loc[df[column] > x].sort_values(by=column)\n",
    "    return tmp"
   ]
  },
  {
   "cell_type": "code",
   "execution_count": 28,
   "metadata": {},
   "outputs": [
    {
     "data": {
      "application/vnd.jupyter.widget-view+json": {
       "model_id": "74aa0af87f7a40d0a86f8ab2e64fa16b",
       "version_major": 2,
       "version_minor": 0
      },
      "text/plain": [
       "interactive(children=(Dropdown(description='column1', options=('Hour', 'Area', 'Population', 'Year', 'Month', …"
      ]
     },
     "metadata": {},
     "output_type": "display_data"
    }
   ],
   "source": [
    "@interact\n",
    "def correlation(column1=list(df.select_dtypes('number').columns),\n",
    "                column2=list(df.select_dtypes('number').columns)):\n",
    "    print(f\"Correlation: {df[column1].corr(df[column2])}\")"
   ]
  },
  {
   "cell_type": "markdown",
   "metadata": {},
   "source": [
    "### Sum of cares in all dates by neighborhoods"
   ]
  },
  {
   "cell_type": "code",
   "execution_count": 37,
   "metadata": {},
   "outputs": [
    {
     "data": {
      "application/vnd.jupyter.widget-view+json": {
       "model_id": "e9fefe71700b4d7a8bfef6cae7920de8",
       "version_major": 2,
       "version_minor": 0
      },
      "text/plain": [
       "interactive(children=(FloatSlider(value=25750.0, description='threshold', max=51559.0, step=50.0), Output()), …"
      ]
     },
     "metadata": {},
     "output_type": "display_data"
    }
   ],
   "source": [
    "nei = df[['neighborhood','count']].groupby('neighborhood').sum().reset_index()\n",
    "nei['neighborhood'] = nei.loc[:,'neighborhood'].apply(lambda x: x[::-1])\n",
    "nei = nei.sort_values('count',ascending=False)\n",
    "@interact\n",
    "def barplot(threshold=(0,nei['count'].max(),50)):\n",
    "    nei_more_then = nei[nei['count'] > threshold]\n",
    "    plt.figure(figsize=(15,5))\n",
    "    sns.barplot(x=nei_more_then['neighborhood'],y=nei_more_then['count'])\n",
    "    plt.xticks(rotation=90)\n",
    "    plt.yticks(np.arange(int(nei_more_then['count'].min()/10000)*10000, nei_more_then['count'].max(), 10000)) \n",
    "    plt.xlabel(\"neighborhood\")\n",
    "    plt.ylabel(\"count\")"
   ]
  },
  {
   "cell_type": "code",
   "execution_count": 38,
   "metadata": {},
   "outputs": [],
   "source": [
    "nei = df[['neighborhood','count']].groupby('neighborhood').sum().reset_index()\n",
    "nei['neighborhood'] = nei.loc[:,'neighborhood'].apply(lambda x: x[::-1])\n",
    "nei = nei.sort_values('count',ascending=False)\n",
    "nei_more_then = nei[nei['count'] > 0]"
   ]
  },
  {
   "cell_type": "code",
   "execution_count": 31,
   "metadata": {},
   "outputs": [
    {
     "data": {
      "text/plain": [
       "Text(0, 0.5, 'count')"
      ]
     },
     "execution_count": 31,
     "metadata": {},
     "output_type": "execute_result"
    },
    {
     "data": {
      "image/png": "[encoded data removed]",
      "text/plain": [
       "<Figure size 1080x360 with 1 Axes>"
      ]
     },
     "metadata": {},
     "output_type": "display_data"
    }
   ],
   "source": [
    "plt.figure(figsize=(15,5))\n",
    "sns.barplot(x=nei_more_then['neighborhood'],y=nei_more_then['count'])\n",
    "plt.xticks(rotation=90)\n",
    "plt.yticks(np.arange(int(nei_more_then['count'].min()/1000)*1000, nei_more_then['count'].max(), 10000)) \n",
    "plt.xlabel(\"neighborhood\")\n",
    "plt.ylabel(\"count\")"
   ]
  },
  {
   "cell_type": "code",
   "execution_count": 53,
   "metadata": {},
   "outputs": [],
   "source": [
    "# nei_more_then.iplot(kind='bar',x=nei_more_then['neighborhood'],y=nei_more_then['count'])\n",
    "# plt.xticks(rotation=90)\n",
    "# plt.yticks(np.arange(int(nei_more_then['count'].min()/1000)*1000, nei_more_then['count'].max(), 10000)) \n",
    "# plt.xlabel(\"neighborhood\")\n",
    "# plt.ylabel(\"count\")"
   ]
  },
  {
   "cell_type": "markdown",
   "metadata": {},
   "source": [
    "### Number of cars in neigbhoor by date"
   ]
  },
  {
   "cell_type": "code",
   "execution_count": null,
   "metadata": {},
   "outputs": [],
   "source": []
  }
 ],
 "metadata": {
  "kernelspec": {
   "display_name": "Python 3",
   "language": "python",
   "name": "python3"
  },
  "language_info": {
   "codemirror_mode": {
    "name": "ipython",
    "version": 3
   },
   "file_extension": ".py",
   "mimetype": "text/x-python",
   "name": "python",
   "nbconvert_exporter": "python",
   "pygments_lexer": "ipython3",
   "version": "3.7.4"
  }
 },
 "nbformat": 4,
 "nbformat_minor": 4
}
