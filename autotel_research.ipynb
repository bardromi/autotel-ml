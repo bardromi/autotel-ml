{
 "cells": [
  {
   "cell_type": "markdown",
   "metadata": {},
   "source": [
    "# Table of Contents\n",
    "1. [Step 1: Gather the Data](#step1)\n",
    "1. [Step 2: Prepare Data for Consumption](#step2)\n",
    "   - [2.1 Import Libraries](#step2.1)\n",
    "   - [2.1 Meet The Data](#step2.2)\n",
    "   - [2.3 Clean Data](#step2.3)\n",
    "   - [2.4 Convert Formats](#step2.4)"
   ]
  },
  {
   "cell_type": "markdown",
   "metadata": {},
   "source": [
    "<a id=\"step1\"></a>\n",
    "# Step 1: Gather the Data\n",
    "The data collected and created at create_ds.ipynb script"
   ]
  },
  {
   "cell_type": "markdown",
   "metadata": {},
   "source": [
    "<a id=\"step2\"></a>\n",
    "# Step 2: Prepare Data for Consumption"
   ]
  },
  {
   "cell_type": "markdown",
   "metadata": {},
   "source": [
    "<a id=\"step2.1\"></a>\n",
    "## 2.1 Import Libraries"
   ]
  },
  {
   "cell_type": "code",
   "execution_count": 46,
   "metadata": {},
   "outputs": [
    {
     "name": "stdout",
     "output_type": "stream",
     "text": [
      "Python version: 3.7.4 (tags/v3.7.4:e09359112e, Jul  8 2019, 19:29:22) [MSC v.1916 32 bit (Intel)]\n",
      "pandas version: 1.0.3\n",
      "NumPy version: 1.18.2\n",
      "SciPy version: 1.4.1\n",
      "matplotlib version: 3.2.1\n",
      "seaborn version: 0.10.0\n"
     ]
    }
   ],
   "source": [
    "import sys\n",
    "print(\"Python version: {}\". format(sys.version))\n",
    "\n",
    "import pandas as pd\n",
    "print(\"pandas version: {}\". format(pd.__version__))\n",
    "\n",
    "import numpy as np\n",
    "print(\"NumPy version: {}\". format(np.__version__))\n",
    "\n",
    "import scipy as sp\n",
    "print(\"SciPy version: {}\". format(sp.__version__)) \n",
    "\n",
    "import matplotlib\n",
    "import matplotlib.pyplot as plt\n",
    "print(\"matplotlib version: {}\". format(matplotlib.__version__))\n",
    "\n",
    "import seaborn as sns\n",
    "print(\"seaborn version: {}\". format(sns.__version__))\n",
    "%matplotlib inline\n",
    "\n",
    "pd.set_option('display.max_columns', None)\n",
    "sns.set(style='white', context='notebook', palette='deep')"
   ]
  },
  {
   "cell_type": "markdown",
   "metadata": {},
   "source": [
    "<a id=\"step2.2\"></a>\n",
    "## 2.2 Meet The Data"
   ]
  },
  {
   "cell_type": "markdown",
   "metadata": {},
   "source": [
    "Data explanation should be here"
   ]
  },
  {
   "cell_type": "code",
   "execution_count": 47,
   "metadata": {},
   "outputs": [
    {
     "name": "stderr",
     "output_type": "stream",
     "text": [
      "c:\\projects\\python\\autotel-ml\\venv\\lib\\site-packages\\IPython\\core\\interactiveshell.py:3063: DtypeWarning: Columns (5) have mixed types.Specify dtype option on import or set low_memory=False.\n",
      "  interactivity=interactivity, compiler=compiler, result=result)\n"
     ]
    }
   ],
   "source": [
    "df = pd.read_csv(\"./input/autotel.csv\",dtype={\n",
    "    \"Order number\": \"str\",\n",
    "    \"Year\": \"str\",\n",
    "    \"Month\": \"str\",\n",
    "    \"Day\": \"str\",\n",
    "    \"Hour\": \"str\",\n",
    "    \"Minute\": \"str\",\n",
    "} ,index_col=0)"
   ]
  },
  {
   "cell_type": "code",
   "execution_count": 48,
   "metadata": {},
   "outputs": [],
   "source": [
    "# print(df.isnull().sum())\n",
    "# df.describe(include='all')"
   ]
  },
  {
   "cell_type": "markdown",
   "metadata": {},
   "source": [
    "<a id=\"step2.3\"><a/>\n",
    "## 2.3 Clean Data"
   ]
  },
  {
   "cell_type": "code",
   "execution_count": 49,
   "metadata": {},
   "outputs": [
    {
     "name": "stdout",
     "output_type": "stream",
     "text": [
      "<class 'pandas.core.frame.DataFrame'>\n",
      "Int64Index: 285280 entries, 0 to 300003\n",
      "Data columns (total 35 columns):\n",
      " #   Column                    Non-Null Count   Dtype  \n",
      "---  ------                    --------------   -----  \n",
      " 0   Car id                    285280 non-null  object \n",
      " 1   Order number              285280 non-null  object \n",
      " 2   Category                  285280 non-null  object \n",
      " 3   Avg distance              285280 non-null  int64  \n",
      " 4   Billing minutes           269948 non-null  object \n",
      " 5   Address                   285280 non-null  object \n",
      " 6   Time                      284105 non-null  object \n",
      " 7   kmh                       266294 non-null  float64\n",
      " 8   Coords                    270496 non-null  object \n",
      " 9   Lat                       270496 non-null  float64\n",
      " 10  Lon                       270496 non-null  float64\n",
      " 11  neighborhood              270496 non-null  object \n",
      " 12  Area                      270496 non-null  float64\n",
      " 13  Population                270496 non-null  float64\n",
      " 14  Street                    285280 non-null  object \n",
      " 15  City                      285280 non-null  object \n",
      " 16  Country                   285258 non-null  object \n",
      " 17  Street_c                  284396 non-null  object \n",
      " 18  Address_c                 285280 non-null  object \n",
      " 19  Address_c2                285280 non-null  object \n",
      " 20  Date                      284105 non-null  object \n",
      " 21  Year                      284105 non-null  object \n",
      " 22  Month                     284105 non-null  object \n",
      " 23  Day                       284105 non-null  object \n",
      " 24  Hour                      284105 non-null  object \n",
      " 25  Minute                    284105 non-null  object \n",
      " 26  Temprature                281388 non-null  float64\n",
      " 27  Max Temprature            281388 non-null  float64\n",
      " 28  Min Temprature            281388 non-null  float64\n",
      " 29  Relative Humidity         281388 non-null  float64\n",
      " 30  Amount of Rain            281388 non-null  float64\n",
      " 31  Wind Speed                281388 non-null  float64\n",
      " 32  Wind Direction            281388 non-null  float64\n",
      " 33  Max Wind Speed per Min    281388 non-null  float64\n",
      " 34  Max Win Speed per 10 Min  281388 non-null  float64\n",
      "dtypes: float64(14), int64(1), object(20)\n",
      "memory usage: 56.6+ MB\n"
     ]
    }
   ],
   "source": [
    "df.info()"
   ]
  },
  {
   "cell_type": "markdown",
   "metadata": {},
   "source": [
    "### 2.3. Filling empy billing minutes with 0, most of the time its canceled drive"
   ]
  },
  {
   "cell_type": "code",
   "execution_count": 50,
   "metadata": {},
   "outputs": [],
   "source": [
    "df['Billing minutes'] = pd.to_numeric(df['Billing minutes'],errors='coerce')\n",
    "df['Billing minutes'] = df['Billing minutes'].fillna(0)"
   ]
  },
  {
   "cell_type": "markdown",
   "metadata": {},
   "source": [
    "### 2.3. Delete empty adresses"
   ]
  },
  {
   "cell_type": "code",
   "execution_count": 51,
   "metadata": {},
   "outputs": [],
   "source": [
    "delete_empty_addresses = df[\"Address\"].isnull()"
   ]
  },
  {
   "cell_type": "code",
   "execution_count": 52,
   "metadata": {},
   "outputs": [],
   "source": [
    "df = df[~delete_empty_addresses]\n",
    "# This is works too\n",
    "# df.drop(delete_empty_addresses.index,inplace=True)\n",
    "# df = df[pd.notnull(df['Address'])]"
   ]
  },
  {
   "cell_type": "code",
   "execution_count": 53,
   "metadata": {},
   "outputs": [
    {
     "data": {
      "text/plain": [
       "0"
      ]
     },
     "execution_count": 53,
     "metadata": {},
     "output_type": "execute_result"
    }
   ],
   "source": [
    "df[\"Address\"].isnull().sum()"
   ]
  },
  {
   "cell_type": "markdown",
   "metadata": {},
   "source": [
    "### 2.3. Fill na Street_c by Street\n",
    "the na is only from streets consists only from numbers"
   ]
  },
  {
   "cell_type": "code",
   "execution_count": 54,
   "metadata": {},
   "outputs": [],
   "source": [
    "df['Street_c'].fillna(df['Street'], inplace = True)"
   ]
  },
  {
   "cell_type": "markdown",
   "metadata": {},
   "source": [
    "### 2.3. Delete canceled and NO SHOW category rows"
   ]
  },
  {
   "cell_type": "code",
   "execution_count": 55,
   "metadata": {},
   "outputs": [],
   "source": [
    "df = df[(df['Category'] != 'Canceled') & (df['Category'] != 'NO SHOW')]"
   ]
  },
  {
   "cell_type": "markdown",
   "metadata": {},
   "source": [
    "### 2.3. Delete empty kmh drives\n",
    "Those rows with same start and destination addresses and the drive did not happen"
   ]
  },
  {
   "cell_type": "code",
   "execution_count": 56,
   "metadata": {},
   "outputs": [],
   "source": [
    "df = df[(df['Avg distance'] != 0) & (df['Billing minutes'] != 0)]"
   ]
  },
  {
   "cell_type": "markdown",
   "metadata": {},
   "source": [
    "### 2.3. Filling na kmh\n",
    "formula = Avg distance/(Billing minutes/60)"
   ]
  },
  {
   "cell_type": "code",
   "execution_count": 57,
   "metadata": {},
   "outputs": [],
   "source": [
    "# df['kmh'] = df.apply(lambda row : row['Avg distance']*(row['Billing minutes']/60) if np.isnan(row['kmh']) else row['kmh'],axis=1)"
   ]
  },
  {
   "cell_type": "code",
   "execution_count": 58,
   "metadata": {},
   "outputs": [],
   "source": [
    "df['kmh'].fillna(df['Avg distance']*(df['Billing minutes']/60),inplace=True)"
   ]
  },
  {
   "cell_type": "markdown",
   "metadata": {},
   "source": [
    "### 2.3. Filling empty Lat Lon Coords by similar Address rows"
   ]
  },
  {
   "cell_type": "code",
   "execution_count": 59,
   "metadata": {},
   "outputs": [],
   "source": [
    "AddressCols = ['Address','Lat','Lon','neighborhood','Coords']\n",
    "df[AddressCols] = df[AddressCols].sort_values(['Address']).ffill()"
   ]
  },
  {
   "cell_type": "markdown",
   "metadata": {},
   "source": [
    "### 2.3. Filling na weather data with previous data"
   ]
  },
  {
   "cell_type": "code",
   "execution_count": 60,
   "metadata": {},
   "outputs": [],
   "source": [
    "weatherCols = ['Time','Temprature','Max Temprature','Min Temprature','Relative Humidity','Amount of Rain','Wind Speed','Wind Direction','Max Wind Speed per Min','Max Win Speed per 10 Min']\n",
    "df[weatherCols] = df[weatherCols].sort_values(['Time']).ffill()"
   ]
  },
  {
   "cell_type": "markdown",
   "metadata": {},
   "source": [
    "### 2.3. Filling na Area and Population\n",
    "Filling by same neighborhoods"
   ]
  },
  {
   "cell_type": "code",
   "execution_count": 64,
   "metadata": {},
   "outputs": [],
   "source": [
    "neighborhoodMetaCols = [\"neighborhood\",\"Area\",\"Population\"]\n",
    "df[neighborhoodMetaCols] = df[neighborhoodMetaCols].sort_values(['neighborhood']).ffill()"
   ]
  },
  {
   "cell_type": "markdown",
   "metadata": {},
   "source": [
    "### 2.3. Delete unneeded columns"
   ]
  },
  {
   "cell_type": "code",
   "execution_count": 65,
   "metadata": {},
   "outputs": [
    {
     "name": "stdout",
     "output_type": "stream",
     "text": [
      "<class 'pandas.core.frame.DataFrame'>\n",
      "Int64Index: 257595 entries, 0 to 300001\n",
      "Data columns (total 27 columns):\n",
      " #   Column                    Non-Null Count   Dtype  \n",
      "---  ------                    --------------   -----  \n",
      " 0   Category                  257595 non-null  object \n",
      " 1   Avg distance              257595 non-null  int64  \n",
      " 2   Billing minutes           257595 non-null  float64\n",
      " 3   kmh                       257595 non-null  float64\n",
      " 4   Coords                    257595 non-null  object \n",
      " 5   Lat                       257595 non-null  float64\n",
      " 6   Lon                       257595 non-null  float64\n",
      " 7   neighborhood              257595 non-null  object \n",
      " 8   Area                      257595 non-null  float64\n",
      " 9   Population                257595 non-null  float64\n",
      " 10  Street_c                  257595 non-null  object \n",
      " 11  Address_c2                257595 non-null  object \n",
      " 12  Date                      257595 non-null  object \n",
      " 13  Year                      257595 non-null  object \n",
      " 14  Month                     257595 non-null  object \n",
      " 15  Day                       257595 non-null  object \n",
      " 16  Hour                      257595 non-null  object \n",
      " 17  Minute                    257595 non-null  object \n",
      " 18  Temprature                257595 non-null  float64\n",
      " 19  Max Temprature            257595 non-null  float64\n",
      " 20  Min Temprature            257595 non-null  float64\n",
      " 21  Relative Humidity         257595 non-null  float64\n",
      " 22  Amount of Rain            257595 non-null  float64\n",
      " 23  Wind Speed                257595 non-null  float64\n",
      " 24  Wind Direction            257595 non-null  float64\n",
      " 25  Max Wind Speed per Min    257595 non-null  float64\n",
      " 26  Max Win Speed per 10 Min  257595 non-null  float64\n",
      "dtypes: float64(15), int64(1), object(11)\n",
      "memory usage: 44.2+ MB\n"
     ]
    }
   ],
   "source": [
    "df.info()"
   ]
  },
  {
   "cell_type": "code",
   "execution_count": 62,
   "metadata": {},
   "outputs": [],
   "source": [
    "df.drop([\"Car id\",\"Order number\",\"Address\",\"Time\",\"Street\",\"City\",\"Country\",\"Address_c\"],axis=1,inplace=True)\n",
    "# After visualization delete Coords, Date"
   ]
  },
  {
   "cell_type": "markdown",
   "metadata": {},
   "source": [
    "<a id=\"step2.4\"><a/>\n",
    "## 2.4 Convert Formats"
   ]
  },
  {
   "cell_type": "markdown",
   "metadata": {},
   "source": [
    "### 2.4. Date Formats"
   ]
  },
  {
   "cell_type": "code",
   "execution_count": 18,
   "metadata": {},
   "outputs": [],
   "source": [
    "# df[\"Time\"] = pd.to_datetime(df[\"Time\"])\n",
    "df[\"Date\"] = pd.to_datetime(df[\"Date\"])"
   ]
  },
  {
   "cell_type": "code",
   "execution_count": null,
   "metadata": {},
   "outputs": [],
   "source": []
  },
  {
   "cell_type": "code",
   "execution_count": null,
   "metadata": {},
   "outputs": [],
   "source": []
  }
 ],
 "metadata": {
  "kernelspec": {
   "display_name": "Python 3",
   "language": "python",
   "name": "python3"
  },
  "language_info": {
   "codemirror_mode": {
    "name": "ipython",
    "version": 3
   },
   "file_extension": ".py",
   "mimetype": "text/x-python",
   "name": "python",
   "nbconvert_exporter": "python",
   "pygments_lexer": "ipython3",
   "version": "3.7.4"
  }
 },
 "nbformat": 4,
 "nbformat_minor": 4
}
