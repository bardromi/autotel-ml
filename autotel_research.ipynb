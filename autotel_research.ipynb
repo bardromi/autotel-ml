{
 "cells": [
  {
   "cell_type": "markdown",
   "metadata": {},
   "source": [
    "# Table of Contents\n",
    "1. [Step 1: Gather the Data](#step1)\n",
    "1. [Step 2: Prepare Data for Consumption](#step2)\n",
    "   - [2.1 Import Libraries](#step2.1)\n",
    "   - [2.1 Meet The Data](#step2.2)\n",
    "   - [2.3 Clean Data](#step2.3)\n",
    "   - [2.4 Convert Formats](#step2.4)\n",
    "1. [Step 3: Visualization](#step3)"
   ]
  },
  {
   "cell_type": "markdown",
   "metadata": {},
   "source": [
    "<a id=\"step1\"></a>\n",
    "# Step 1: Gather the Data\n",
    "The data collected and created at create_ds.ipynb script"
   ]
  },
  {
   "cell_type": "markdown",
   "metadata": {},
   "source": [
    "<a id=\"step2\"></a>\n",
    "# Step 2: Prepare Data for Consumption"
   ]
  },
  {
   "cell_type": "markdown",
   "metadata": {},
   "source": [
    "<a id=\"step2.1\"></a>\n",
    "## 2.1 Import Libraries"
   ]
  },
  {
   "cell_type": "code",
   "execution_count": 1,
   "metadata": {},
   "outputs": [
    {
     "name": "stdout",
     "output_type": "stream",
     "text": [
      "Python version: 3.7.4 (tags/v3.7.4:e09359112e, Jul  8 2019, 19:29:22) [MSC v.1916 32 bit (Intel)]\n",
      "pandas version: 1.0.3\n",
      "NumPy version: 1.18.2\n",
      "SciPy version: 1.4.1\n",
      "matplotlib version: 3.2.1\n",
      "seaborn version: 0.10.0\n"
     ]
    }
   ],
   "source": [
    "import sys\n",
    "print(\"Python version: {}\". format(sys.version))\n",
    "\n",
    "import pandas as pd\n",
    "print(\"pandas version: {}\". format(pd.__version__))\n",
    "\n",
    "import numpy as np\n",
    "print(\"NumPy version: {}\". format(np.__version__))\n",
    "\n",
    "import scipy as sp\n",
    "print(\"SciPy version: {}\". format(sp.__version__)) \n",
    "\n",
    "import matplotlib\n",
    "import matplotlib.pyplot as plt\n",
    "print(\"matplotlib version: {}\". format(matplotlib.__version__))\n",
    "\n",
    "import seaborn as sns\n",
    "print(\"seaborn version: {}\". format(sns.__version__))\n",
    "%matplotlib inline\n",
    "\n",
    "pd.set_option('display.max_columns', None)\n",
    "sns.set(style='white', context='notebook', palette='deep')"
   ]
  },
  {
   "cell_type": "markdown",
   "metadata": {},
   "source": [
    "<a id=\"step2.2\"></a>\n",
    "## 2.2 Meet The Data"
   ]
  },
  {
   "cell_type": "markdown",
   "metadata": {},
   "source": [
    "Data explanation should be here"
   ]
  },
  {
   "cell_type": "code",
   "execution_count": 2,
   "metadata": {},
   "outputs": [
    {
     "name": "stderr",
     "output_type": "stream",
     "text": [
      "c:\\projects\\python\\ssd\\venv\\lib\\site-packages\\IPython\\core\\interactiveshell.py:3063: DtypeWarning: Columns (5) have mixed types.Specify dtype option on import or set low_memory=False.\n",
      "  interactivity=interactivity, compiler=compiler, result=result)\n"
     ]
    }
   ],
   "source": [
    "df = pd.read_csv(\"./input/autotel_with_target.csv\",dtype={\n",
    "    \"Order number\": \"str\",\n",
    "    \"Year\": \"str\",\n",
    "    \"Month\": \"str\",\n",
    "    \"Day\": \"str\",\n",
    "    \"Hour\": \"str\",\n",
    "    \"Minute\": \"str\",\n",
    "} ,index_col=0)"
   ]
  },
  {
   "cell_type": "code",
   "execution_count": 3,
   "metadata": {},
   "outputs": [],
   "source": [
    "# print(df.isnull().sum())\n",
    "# df.describe(include='all')"
   ]
  },
  {
   "cell_type": "markdown",
   "metadata": {},
   "source": [
    "<a id=\"step2.3\"><a/>\n",
    "## 2.3 Clean Data"
   ]
  },
  {
   "cell_type": "code",
   "execution_count": 4,
   "metadata": {},
   "outputs": [
    {
     "name": "stdout",
     "output_type": "stream",
     "text": [
      "<class 'pandas.core.frame.DataFrame'>\n",
      "Int64Index: 136155 entries, 0 to 136154\n",
      "Data columns (total 36 columns):\n",
      " #   Column                    Non-Null Count   Dtype  \n",
      "---  ------                    --------------   -----  \n",
      " 0   Car id                    136155 non-null  object \n",
      " 1   Order number              136155 non-null  object \n",
      " 2   Category                  136155 non-null  object \n",
      " 3   Avg distance              136155 non-null  int64  \n",
      " 4   Billing minutes           132902 non-null  object \n",
      " 5   Address                   136155 non-null  object \n",
      " 6   Time                      134980 non-null  object \n",
      " 7   kmh                       132860 non-null  float64\n",
      " 8   Coords                    134957 non-null  object \n",
      " 9   Lat                       134957 non-null  float64\n",
      " 10  Lon                       134957 non-null  float64\n",
      " 11  neighborhood              134957 non-null  object \n",
      " 12  Area                      134957 non-null  float64\n",
      " 13  Population                134957 non-null  float64\n",
      " 14  Street                    136155 non-null  object \n",
      " 15  City                      136155 non-null  object \n",
      " 16  Country                   136148 non-null  object \n",
      " 17  Street_c                  135708 non-null  object \n",
      " 18  Address_c                 136155 non-null  object \n",
      " 19  Address_c2                136155 non-null  object \n",
      " 20  Date                      134980 non-null  object \n",
      " 21  Year                      134980 non-null  object \n",
      " 22  Month                     134980 non-null  object \n",
      " 23  Day                       134980 non-null  object \n",
      " 24  Hour                      134980 non-null  object \n",
      " 25  Minute                    134980 non-null  object \n",
      " 26  Temprature                133676 non-null  float64\n",
      " 27  Max Temprature            133676 non-null  float64\n",
      " 28  Min Temprature            133676 non-null  float64\n",
      " 29  Relative Humidity         133676 non-null  float64\n",
      " 30  Amount of Rain            133676 non-null  float64\n",
      " 31  Wind Speed                133676 non-null  float64\n",
      " 32  Wind Direction            133676 non-null  float64\n",
      " 33  Max Wind Speed per Min    133676 non-null  float64\n",
      " 34  Max Win Speed per 10 Min  133676 non-null  float64\n",
      " 35  count                     95933 non-null   float64\n",
      "dtypes: float64(15), int64(1), object(20)\n",
      "memory usage: 28.0+ MB\n"
     ]
    }
   ],
   "source": [
    "df.info()"
   ]
  },
  {
   "cell_type": "markdown",
   "metadata": {},
   "source": [
    "### 2.3. Filling empy billing minutes with 0, most of the time its canceled drive"
   ]
  },
  {
   "cell_type": "code",
   "execution_count": 5,
   "metadata": {},
   "outputs": [],
   "source": [
    "df['Billing minutes'] = pd.to_numeric(df['Billing minutes'],errors='coerce')\n",
    "df['Billing minutes'] = df['Billing minutes'].fillna(0)"
   ]
  },
  {
   "cell_type": "markdown",
   "metadata": {},
   "source": [
    "### 2.3. Delete empty adresses"
   ]
  },
  {
   "cell_type": "code",
   "execution_count": 6,
   "metadata": {},
   "outputs": [],
   "source": [
    "delete_empty_addresses = df[\"Address\"].isnull()"
   ]
  },
  {
   "cell_type": "code",
   "execution_count": 7,
   "metadata": {},
   "outputs": [],
   "source": [
    "df = df[~delete_empty_addresses]\n",
    "# This is works too\n",
    "# df.drop(delete_empty_addresses.index,inplace=True)\n",
    "# df = df[pd.notnull(df['Address'])]"
   ]
  },
  {
   "cell_type": "code",
   "execution_count": 8,
   "metadata": {},
   "outputs": [
    {
     "data": {
      "text/plain": [
       "0"
      ]
     },
     "execution_count": 8,
     "metadata": {},
     "output_type": "execute_result"
    }
   ],
   "source": [
    "df[\"Address\"].isnull().sum()"
   ]
  },
  {
   "cell_type": "markdown",
   "metadata": {},
   "source": [
    "### 2.3. Fill na Street_c by Street\n",
    "the na is only from streets consists only from numbers"
   ]
  },
  {
   "cell_type": "code",
   "execution_count": 9,
   "metadata": {},
   "outputs": [],
   "source": [
    "df['Street_c'].fillna(df['Street'], inplace = True)"
   ]
  },
  {
   "cell_type": "markdown",
   "metadata": {},
   "source": [
    "### 2.3. Delete canceled and NO SHOW category rows"
   ]
  },
  {
   "cell_type": "code",
   "execution_count": 10,
   "metadata": {},
   "outputs": [],
   "source": [
    "df = df[(df['Category'] != 'Canceled') & (df['Category'] != 'NO SHOW')]"
   ]
  },
  {
   "cell_type": "markdown",
   "metadata": {},
   "source": [
    "### 2.3. Delete empty kmh drives\n",
    "Those rows with same start and destination addresses and the drive did not happen"
   ]
  },
  {
   "cell_type": "code",
   "execution_count": 11,
   "metadata": {},
   "outputs": [],
   "source": [
    "df = df[(df['Avg distance'] != 0) & (df['Billing minutes'] != 0)]"
   ]
  },
  {
   "cell_type": "markdown",
   "metadata": {},
   "source": [
    "### 2.3. Filling na kmh\n",
    "formula = Avg distance/(Billing minutes/60)"
   ]
  },
  {
   "cell_type": "code",
   "execution_count": 12,
   "metadata": {},
   "outputs": [],
   "source": [
    "# df['kmh'] = df.apply(lambda row : row['Avg distance']*(row['Billing minutes']/60) if np.isnan(row['kmh']) else row['kmh'],axis=1)"
   ]
  },
  {
   "cell_type": "code",
   "execution_count": 13,
   "metadata": {},
   "outputs": [],
   "source": [
    "df['kmh'].fillna(df['Avg distance']*(df['Billing minutes']/60),inplace=True)"
   ]
  },
  {
   "cell_type": "markdown",
   "metadata": {},
   "source": [
    "### 2.3. Filling empty Lat Lon Coords by similar Address rows"
   ]
  },
  {
   "cell_type": "code",
   "execution_count": 14,
   "metadata": {},
   "outputs": [],
   "source": [
    "AddressCols = ['Address','Lat','Lon','neighborhood','Coords']\n",
    "df[AddressCols] = df[AddressCols].sort_values(['Address']).ffill()"
   ]
  },
  {
   "cell_type": "markdown",
   "metadata": {},
   "source": [
    "### 2.3. Filling na weather data with previous data"
   ]
  },
  {
   "cell_type": "code",
   "execution_count": 15,
   "metadata": {},
   "outputs": [],
   "source": [
    "weatherCols = ['Time','Temprature','Max Temprature','Min Temprature','Relative Humidity','Amount of Rain','Wind Speed','Wind Direction','Max Wind Speed per Min','Max Win Speed per 10 Min']\n",
    "df[weatherCols] = df[weatherCols].sort_values(['Time']).ffill()"
   ]
  },
  {
   "cell_type": "markdown",
   "metadata": {},
   "source": [
    "### 2.3. Filling na Area and Population\n",
    "Filling by same neighborhoods"
   ]
  },
  {
   "cell_type": "code",
   "execution_count": 16,
   "metadata": {},
   "outputs": [],
   "source": [
    "neighborhoodMetaCols = [\"neighborhood\",\"Area\",\"Population\"]\n",
    "df[neighborhoodMetaCols] = df[neighborhoodMetaCols].sort_values(['neighborhood']).ffill()"
   ]
  },
  {
   "cell_type": "markdown",
   "metadata": {},
   "source": [
    "### 2.3. Delete empty target rows"
   ]
  },
  {
   "cell_type": "code",
   "execution_count": 17,
   "metadata": {},
   "outputs": [],
   "source": [
    "df.dropna(subset=['count'],inplace=True)"
   ]
  },
  {
   "cell_type": "markdown",
   "metadata": {},
   "source": [
    "### 2.3. Delete unneeded columns"
   ]
  },
  {
   "cell_type": "code",
   "execution_count": 18,
   "metadata": {},
   "outputs": [
    {
     "name": "stdout",
     "output_type": "stream",
     "text": [
      "<class 'pandas.core.frame.DataFrame'>\n",
      "Int64Index: 91370 entries, 0 to 136152\n",
      "Data columns (total 36 columns):\n",
      " #   Column                    Non-Null Count  Dtype  \n",
      "---  ------                    --------------  -----  \n",
      " 0   Car id                    91370 non-null  object \n",
      " 1   Order number              91370 non-null  object \n",
      " 2   Category                  91370 non-null  object \n",
      " 3   Avg distance              91370 non-null  int64  \n",
      " 4   Billing minutes           91370 non-null  float64\n",
      " 5   Address                   91370 non-null  object \n",
      " 6   Time                      91370 non-null  object \n",
      " 7   kmh                       91370 non-null  float64\n",
      " 8   Coords                    91370 non-null  object \n",
      " 9   Lat                       91370 non-null  float64\n",
      " 10  Lon                       91370 non-null  float64\n",
      " 11  neighborhood              91370 non-null  object \n",
      " 12  Area                      91370 non-null  float64\n",
      " 13  Population                91370 non-null  float64\n",
      " 14  Street                    91370 non-null  object \n",
      " 15  City                      91370 non-null  object \n",
      " 16  Country                   91364 non-null  object \n",
      " 17  Street_c                  91370 non-null  object \n",
      " 18  Address_c                 91370 non-null  object \n",
      " 19  Address_c2                91370 non-null  object \n",
      " 20  Date                      91370 non-null  object \n",
      " 21  Year                      91370 non-null  object \n",
      " 22  Month                     91370 non-null  object \n",
      " 23  Day                       91370 non-null  object \n",
      " 24  Hour                      91370 non-null  object \n",
      " 25  Minute                    91370 non-null  object \n",
      " 26  Temprature                91370 non-null  float64\n",
      " 27  Max Temprature            91370 non-null  float64\n",
      " 28  Min Temprature            91370 non-null  float64\n",
      " 29  Relative Humidity         91370 non-null  float64\n",
      " 30  Amount of Rain            91370 non-null  float64\n",
      " 31  Wind Speed                91370 non-null  float64\n",
      " 32  Wind Direction            91370 non-null  float64\n",
      " 33  Max Wind Speed per Min    91370 non-null  float64\n",
      " 34  Max Win Speed per 10 Min  91370 non-null  float64\n",
      " 35  count                     91370 non-null  float64\n",
      "dtypes: float64(16), int64(1), object(19)\n",
      "memory usage: 19.2+ MB\n"
     ]
    }
   ],
   "source": [
    "df.info()"
   ]
  },
  {
   "cell_type": "code",
   "execution_count": 19,
   "metadata": {},
   "outputs": [],
   "source": [
    "df.drop([\"Car id\",\"Order number\",\"Address\",\"Time\",\"Street\",\"City\",\"Country\",\"Address_c\"],axis=1,inplace=True)\n",
    "# After visualization delete Coords, Date"
   ]
  },
  {
   "cell_type": "code",
   "execution_count": 27,
   "metadata": {},
   "outputs": [
    {
     "name": "stdout",
     "output_type": "stream",
     "text": [
      "<class 'pandas.core.frame.DataFrame'>\n",
      "Int64Index: 91370 entries, 0 to 136152\n",
      "Data columns (total 28 columns):\n",
      " #   Column                    Non-Null Count  Dtype         \n",
      "---  ------                    --------------  -----         \n",
      " 0   Category                  91370 non-null  object        \n",
      " 1   Avg distance              91370 non-null  int64         \n",
      " 2   Billing minutes           91370 non-null  float64       \n",
      " 3   kmh                       91370 non-null  float64       \n",
      " 4   Coords                    91370 non-null  object        \n",
      " 5   Lat                       91370 non-null  float64       \n",
      " 6   Lon                       91370 non-null  float64       \n",
      " 7   neighborhood              91370 non-null  object        \n",
      " 8   Area                      91370 non-null  float64       \n",
      " 9   Population                91370 non-null  float64       \n",
      " 10  Street_c                  91370 non-null  object        \n",
      " 11  Address_c2                91370 non-null  object        \n",
      " 12  Date                      91370 non-null  datetime64[ns]\n",
      " 13  Year                      91370 non-null  object        \n",
      " 14  Month                     91370 non-null  object        \n",
      " 15  Day                       91370 non-null  object        \n",
      " 16  Hour                      91370 non-null  object        \n",
      " 17  Minute                    91370 non-null  object        \n",
      " 18  Temprature                91370 non-null  float64       \n",
      " 19  Max Temprature            91370 non-null  float64       \n",
      " 20  Min Temprature            91370 non-null  float64       \n",
      " 21  Relative Humidity         91370 non-null  float64       \n",
      " 22  Amount of Rain            91370 non-null  float64       \n",
      " 23  Wind Speed                91370 non-null  float64       \n",
      " 24  Wind Direction            91370 non-null  float64       \n",
      " 25  Max Wind Speed per Min    91370 non-null  float64       \n",
      " 26  Max Win Speed per 10 Min  91370 non-null  float64       \n",
      " 27  count                     91370 non-null  float64       \n",
      "dtypes: datetime64[ns](1), float64(16), int64(1), object(10)\n",
      "memory usage: 16.7+ MB\n",
      "\n",
      "shape: (91370, 28)\n"
     ]
    }
   ],
   "source": [
    "df.info()\n",
    "print(\"\\nshape: \" + str(df.shape))"
   ]
  },
  {
   "cell_type": "markdown",
   "metadata": {},
   "source": [
    "<a id=\"step3\"></a>\n",
    "# Step 3: Visualization"
   ]
  },
  {
   "cell_type": "code",
   "execution_count": 23,
   "metadata": {},
   "outputs": [
    {
     "data": {
      "text/html": [
       "<div>\n",
       "<style scoped>\n",
       "    .dataframe tbody tr th:only-of-type {\n",
       "        vertical-align: middle;\n",
       "    }\n",
       "\n",
       "    .dataframe tbody tr th {\n",
       "        vertical-align: top;\n",
       "    }\n",
       "\n",
       "    .dataframe thead th {\n",
       "        text-align: right;\n",
       "    }\n",
       "</style>\n",
       "<table border=\"1\" class=\"dataframe\">\n",
       "  <thead>\n",
       "    <tr style=\"text-align: right;\">\n",
       "      <th></th>\n",
       "      <th>Category</th>\n",
       "      <th>Avg distance</th>\n",
       "      <th>Billing minutes</th>\n",
       "      <th>kmh</th>\n",
       "      <th>Coords</th>\n",
       "      <th>Lat</th>\n",
       "      <th>Lon</th>\n",
       "      <th>neighborhood</th>\n",
       "      <th>Area</th>\n",
       "      <th>Population</th>\n",
       "      <th>Street_c</th>\n",
       "      <th>Address_c2</th>\n",
       "      <th>Date</th>\n",
       "      <th>Year</th>\n",
       "      <th>Month</th>\n",
       "      <th>Day</th>\n",
       "      <th>Hour</th>\n",
       "      <th>Minute</th>\n",
       "      <th>Temprature</th>\n",
       "      <th>Max Temprature</th>\n",
       "      <th>Min Temprature</th>\n",
       "      <th>Relative Humidity</th>\n",
       "      <th>Amount of Rain</th>\n",
       "      <th>Wind Speed</th>\n",
       "      <th>Wind Direction</th>\n",
       "      <th>Max Wind Speed per Min</th>\n",
       "      <th>Max Win Speed per 10 Min</th>\n",
       "      <th>count</th>\n",
       "    </tr>\n",
       "  </thead>\n",
       "  <tbody>\n",
       "    <tr>\n",
       "      <th>0</th>\n",
       "      <td>שריון חינמי</td>\n",
       "      <td>8</td>\n",
       "      <td>13.0</td>\n",
       "      <td>37.15</td>\n",
       "      <td>(32.0357011, 34.7581719)</td>\n",
       "      <td>32.04</td>\n",
       "      <td>34.76</td>\n",
       "      <td>(יפו ד' (גבעת התמרים</td>\n",
       "      <td>389591.69</td>\n",
       "      <td>6631.0</td>\n",
       "      <td>הרב רובינשטיין</td>\n",
       "      <td>הרב רובינשטיין , תל אביב יפו, ישראל</td>\n",
       "      <td>2017-10-23</td>\n",
       "      <td>2017.0</td>\n",
       "      <td>10.0</td>\n",
       "      <td>23.0</td>\n",
       "      <td>0.0</td>\n",
       "      <td>31.0</td>\n",
       "      <td>20.53</td>\n",
       "      <td>20.8</td>\n",
       "      <td>20.1</td>\n",
       "      <td>66.67</td>\n",
       "      <td>0.0</td>\n",
       "      <td>2.53</td>\n",
       "      <td>117.0</td>\n",
       "      <td>3.2</td>\n",
       "      <td>2.7</td>\n",
       "      <td>1.0</td>\n",
       "    </tr>\n",
       "    <tr>\n",
       "      <th>1</th>\n",
       "      <td>שריון חינמי</td>\n",
       "      <td>3</td>\n",
       "      <td>8.0</td>\n",
       "      <td>21.56</td>\n",
       "      <td>(32.0895831, 34.7734306)</td>\n",
       "      <td>32.09</td>\n",
       "      <td>34.77</td>\n",
       "      <td>הצפון הישן - החלק הצפוני</td>\n",
       "      <td>1819996.41</td>\n",
       "      <td>32080.0</td>\n",
       "      <td>ז'בוטינסקי</td>\n",
       "      <td>ז'בוטינסקי , תל אביב יפו, ישראל</td>\n",
       "      <td>2017-10-23</td>\n",
       "      <td>2017.0</td>\n",
       "      <td>10.0</td>\n",
       "      <td>23.0</td>\n",
       "      <td>0.0</td>\n",
       "      <td>21.0</td>\n",
       "      <td>20.53</td>\n",
       "      <td>20.8</td>\n",
       "      <td>20.1</td>\n",
       "      <td>66.67</td>\n",
       "      <td>0.0</td>\n",
       "      <td>2.53</td>\n",
       "      <td>117.0</td>\n",
       "      <td>3.2</td>\n",
       "      <td>2.7</td>\n",
       "      <td>1.0</td>\n",
       "    </tr>\n",
       "    <tr>\n",
       "      <th>3</th>\n",
       "      <td>שריון חינמי</td>\n",
       "      <td>4</td>\n",
       "      <td>9.0</td>\n",
       "      <td>26.23</td>\n",
       "      <td>(32.0957684, 34.7956908)</td>\n",
       "      <td>32.10</td>\n",
       "      <td>34.80</td>\n",
       "      <td>בבלי</td>\n",
       "      <td>789096.26</td>\n",
       "      <td>9403.0</td>\n",
       "      <td>אונקלוס</td>\n",
       "      <td>אונקלוס , תל אביב יפו, ישראל</td>\n",
       "      <td>2017-10-23</td>\n",
       "      <td>2017.0</td>\n",
       "      <td>10.0</td>\n",
       "      <td>23.0</td>\n",
       "      <td>0.0</td>\n",
       "      <td>23.0</td>\n",
       "      <td>20.53</td>\n",
       "      <td>20.8</td>\n",
       "      <td>20.1</td>\n",
       "      <td>66.67</td>\n",
       "      <td>0.0</td>\n",
       "      <td>2.53</td>\n",
       "      <td>117.0</td>\n",
       "      <td>3.2</td>\n",
       "      <td>2.7</td>\n",
       "      <td>9.0</td>\n",
       "    </tr>\n",
       "    <tr>\n",
       "      <th>4</th>\n",
       "      <td>שריון חינמי</td>\n",
       "      <td>2</td>\n",
       "      <td>6.0</td>\n",
       "      <td>18.66</td>\n",
       "      <td>(32.0807886, 34.7793035)</td>\n",
       "      <td>32.08</td>\n",
       "      <td>34.78</td>\n",
       "      <td>הצפון הישן-החלק הדרומי</td>\n",
       "      <td>1348333.36</td>\n",
       "      <td>29394.0</td>\n",
       "      <td>גורדון</td>\n",
       "      <td>גורדון , תל אביב יפו, ישראל</td>\n",
       "      <td>2017-10-23</td>\n",
       "      <td>2017.0</td>\n",
       "      <td>10.0</td>\n",
       "      <td>23.0</td>\n",
       "      <td>0.0</td>\n",
       "      <td>21.0</td>\n",
       "      <td>20.53</td>\n",
       "      <td>20.8</td>\n",
       "      <td>20.1</td>\n",
       "      <td>66.67</td>\n",
       "      <td>0.0</td>\n",
       "      <td>2.53</td>\n",
       "      <td>117.0</td>\n",
       "      <td>3.2</td>\n",
       "      <td>2.7</td>\n",
       "      <td>9.0</td>\n",
       "    </tr>\n",
       "    <tr>\n",
       "      <th>5</th>\n",
       "      <td>שריון חינמי</td>\n",
       "      <td>4</td>\n",
       "      <td>12.0</td>\n",
       "      <td>19.43</td>\n",
       "      <td>(32.05569380000001, 34.7560594)</td>\n",
       "      <td>32.06</td>\n",
       "      <td>34.76</td>\n",
       "      <td>צפון יפו</td>\n",
       "      <td>838596.18</td>\n",
       "      <td>8037.0</td>\n",
       "      <td>רציף העלייה השניה</td>\n",
       "      <td>רציף העלייה השניה , תל אביב יפו, ישראל</td>\n",
       "      <td>2017-10-23</td>\n",
       "      <td>2017.0</td>\n",
       "      <td>10.0</td>\n",
       "      <td>23.0</td>\n",
       "      <td>0.0</td>\n",
       "      <td>28.0</td>\n",
       "      <td>20.53</td>\n",
       "      <td>20.8</td>\n",
       "      <td>20.1</td>\n",
       "      <td>66.67</td>\n",
       "      <td>0.0</td>\n",
       "      <td>2.53</td>\n",
       "      <td>117.0</td>\n",
       "      <td>3.2</td>\n",
       "      <td>2.7</td>\n",
       "      <td>21.0</td>\n",
       "    </tr>\n",
       "  </tbody>\n",
       "</table>\n",
       "</div>"
      ],
      "text/plain": [
       "      Category  Avg distance  Billing minutes    kmh  \\\n",
       "0  שריון חינמי             8             13.0  37.15   \n",
       "1  שריון חינמי             3              8.0  21.56   \n",
       "3  שריון חינמי             4              9.0  26.23   \n",
       "4  שריון חינמי             2              6.0  18.66   \n",
       "5  שריון חינמי             4             12.0  19.43   \n",
       "\n",
       "                            Coords    Lat    Lon              neighborhood  \\\n",
       "0         (32.0357011, 34.7581719)  32.04  34.76      (יפו ד' (גבעת התמרים   \n",
       "1         (32.0895831, 34.7734306)  32.09  34.77  הצפון הישן - החלק הצפוני   \n",
       "3         (32.0957684, 34.7956908)  32.10  34.80                      בבלי   \n",
       "4         (32.0807886, 34.7793035)  32.08  34.78    הצפון הישן-החלק הדרומי   \n",
       "5  (32.05569380000001, 34.7560594)  32.06  34.76                  צפון יפו   \n",
       "\n",
       "         Area  Population            Street_c  \\\n",
       "0   389591.69      6631.0     הרב רובינשטיין    \n",
       "1  1819996.41     32080.0         ז'בוטינסקי    \n",
       "3   789096.26      9403.0            אונקלוס    \n",
       "4  1348333.36     29394.0             גורדון    \n",
       "5   838596.18      8037.0  רציף העלייה השניה    \n",
       "\n",
       "                               Address_c2       Date    Year Month   Day Hour  \\\n",
       "0     הרב רובינשטיין , תל אביב יפו, ישראל 2017-10-23  2017.0  10.0  23.0  0.0   \n",
       "1         ז'בוטינסקי , תל אביב יפו, ישראל 2017-10-23  2017.0  10.0  23.0  0.0   \n",
       "3            אונקלוס , תל אביב יפו, ישראל 2017-10-23  2017.0  10.0  23.0  0.0   \n",
       "4             גורדון , תל אביב יפו, ישראל 2017-10-23  2017.0  10.0  23.0  0.0   \n",
       "5  רציף העלייה השניה , תל אביב יפו, ישראל 2017-10-23  2017.0  10.0  23.0  0.0   \n",
       "\n",
       "  Minute  Temprature  Max Temprature  Min Temprature  Relative Humidity  \\\n",
       "0   31.0       20.53            20.8            20.1              66.67   \n",
       "1   21.0       20.53            20.8            20.1              66.67   \n",
       "3   23.0       20.53            20.8            20.1              66.67   \n",
       "4   21.0       20.53            20.8            20.1              66.67   \n",
       "5   28.0       20.53            20.8            20.1              66.67   \n",
       "\n",
       "   Amount of Rain  Wind Speed  Wind Direction  Max Wind Speed per Min  \\\n",
       "0             0.0        2.53           117.0                     3.2   \n",
       "1             0.0        2.53           117.0                     3.2   \n",
       "3             0.0        2.53           117.0                     3.2   \n",
       "4             0.0        2.53           117.0                     3.2   \n",
       "5             0.0        2.53           117.0                     3.2   \n",
       "\n",
       "   Max Win Speed per 10 Min  count  \n",
       "0                       2.7    1.0  \n",
       "1                       2.7    1.0  \n",
       "3                       2.7    9.0  \n",
       "4                       2.7    9.0  \n",
       "5                       2.7   21.0  "
      ]
     },
     "execution_count": 23,
     "metadata": {},
     "output_type": "execute_result"
    }
   ],
   "source": [
    "df.head()"
   ]
  },
  {
   "cell_type": "code",
   "execution_count": 20,
   "metadata": {},
   "outputs": [],
   "source": []
  },
  {
   "cell_type": "code",
   "execution_count": null,
   "metadata": {},
   "outputs": [],
   "source": []
  },
  {
   "cell_type": "code",
   "execution_count": null,
   "metadata": {},
   "outputs": [],
   "source": []
  },
  {
   "cell_type": "code",
   "execution_count": null,
   "metadata": {},
   "outputs": [],
   "source": []
  }
 ],
 "metadata": {
  "kernelspec": {
   "display_name": "Python 3",
   "language": "python",
   "name": "python3"
  },
  "language_info": {
   "codemirror_mode": {
    "name": "ipython",
    "version": 3
   },
   "file_extension": ".py",
   "mimetype": "text/x-python",
   "name": "python",
   "nbconvert_exporter": "python",
   "pygments_lexer": "ipython3",
   "version": "3.7.4"
  }
 },
 "nbformat": 4,
 "nbformat_minor": 4
}
