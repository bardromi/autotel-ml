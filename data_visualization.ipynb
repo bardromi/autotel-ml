{
 "cells": [
  {
   "cell_type": "code",
   "execution_count": 15,
   "metadata": {},
   "outputs": [],
   "source": [
    "import pandas as pd\n",
    "import numpy as np\n",
    "import matplotlib.pyplot as plt\n",
    "import seaborn as sns\n",
    "%matplotlib inline\n",
    "\n",
    "sns.set(style='white', context='notebook', palette='deep')"
   ]
  },
  {
   "cell_type": "markdown",
   "metadata": {},
   "source": [
    "### Load data"
   ]
  },
  {
   "cell_type": "code",
   "execution_count": 20,
   "metadata": {},
   "outputs": [],
   "source": [
    "df = pd.read_csv(\"./input/2018.csv\")"
   ]
  },
  {
   "cell_type": "code",
   "execution_count": 23,
   "metadata": {},
   "outputs": [
    {
     "data": {
      "text/html": [
       "<div>\n",
       "<style scoped>\n",
       "    .dataframe tbody tr th:only-of-type {\n",
       "        vertical-align: middle;\n",
       "    }\n",
       "\n",
       "    .dataframe tbody tr th {\n",
       "        vertical-align: top;\n",
       "    }\n",
       "\n",
       "    .dataframe thead th {\n",
       "        text-align: right;\n",
       "    }\n",
       "</style>\n",
       "<table border=\"1\" class=\"dataframe\">\n",
       "  <thead>\n",
       "    <tr style=\"text-align: right;\">\n",
       "      <th></th>\n",
       "      <th>מספר רכב</th>\n",
       "      <th>מספר הזמנה</th>\n",
       "      <th>קטגוריית שריון</th>\n",
       "      <th>ממוצע מרחק לנסיעה</th>\n",
       "      <th>דקות לחיוב</th>\n",
       "      <th>כתובת התחלה</th>\n",
       "      <th>כתובת סיום</th>\n",
       "      <th>תאריך ושעה התחלת שריון</th>\n",
       "      <th>תאריך ושעה סיום הזמנה</th>\n",
       "    </tr>\n",
       "  </thead>\n",
       "  <tbody>\n",
       "    <tr>\n",
       "      <th>0</th>\n",
       "      <td>46-525-81</td>\n",
       "      <td>60386</td>\n",
       "      <td>שריון חינמי</td>\n",
       "      <td>8</td>\n",
       "      <td>13</td>\n",
       "      <td>גורדון 86-88, תל אביב יפו, ישראל</td>\n",
       "      <td>הרב רובינשטיין 61, תל אביב יפו, ישראל</td>\n",
       "      <td>23/10/2017 0:08</td>\n",
       "      <td>23/10/2017 0:31</td>\n",
       "    </tr>\n",
       "    <tr>\n",
       "      <th>1</th>\n",
       "      <td>48-437-81</td>\n",
       "      <td>60387</td>\n",
       "      <td>שריון חינמי</td>\n",
       "      <td>3</td>\n",
       "      <td>8</td>\n",
       "      <td>יעקב אפטר 3, תל אביב יפו, ישראל</td>\n",
       "      <td>ז'בוטינסקי 10, תל אביב יפו, ישראל</td>\n",
       "      <td>23/10/2017 0:09</td>\n",
       "      <td>23/10/2017 0:21</td>\n",
       "    </tr>\n",
       "    <tr>\n",
       "      <th>2</th>\n",
       "      <td>63-887-81</td>\n",
       "      <td>60388</td>\n",
       "      <td>שריון חינמי</td>\n",
       "      <td>0</td>\n",
       "      <td>2</td>\n",
       "      <td>רופין 32-34, תל אביב יפו, ישראל</td>\n",
       "      <td>רופין 32-34, תל אביב יפו, ישראל</td>\n",
       "      <td>23/10/2017 0:10</td>\n",
       "      <td>23/10/2017 0:15</td>\n",
       "    </tr>\n",
       "    <tr>\n",
       "      <th>3</th>\n",
       "      <td>63-906-81</td>\n",
       "      <td>60389</td>\n",
       "      <td>שריון חינמי</td>\n",
       "      <td>4</td>\n",
       "      <td>9</td>\n",
       "      <td>שדרות מסריק 19, תל אביב יפו, ישראל</td>\n",
       "      <td>אונקלוס 3, תל אביב יפו, ישראל</td>\n",
       "      <td>23/10/2017 0:12</td>\n",
       "      <td>23/10/2017 0:23</td>\n",
       "    </tr>\n",
       "    <tr>\n",
       "      <th>4</th>\n",
       "      <td>60-589-55</td>\n",
       "      <td>60390</td>\n",
       "      <td>שריון חינמי</td>\n",
       "      <td>2</td>\n",
       "      <td>6</td>\n",
       "      <td>הירקון 188, תל אביב יפו, ישראל</td>\n",
       "      <td>גורדון 83-85, תל אביב יפו, ישראל</td>\n",
       "      <td>23/10/2017 0:12</td>\n",
       "      <td>23/10/2017 0:21</td>\n",
       "    </tr>\n",
       "  </tbody>\n",
       "</table>\n",
       "</div>"
      ],
      "text/plain": [
       "    מספר רכב  מספר הזמנה קטגוריית שריון  ממוצע מרחק לנסיעה דקות לחיוב  \\\n",
       "0  46-525-81       60386    שריון חינמי                  8         13   \n",
       "1  48-437-81       60387    שריון חינמי                  3          8   \n",
       "2  63-887-81       60388    שריון חינמי                  0          2   \n",
       "3  63-906-81       60389    שריון חינמי                  4          9   \n",
       "4  60-589-55       60390    שריון חינמי                  2          6   \n",
       "\n",
       "                          כתובת התחלה                             כתובת סיום  \\\n",
       "0    גורדון 86-88, תל אביב יפו, ישראל  הרב רובינשטיין 61, תל אביב יפו, ישראל   \n",
       "1     יעקב אפטר 3, תל אביב יפו, ישראל      ז'בוטינסקי 10, תל אביב יפו, ישראל   \n",
       "2     רופין 32-34, תל אביב יפו, ישראל        רופין 32-34, תל אביב יפו, ישראל   \n",
       "3  שדרות מסריק 19, תל אביב יפו, ישראל          אונקלוס 3, תל אביב יפו, ישראל   \n",
       "4      הירקון 188, תל אביב יפו, ישראל       גורדון 83-85, תל אביב יפו, ישראל   \n",
       "\n",
       "  תאריך ושעה התחלת שריון תאריך ושעה סיום הזמנה  \n",
       "0        23/10/2017 0:08       23/10/2017 0:31  \n",
       "1        23/10/2017 0:09       23/10/2017 0:21  \n",
       "2        23/10/2017 0:10       23/10/2017 0:15  \n",
       "3        23/10/2017 0:12       23/10/2017 0:23  \n",
       "4        23/10/2017 0:12       23/10/2017 0:21  "
      ]
     },
     "execution_count": 23,
     "metadata": {},
     "output_type": "execute_result"
    }
   ],
   "source": [
    "df.head()"
   ]
  },
  {
   "cell_type": "code",
   "execution_count": 29,
   "metadata": {},
   "outputs": [],
   "source": [
    "df = df.rename({'מספר רכב': 'Car id', 'מספר הזמנה': 'Order number','קטגוריית שריון':'Category',\n",
    "                 'ממוצע מרחק לנסיעה':'Avg distance','דקות לחיוב':'Billing minutes','כתובת התחלה':'Start Address',\n",
    "                 'כתובת סיום':'End Address','תאריך ושעה התחלת שריון':'Start time','תאריך ושעה סיום הזמנה':'End time'},\n",
    "                axis=1) "
   ]
  },
  {
   "cell_type": "code",
   "execution_count": 30,
   "metadata": {},
   "outputs": [
    {
     "data": {
      "text/html": [
       "<div>\n",
       "<style scoped>\n",
       "    .dataframe tbody tr th:only-of-type {\n",
       "        vertical-align: middle;\n",
       "    }\n",
       "\n",
       "    .dataframe tbody tr th {\n",
       "        vertical-align: top;\n",
       "    }\n",
       "\n",
       "    .dataframe thead th {\n",
       "        text-align: right;\n",
       "    }\n",
       "</style>\n",
       "<table border=\"1\" class=\"dataframe\">\n",
       "  <thead>\n",
       "    <tr style=\"text-align: right;\">\n",
       "      <th></th>\n",
       "      <th>Car id</th>\n",
       "      <th>Order number</th>\n",
       "      <th>Category</th>\n",
       "      <th>Avg distance</th>\n",
       "      <th>Billing minutes</th>\n",
       "      <th>Start Address</th>\n",
       "      <th>End Address</th>\n",
       "      <th>Start time</th>\n",
       "      <th>End time</th>\n",
       "    </tr>\n",
       "  </thead>\n",
       "  <tbody>\n",
       "    <tr>\n",
       "      <th>0</th>\n",
       "      <td>46-525-81</td>\n",
       "      <td>60386</td>\n",
       "      <td>שריון חינמי</td>\n",
       "      <td>8</td>\n",
       "      <td>13</td>\n",
       "      <td>גורדון 86-88, תל אביב יפו, ישראל</td>\n",
       "      <td>הרב רובינשטיין 61, תל אביב יפו, ישראל</td>\n",
       "      <td>23/10/2017 0:08</td>\n",
       "      <td>23/10/2017 0:31</td>\n",
       "    </tr>\n",
       "    <tr>\n",
       "      <th>1</th>\n",
       "      <td>48-437-81</td>\n",
       "      <td>60387</td>\n",
       "      <td>שריון חינמי</td>\n",
       "      <td>3</td>\n",
       "      <td>8</td>\n",
       "      <td>יעקב אפטר 3, תל אביב יפו, ישראל</td>\n",
       "      <td>ז'בוטינסקי 10, תל אביב יפו, ישראל</td>\n",
       "      <td>23/10/2017 0:09</td>\n",
       "      <td>23/10/2017 0:21</td>\n",
       "    </tr>\n",
       "    <tr>\n",
       "      <th>2</th>\n",
       "      <td>63-887-81</td>\n",
       "      <td>60388</td>\n",
       "      <td>שריון חינמי</td>\n",
       "      <td>0</td>\n",
       "      <td>2</td>\n",
       "      <td>רופין 32-34, תל אביב יפו, ישראל</td>\n",
       "      <td>רופין 32-34, תל אביב יפו, ישראל</td>\n",
       "      <td>23/10/2017 0:10</td>\n",
       "      <td>23/10/2017 0:15</td>\n",
       "    </tr>\n",
       "    <tr>\n",
       "      <th>3</th>\n",
       "      <td>63-906-81</td>\n",
       "      <td>60389</td>\n",
       "      <td>שריון חינמי</td>\n",
       "      <td>4</td>\n",
       "      <td>9</td>\n",
       "      <td>שדרות מסריק 19, תל אביב יפו, ישראל</td>\n",
       "      <td>אונקלוס 3, תל אביב יפו, ישראל</td>\n",
       "      <td>23/10/2017 0:12</td>\n",
       "      <td>23/10/2017 0:23</td>\n",
       "    </tr>\n",
       "    <tr>\n",
       "      <th>4</th>\n",
       "      <td>60-589-55</td>\n",
       "      <td>60390</td>\n",
       "      <td>שריון חינמי</td>\n",
       "      <td>2</td>\n",
       "      <td>6</td>\n",
       "      <td>הירקון 188, תל אביב יפו, ישראל</td>\n",
       "      <td>גורדון 83-85, תל אביב יפו, ישראל</td>\n",
       "      <td>23/10/2017 0:12</td>\n",
       "      <td>23/10/2017 0:21</td>\n",
       "    </tr>\n",
       "  </tbody>\n",
       "</table>\n",
       "</div>"
      ],
      "text/plain": [
       "      Car id  Order number     Category  Avg distance Billing minutes  \\\n",
       "0  46-525-81         60386  שריון חינמי             8              13   \n",
       "1  48-437-81         60387  שריון חינמי             3               8   \n",
       "2  63-887-81         60388  שריון חינמי             0               2   \n",
       "3  63-906-81         60389  שריון חינמי             4               9   \n",
       "4  60-589-55         60390  שריון חינמי             2               6   \n",
       "\n",
       "                        Start Address                            End Address  \\\n",
       "0    גורדון 86-88, תל אביב יפו, ישראל  הרב רובינשטיין 61, תל אביב יפו, ישראל   \n",
       "1     יעקב אפטר 3, תל אביב יפו, ישראל      ז'בוטינסקי 10, תל אביב יפו, ישראל   \n",
       "2     רופין 32-34, תל אביב יפו, ישראל        רופין 32-34, תל אביב יפו, ישראל   \n",
       "3  שדרות מסריק 19, תל אביב יפו, ישראל          אונקלוס 3, תל אביב יפו, ישראל   \n",
       "4      הירקון 188, תל אביב יפו, ישראל       גורדון 83-85, תל אביב יפו, ישראל   \n",
       "\n",
       "        Start time         End time  \n",
       "0  23/10/2017 0:08  23/10/2017 0:31  \n",
       "1  23/10/2017 0:09  23/10/2017 0:21  \n",
       "2  23/10/2017 0:10  23/10/2017 0:15  \n",
       "3  23/10/2017 0:12  23/10/2017 0:23  \n",
       "4  23/10/2017 0:12  23/10/2017 0:21  "
      ]
     },
     "execution_count": 30,
     "metadata": {},
     "output_type": "execute_result"
    }
   ],
   "source": [
    "df.head()"
   ]
  },
  {
   "cell_type": "markdown",
   "metadata": {},
   "source": [
    "### check for null and missing values"
   ]
  },
  {
   "cell_type": "code",
   "execution_count": 18,
   "metadata": {},
   "outputs": [],
   "source": [
    "# Fill empty and NaNs values with NaN\n",
    "df = df.fillna(np.nan)"
   ]
  },
  {
   "cell_type": "code",
   "execution_count": 19,
   "metadata": {},
   "outputs": [
    {
     "name": "stdout",
     "output_type": "stream",
     "text": [
      "<class 'pandas.core.frame.DataFrame'>\n",
      "RangeIndex: 150002 entries, 0 to 150001\n",
      "Data columns (total 9 columns):\n",
      " #   Column                  Non-Null Count   Dtype \n",
      "---  ------                  --------------   ----- \n",
      " 0   מספר רכב                150002 non-null  object\n",
      " 1   מספר הזמנה              150002 non-null  int64 \n",
      " 2   קטגוריית שריון          150002 non-null  object\n",
      " 3   ממוצע מרחק לנסיעה       150002 non-null  int64 \n",
      " 4   דקות לחיוב              137847 non-null  object\n",
      " 5   כתובת התחלה             150002 non-null  object\n",
      " 6   כתובת סיום              136964 non-null  object\n",
      " 7   תאריך ושעה התחלת שריון  150002 non-null  object\n",
      " 8   תאריך ושעה סיום הזמנה   136356 non-null  object\n",
      "dtypes: int64(2), object(7)\n",
      "memory usage: 6.3+ MB\n"
     ]
    },
    {
     "data": {
      "text/plain": [
       "מספר רכב                      0\n",
       "מספר הזמנה                    0\n",
       "קטגוריית שריון                0\n",
       "ממוצע מרחק לנסיעה             0\n",
       "דקות לחיוב                12155\n",
       "כתובת התחלה                   0\n",
       "כתובת סיום                13038\n",
       "תאריך ושעה התחלת שריון        0\n",
       "תאריך ושעה סיום הזמנה     13646\n",
       "dtype: int64"
      ]
     },
     "execution_count": 19,
     "metadata": {},
     "output_type": "execute_result"
    }
   ],
   "source": [
    "df.info()\n",
    "df.isnull().sum()"
   ]
  },
  {
   "cell_type": "code",
   "execution_count": null,
   "metadata": {},
   "outputs": [],
   "source": []
  }
 ],
 "metadata": {
  "kernelspec": {
   "display_name": "Python 3",
   "language": "python",
   "name": "python3"
  },
  "language_info": {
   "codemirror_mode": {
    "name": "ipython",
    "version": 3
   },
   "file_extension": ".py",
   "mimetype": "text/x-python",
   "name": "python",
   "nbconvert_exporter": "python",
   "pygments_lexer": "ipython3",
   "version": "3.7.4"
  }
 },
 "nbformat": 4,
 "nbformat_minor": 4
}
