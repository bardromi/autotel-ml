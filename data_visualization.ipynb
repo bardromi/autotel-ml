{
 "cells": [
  {
   "cell_type": "markdown",
   "metadata": {},
   "source": [
    "## Import librarys"
   ]
  },
  {
   "cell_type": "code",
   "execution_count": 1,
   "metadata": {},
   "outputs": [],
   "source": [
    "import pandas as pd\n",
    "import numpy as np\n",
    "import matplotlib.pyplot as plt\n",
    "import seaborn as sns\n",
    "%matplotlib inline\n",
    "\n",
    "sns.set(style='white', context='notebook', palette='deep')"
   ]
  },
  {
   "cell_type": "markdown",
   "metadata": {},
   "source": [
    "## Load data"
   ]
  },
  {
   "cell_type": "code",
   "execution_count": 2,
   "metadata": {},
   "outputs": [
    {
     "name": "stderr",
     "output_type": "stream",
     "text": [
      "c:\\projects\\python\\autotel-ml\\venv\\lib\\site-packages\\IPython\\core\\interactiveshell.py:3063: DtypeWarning: Columns (4) have mixed types.Specify dtype option on import or set low_memory=False.\n",
      "  interactivity=interactivity, compiler=compiler, result=result)\n"
     ]
    }
   ],
   "source": [
    "df = pd.read_csv(\"./input/2018.csv\")"
   ]
  },
  {
   "cell_type": "code",
   "execution_count": 3,
   "metadata": {},
   "outputs": [
    {
     "data": {
      "text/html": [
       "<div>\n",
       "<style scoped>\n",
       "    .dataframe tbody tr th:only-of-type {\n",
       "        vertical-align: middle;\n",
       "    }\n",
       "\n",
       "    .dataframe tbody tr th {\n",
       "        vertical-align: top;\n",
       "    }\n",
       "\n",
       "    .dataframe thead th {\n",
       "        text-align: right;\n",
       "    }\n",
       "</style>\n",
       "<table border=\"1\" class=\"dataframe\">\n",
       "  <thead>\n",
       "    <tr style=\"text-align: right;\">\n",
       "      <th></th>\n",
       "      <th>מספר רכב</th>\n",
       "      <th>מספר הזמנה</th>\n",
       "      <th>קטגוריית שריון</th>\n",
       "      <th>ממוצע מרחק לנסיעה</th>\n",
       "      <th>דקות לחיוב</th>\n",
       "      <th>כתובת התחלה</th>\n",
       "      <th>כתובת סיום</th>\n",
       "      <th>תאריך ושעה התחלת שריון</th>\n",
       "      <th>תאריך ושעה סיום הזמנה</th>\n",
       "    </tr>\n",
       "  </thead>\n",
       "  <tbody>\n",
       "    <tr>\n",
       "      <th>0</th>\n",
       "      <td>46-525-81</td>\n",
       "      <td>60386</td>\n",
       "      <td>שריון חינמי</td>\n",
       "      <td>8</td>\n",
       "      <td>13</td>\n",
       "      <td>גורדון 86-88, תל אביב יפו, ישראל</td>\n",
       "      <td>הרב רובינשטיין 61, תל אביב יפו, ישראל</td>\n",
       "      <td>23/10/2017 0:08</td>\n",
       "      <td>23/10/2017 0:31</td>\n",
       "    </tr>\n",
       "    <tr>\n",
       "      <th>1</th>\n",
       "      <td>48-437-81</td>\n",
       "      <td>60387</td>\n",
       "      <td>שריון חינמי</td>\n",
       "      <td>3</td>\n",
       "      <td>8</td>\n",
       "      <td>יעקב אפטר 3, תל אביב יפו, ישראל</td>\n",
       "      <td>ז'בוטינסקי 10, תל אביב יפו, ישראל</td>\n",
       "      <td>23/10/2017 0:09</td>\n",
       "      <td>23/10/2017 0:21</td>\n",
       "    </tr>\n",
       "    <tr>\n",
       "      <th>2</th>\n",
       "      <td>63-887-81</td>\n",
       "      <td>60388</td>\n",
       "      <td>שריון חינמי</td>\n",
       "      <td>0</td>\n",
       "      <td>2</td>\n",
       "      <td>רופין 32-34, תל אביב יפו, ישראל</td>\n",
       "      <td>רופין 32-34, תל אביב יפו, ישראל</td>\n",
       "      <td>23/10/2017 0:10</td>\n",
       "      <td>23/10/2017 0:15</td>\n",
       "    </tr>\n",
       "    <tr>\n",
       "      <th>3</th>\n",
       "      <td>63-906-81</td>\n",
       "      <td>60389</td>\n",
       "      <td>שריון חינמי</td>\n",
       "      <td>4</td>\n",
       "      <td>9</td>\n",
       "      <td>שדרות מסריק 19, תל אביב יפו, ישראל</td>\n",
       "      <td>אונקלוס 3, תל אביב יפו, ישראל</td>\n",
       "      <td>23/10/2017 0:12</td>\n",
       "      <td>23/10/2017 0:23</td>\n",
       "    </tr>\n",
       "    <tr>\n",
       "      <th>4</th>\n",
       "      <td>60-589-55</td>\n",
       "      <td>60390</td>\n",
       "      <td>שריון חינמי</td>\n",
       "      <td>2</td>\n",
       "      <td>6</td>\n",
       "      <td>הירקון 188, תל אביב יפו, ישראל</td>\n",
       "      <td>גורדון 83-85, תל אביב יפו, ישראל</td>\n",
       "      <td>23/10/2017 0:12</td>\n",
       "      <td>23/10/2017 0:21</td>\n",
       "    </tr>\n",
       "  </tbody>\n",
       "</table>\n",
       "</div>"
      ],
      "text/plain": [
       "    מספר רכב  מספר הזמנה קטגוריית שריון  ממוצע מרחק לנסיעה דקות לחיוב  \\\n",
       "0  46-525-81       60386    שריון חינמי                  8         13   \n",
       "1  48-437-81       60387    שריון חינמי                  3          8   \n",
       "2  63-887-81       60388    שריון חינמי                  0          2   \n",
       "3  63-906-81       60389    שריון חינמי                  4          9   \n",
       "4  60-589-55       60390    שריון חינמי                  2          6   \n",
       "\n",
       "                          כתובת התחלה                             כתובת סיום  \\\n",
       "0    גורדון 86-88, תל אביב יפו, ישראל  הרב רובינשטיין 61, תל אביב יפו, ישראל   \n",
       "1     יעקב אפטר 3, תל אביב יפו, ישראל      ז'בוטינסקי 10, תל אביב יפו, ישראל   \n",
       "2     רופין 32-34, תל אביב יפו, ישראל        רופין 32-34, תל אביב יפו, ישראל   \n",
       "3  שדרות מסריק 19, תל אביב יפו, ישראל          אונקלוס 3, תל אביב יפו, ישראל   \n",
       "4      הירקון 188, תל אביב יפו, ישראל       גורדון 83-85, תל אביב יפו, ישראל   \n",
       "\n",
       "  תאריך ושעה התחלת שריון תאריך ושעה סיום הזמנה  \n",
       "0        23/10/2017 0:08       23/10/2017 0:31  \n",
       "1        23/10/2017 0:09       23/10/2017 0:21  \n",
       "2        23/10/2017 0:10       23/10/2017 0:15  \n",
       "3        23/10/2017 0:12       23/10/2017 0:23  \n",
       "4        23/10/2017 0:12       23/10/2017 0:21  "
      ]
     },
     "execution_count": 3,
     "metadata": {},
     "output_type": "execute_result"
    }
   ],
   "source": [
    "df.head()"
   ]
  },
  {
   "cell_type": "code",
   "execution_count": 4,
   "metadata": {},
   "outputs": [],
   "source": [
    "df = df.rename({'מספר רכב': 'Car id', 'מספר הזמנה': 'Order number','קטגוריית שריון':'Category',\n",
    "                 'ממוצע מרחק לנסיעה':'Avg distance','דקות לחיוב':'Billing minutes','כתובת התחלה':'Start Address',\n",
    "                 'כתובת סיום':'End Address','תאריך ושעה התחלת שריון':'Start time','תאריך ושעה סיום הזמנה':'End time'},\n",
    "                axis=1) "
   ]
  },
  {
   "cell_type": "code",
   "execution_count": 5,
   "metadata": {},
   "outputs": [
    {
     "data": {
      "text/html": [
       "<div>\n",
       "<style scoped>\n",
       "    .dataframe tbody tr th:only-of-type {\n",
       "        vertical-align: middle;\n",
       "    }\n",
       "\n",
       "    .dataframe tbody tr th {\n",
       "        vertical-align: top;\n",
       "    }\n",
       "\n",
       "    .dataframe thead th {\n",
       "        text-align: right;\n",
       "    }\n",
       "</style>\n",
       "<table border=\"1\" class=\"dataframe\">\n",
       "  <thead>\n",
       "    <tr style=\"text-align: right;\">\n",
       "      <th></th>\n",
       "      <th>Car id</th>\n",
       "      <th>Order number</th>\n",
       "      <th>Category</th>\n",
       "      <th>Avg distance</th>\n",
       "      <th>Billing minutes</th>\n",
       "      <th>Start Address</th>\n",
       "      <th>End Address</th>\n",
       "      <th>Start time</th>\n",
       "      <th>End time</th>\n",
       "    </tr>\n",
       "  </thead>\n",
       "  <tbody>\n",
       "    <tr>\n",
       "      <th>0</th>\n",
       "      <td>46-525-81</td>\n",
       "      <td>60386</td>\n",
       "      <td>שריון חינמי</td>\n",
       "      <td>8</td>\n",
       "      <td>13</td>\n",
       "      <td>גורדון 86-88, תל אביב יפו, ישראל</td>\n",
       "      <td>הרב רובינשטיין 61, תל אביב יפו, ישראל</td>\n",
       "      <td>23/10/2017 0:08</td>\n",
       "      <td>23/10/2017 0:31</td>\n",
       "    </tr>\n",
       "    <tr>\n",
       "      <th>1</th>\n",
       "      <td>48-437-81</td>\n",
       "      <td>60387</td>\n",
       "      <td>שריון חינמי</td>\n",
       "      <td>3</td>\n",
       "      <td>8</td>\n",
       "      <td>יעקב אפטר 3, תל אביב יפו, ישראל</td>\n",
       "      <td>ז'בוטינסקי 10, תל אביב יפו, ישראל</td>\n",
       "      <td>23/10/2017 0:09</td>\n",
       "      <td>23/10/2017 0:21</td>\n",
       "    </tr>\n",
       "    <tr>\n",
       "      <th>2</th>\n",
       "      <td>63-887-81</td>\n",
       "      <td>60388</td>\n",
       "      <td>שריון חינמי</td>\n",
       "      <td>0</td>\n",
       "      <td>2</td>\n",
       "      <td>רופין 32-34, תל אביב יפו, ישראל</td>\n",
       "      <td>רופין 32-34, תל אביב יפו, ישראל</td>\n",
       "      <td>23/10/2017 0:10</td>\n",
       "      <td>23/10/2017 0:15</td>\n",
       "    </tr>\n",
       "    <tr>\n",
       "      <th>3</th>\n",
       "      <td>63-906-81</td>\n",
       "      <td>60389</td>\n",
       "      <td>שריון חינמי</td>\n",
       "      <td>4</td>\n",
       "      <td>9</td>\n",
       "      <td>שדרות מסריק 19, תל אביב יפו, ישראל</td>\n",
       "      <td>אונקלוס 3, תל אביב יפו, ישראל</td>\n",
       "      <td>23/10/2017 0:12</td>\n",
       "      <td>23/10/2017 0:23</td>\n",
       "    </tr>\n",
       "    <tr>\n",
       "      <th>4</th>\n",
       "      <td>60-589-55</td>\n",
       "      <td>60390</td>\n",
       "      <td>שריון חינמי</td>\n",
       "      <td>2</td>\n",
       "      <td>6</td>\n",
       "      <td>הירקון 188, תל אביב יפו, ישראל</td>\n",
       "      <td>גורדון 83-85, תל אביב יפו, ישראל</td>\n",
       "      <td>23/10/2017 0:12</td>\n",
       "      <td>23/10/2017 0:21</td>\n",
       "    </tr>\n",
       "  </tbody>\n",
       "</table>\n",
       "</div>"
      ],
      "text/plain": [
       "      Car id  Order number     Category  Avg distance Billing minutes  \\\n",
       "0  46-525-81         60386  שריון חינמי             8              13   \n",
       "1  48-437-81         60387  שריון חינמי             3               8   \n",
       "2  63-887-81         60388  שריון חינמי             0               2   \n",
       "3  63-906-81         60389  שריון חינמי             4               9   \n",
       "4  60-589-55         60390  שריון חינמי             2               6   \n",
       "\n",
       "                        Start Address                            End Address  \\\n",
       "0    גורדון 86-88, תל אביב יפו, ישראל  הרב רובינשטיין 61, תל אביב יפו, ישראל   \n",
       "1     יעקב אפטר 3, תל אביב יפו, ישראל      ז'בוטינסקי 10, תל אביב יפו, ישראל   \n",
       "2     רופין 32-34, תל אביב יפו, ישראל        רופין 32-34, תל אביב יפו, ישראל   \n",
       "3  שדרות מסריק 19, תל אביב יפו, ישראל          אונקלוס 3, תל אביב יפו, ישראל   \n",
       "4      הירקון 188, תל אביב יפו, ישראל       גורדון 83-85, תל אביב יפו, ישראל   \n",
       "\n",
       "        Start time         End time  \n",
       "0  23/10/2017 0:08  23/10/2017 0:31  \n",
       "1  23/10/2017 0:09  23/10/2017 0:21  \n",
       "2  23/10/2017 0:10  23/10/2017 0:15  \n",
       "3  23/10/2017 0:12  23/10/2017 0:23  \n",
       "4  23/10/2017 0:12  23/10/2017 0:21  "
      ]
     },
     "execution_count": 5,
     "metadata": {},
     "output_type": "execute_result"
    }
   ],
   "source": [
    "df.head()"
   ]
  },
  {
   "cell_type": "markdown",
   "metadata": {},
   "source": [
    "## Data Preperation"
   ]
  },
  {
   "cell_type": "markdown",
   "metadata": {},
   "source": [
    "### Create new rows from End Address and End time"
   ]
  },
  {
   "cell_type": "code",
   "execution_count": 6,
   "metadata": {},
   "outputs": [],
   "source": [
    "df_temp = df.copy()"
   ]
  },
  {
   "cell_type": "code",
   "execution_count": 7,
   "metadata": {},
   "outputs": [],
   "source": [
    "df.drop([\"End Address\",\"End time\"],axis=1,inplace=True)\n",
    "df_temp.drop([\"Start Address\",\"Start time\"],axis=1,inplace=True)"
   ]
  },
  {
   "cell_type": "code",
   "execution_count": 8,
   "metadata": {},
   "outputs": [],
   "source": [
    "df = df.rename({\"Start Address\":\"Address\",\"Start time\": \"Time\"},axis=1)\n",
    "df_temp = df_temp.rename({\"End Address\":\"Address\",\"End time\": \"Time\"},axis=1)"
   ]
  },
  {
   "cell_type": "code",
   "execution_count": 9,
   "metadata": {},
   "outputs": [],
   "source": [
    "df = pd.concat([df,df_temp])"
   ]
  },
  {
   "cell_type": "code",
   "execution_count": 10,
   "metadata": {},
   "outputs": [],
   "source": [
    "df.sort_values([\"Order number\",\"Time\"],axis=0,inplace=True)"
   ]
  },
  {
   "cell_type": "markdown",
   "metadata": {},
   "source": [
    "### check for null and missing values"
   ]
  },
  {
   "cell_type": "code",
   "execution_count": 11,
   "metadata": {},
   "outputs": [],
   "source": [
    "# Fill empty and NaNs values with NaN\n",
    "df = df.fillna(np.nan)"
   ]
  },
  {
   "cell_type": "code",
   "execution_count": 12,
   "metadata": {},
   "outputs": [
    {
     "name": "stdout",
     "output_type": "stream",
     "text": [
      "<class 'pandas.core.frame.DataFrame'>\n",
      "Int64Index: 300004 entries, 0 to 150001\n",
      "Data columns (total 7 columns):\n",
      " #   Column           Non-Null Count   Dtype \n",
      "---  ------           --------------   ----- \n",
      " 0   Car id           300004 non-null  object\n",
      " 1   Order number     300004 non-null  int64 \n",
      " 2   Category         300004 non-null  object\n",
      " 3   Avg distance     300004 non-null  int64 \n",
      " 4   Billing minutes  275694 non-null  object\n",
      " 5   Address          286966 non-null  object\n",
      " 6   Time             286358 non-null  object\n",
      "dtypes: int64(2), object(5)\n",
      "memory usage: 18.3+ MB\n"
     ]
    },
    {
     "data": {
      "text/plain": [
       "Car id                 0\n",
       "Order number           0\n",
       "Category               0\n",
       "Avg distance           0\n",
       "Billing minutes    24310\n",
       "Address            13038\n",
       "Time               13646\n",
       "dtype: int64"
      ]
     },
     "execution_count": 12,
     "metadata": {},
     "output_type": "execute_result"
    }
   ],
   "source": [
    "df.info()\n",
    "df.isnull().sum()"
   ]
  },
  {
   "cell_type": "markdown",
   "metadata": {},
   "source": [
    "### Splitting address to country, city, street"
   ]
  },
  {
   "cell_type": "code",
   "execution_count": 13,
   "metadata": {},
   "outputs": [
    {
     "data": {
      "text/html": [
       "<div>\n",
       "<style scoped>\n",
       "    .dataframe tbody tr th:only-of-type {\n",
       "        vertical-align: middle;\n",
       "    }\n",
       "\n",
       "    .dataframe tbody tr th {\n",
       "        vertical-align: top;\n",
       "    }\n",
       "\n",
       "    .dataframe thead th {\n",
       "        text-align: right;\n",
       "    }\n",
       "</style>\n",
       "<table border=\"1\" class=\"dataframe\">\n",
       "  <thead>\n",
       "    <tr style=\"text-align: right;\">\n",
       "      <th></th>\n",
       "      <th>0</th>\n",
       "      <th>1</th>\n",
       "      <th>2</th>\n",
       "      <th>3</th>\n",
       "    </tr>\n",
       "  </thead>\n",
       "  <tbody>\n",
       "    <tr>\n",
       "      <th>0</th>\n",
       "      <td>גורדון 86-88</td>\n",
       "      <td>תל אביב יפו</td>\n",
       "      <td>ישראל</td>\n",
       "      <td>None</td>\n",
       "    </tr>\n",
       "    <tr>\n",
       "      <th>0</th>\n",
       "      <td>הרב רובינשטיין 61</td>\n",
       "      <td>תל אביב יפו</td>\n",
       "      <td>ישראל</td>\n",
       "      <td>None</td>\n",
       "    </tr>\n",
       "    <tr>\n",
       "      <th>1</th>\n",
       "      <td>יעקב אפטר 3</td>\n",
       "      <td>תל אביב יפו</td>\n",
       "      <td>ישראל</td>\n",
       "      <td>None</td>\n",
       "    </tr>\n",
       "  </tbody>\n",
       "</table>\n",
       "</div>"
      ],
      "text/plain": [
       "                   0             1       2     3\n",
       "0       גורדון 86-88   תל אביב יפו   ישראל  None\n",
       "0  הרב רובינשטיין 61   תל אביב יפו   ישראל  None\n",
       "1        יעקב אפטר 3   תל אביב יפו   ישראל  None"
      ]
     },
     "execution_count": 13,
     "metadata": {},
     "output_type": "execute_result"
    }
   ],
   "source": [
    "split_col = df[\"Address\"].str.split(\",\", expand=True)\n",
    "split_col[:3]"
   ]
  },
  {
   "cell_type": "code",
   "execution_count": 14,
   "metadata": {},
   "outputs": [],
   "source": [
    "df[\"Street\"] = split_col[0]\n",
    "df[\"City\"] = split_col[1]\n",
    "df[\"Country\"] = split_col[2]"
   ]
  },
  {
   "cell_type": "code",
   "execution_count": 15,
   "metadata": {},
   "outputs": [],
   "source": [
    "df[\"Time\"] = pd.to_datetime(df[\"Time\"])"
   ]
  },
  {
   "cell_type": "code",
   "execution_count": 16,
   "metadata": {},
   "outputs": [],
   "source": [
    "# df[\"Date\"] = df[\"Time\"].dt.date\n",
    "# df[\"time\"] = df[\"Time\"].dt.time\n",
    "df[\"Year\"] = df[\"Time\"].dt.year\n",
    "df[\"Month\"] = df[\"Time\"].dt.month\n",
    "df[\"Day\"] = df[\"Time\"].dt.day\n",
    "df[\"Hour\"] = df[\"Time\"].dt.hour\n",
    "df[\"Minute\"] = df[\"Time\"].dt.minute"
   ]
  },
  {
   "cell_type": "code",
   "execution_count": 17,
   "metadata": {},
   "outputs": [
    {
     "data": {
      "text/html": [
       "<div>\n",
       "<style scoped>\n",
       "    .dataframe tbody tr th:only-of-type {\n",
       "        vertical-align: middle;\n",
       "    }\n",
       "\n",
       "    .dataframe tbody tr th {\n",
       "        vertical-align: top;\n",
       "    }\n",
       "\n",
       "    .dataframe thead th {\n",
       "        text-align: right;\n",
       "    }\n",
       "</style>\n",
       "<table border=\"1\" class=\"dataframe\">\n",
       "  <thead>\n",
       "    <tr style=\"text-align: right;\">\n",
       "      <th></th>\n",
       "      <th>Car id</th>\n",
       "      <th>Order number</th>\n",
       "      <th>Category</th>\n",
       "      <th>Avg distance</th>\n",
       "      <th>Billing minutes</th>\n",
       "      <th>Address</th>\n",
       "      <th>Time</th>\n",
       "      <th>Street</th>\n",
       "      <th>City</th>\n",
       "      <th>Country</th>\n",
       "      <th>Year</th>\n",
       "      <th>Month</th>\n",
       "      <th>Day</th>\n",
       "      <th>Hour</th>\n",
       "      <th>Minute</th>\n",
       "    </tr>\n",
       "  </thead>\n",
       "  <tbody>\n",
       "    <tr>\n",
       "      <th>0</th>\n",
       "      <td>46-525-81</td>\n",
       "      <td>60386</td>\n",
       "      <td>שריון חינמי</td>\n",
       "      <td>8</td>\n",
       "      <td>13</td>\n",
       "      <td>גורדון 86-88, תל אביב יפו, ישראל</td>\n",
       "      <td>2017-10-23 00:08:00</td>\n",
       "      <td>גורדון 86-88</td>\n",
       "      <td>תל אביב יפו</td>\n",
       "      <td>ישראל</td>\n",
       "      <td>2017.0</td>\n",
       "      <td>10.0</td>\n",
       "      <td>23.0</td>\n",
       "      <td>0.0</td>\n",
       "      <td>8.0</td>\n",
       "    </tr>\n",
       "    <tr>\n",
       "      <th>0</th>\n",
       "      <td>46-525-81</td>\n",
       "      <td>60386</td>\n",
       "      <td>שריון חינמי</td>\n",
       "      <td>8</td>\n",
       "      <td>13</td>\n",
       "      <td>הרב רובינשטיין 61, תל אביב יפו, ישראל</td>\n",
       "      <td>2017-10-23 00:31:00</td>\n",
       "      <td>הרב רובינשטיין 61</td>\n",
       "      <td>תל אביב יפו</td>\n",
       "      <td>ישראל</td>\n",
       "      <td>2017.0</td>\n",
       "      <td>10.0</td>\n",
       "      <td>23.0</td>\n",
       "      <td>0.0</td>\n",
       "      <td>31.0</td>\n",
       "    </tr>\n",
       "    <tr>\n",
       "      <th>1</th>\n",
       "      <td>48-437-81</td>\n",
       "      <td>60387</td>\n",
       "      <td>שריון חינמי</td>\n",
       "      <td>3</td>\n",
       "      <td>8</td>\n",
       "      <td>יעקב אפטר 3, תל אביב יפו, ישראל</td>\n",
       "      <td>2017-10-23 00:09:00</td>\n",
       "      <td>יעקב אפטר 3</td>\n",
       "      <td>תל אביב יפו</td>\n",
       "      <td>ישראל</td>\n",
       "      <td>2017.0</td>\n",
       "      <td>10.0</td>\n",
       "      <td>23.0</td>\n",
       "      <td>0.0</td>\n",
       "      <td>9.0</td>\n",
       "    </tr>\n",
       "    <tr>\n",
       "      <th>1</th>\n",
       "      <td>48-437-81</td>\n",
       "      <td>60387</td>\n",
       "      <td>שריון חינמי</td>\n",
       "      <td>3</td>\n",
       "      <td>8</td>\n",
       "      <td>ז'בוטינסקי 10, תל אביב יפו, ישראל</td>\n",
       "      <td>2017-10-23 00:21:00</td>\n",
       "      <td>ז'בוטינסקי 10</td>\n",
       "      <td>תל אביב יפו</td>\n",
       "      <td>ישראל</td>\n",
       "      <td>2017.0</td>\n",
       "      <td>10.0</td>\n",
       "      <td>23.0</td>\n",
       "      <td>0.0</td>\n",
       "      <td>21.0</td>\n",
       "    </tr>\n",
       "    <tr>\n",
       "      <th>2</th>\n",
       "      <td>63-887-81</td>\n",
       "      <td>60388</td>\n",
       "      <td>שריון חינמי</td>\n",
       "      <td>0</td>\n",
       "      <td>2</td>\n",
       "      <td>רופין 32-34, תל אביב יפו, ישראל</td>\n",
       "      <td>2017-10-23 00:10:00</td>\n",
       "      <td>רופין 32-34</td>\n",
       "      <td>תל אביב יפו</td>\n",
       "      <td>ישראל</td>\n",
       "      <td>2017.0</td>\n",
       "      <td>10.0</td>\n",
       "      <td>23.0</td>\n",
       "      <td>0.0</td>\n",
       "      <td>10.0</td>\n",
       "    </tr>\n",
       "  </tbody>\n",
       "</table>\n",
       "</div>"
      ],
      "text/plain": [
       "      Car id  Order number     Category  Avg distance Billing minutes  \\\n",
       "0  46-525-81         60386  שריון חינמי             8              13   \n",
       "0  46-525-81         60386  שריון חינמי             8              13   \n",
       "1  48-437-81         60387  שריון חינמי             3               8   \n",
       "1  48-437-81         60387  שריון חינמי             3               8   \n",
       "2  63-887-81         60388  שריון חינמי             0               2   \n",
       "\n",
       "                                 Address                Time  \\\n",
       "0       גורדון 86-88, תל אביב יפו, ישראל 2017-10-23 00:08:00   \n",
       "0  הרב רובינשטיין 61, תל אביב יפו, ישראל 2017-10-23 00:31:00   \n",
       "1        יעקב אפטר 3, תל אביב יפו, ישראל 2017-10-23 00:09:00   \n",
       "1      ז'בוטינסקי 10, תל אביב יפו, ישראל 2017-10-23 00:21:00   \n",
       "2        רופין 32-34, תל אביב יפו, ישראל 2017-10-23 00:10:00   \n",
       "\n",
       "              Street          City Country    Year  Month   Day  Hour  Minute  \n",
       "0       גורדון 86-88   תל אביב יפו   ישראל  2017.0   10.0  23.0   0.0     8.0  \n",
       "0  הרב רובינשטיין 61   תל אביב יפו   ישראל  2017.0   10.0  23.0   0.0    31.0  \n",
       "1        יעקב אפטר 3   תל אביב יפו   ישראל  2017.0   10.0  23.0   0.0     9.0  \n",
       "1      ז'בוטינסקי 10   תל אביב יפו   ישראל  2017.0   10.0  23.0   0.0    21.0  \n",
       "2        רופין 32-34   תל אביב יפו   ישראל  2017.0   10.0  23.0   0.0    10.0  "
      ]
     },
     "execution_count": 17,
     "metadata": {},
     "output_type": "execute_result"
    }
   ],
   "source": [
    "df.head()"
   ]
  },
  {
   "cell_type": "code",
   "execution_count": 21,
   "metadata": {},
   "outputs": [
    {
     "data": {
      "text/plain": [
       "הרצל 6               1898\n",
       "שדרות רוטשילד 103    1833\n",
       "הדסה 17              1785\n",
       "הלסינקי 2            1779\n",
       "שלמה אבן גבירול      1771\n",
       "                     ... \n",
       "מזא\\\"ה 16               1\n",
       "ד\\\"ר אלי תבין 7         1\n",
       "רמז 18                  1\n",
       "שדרות החי\"ל 9           1\n",
       "טבריה 4-6               1\n",
       "Name: Street, Length: 15438, dtype: int64"
      ]
     },
     "execution_count": 21,
     "metadata": {},
     "output_type": "execute_result"
    }
   ],
   "source": [
    "df[\"Street\"].value_counts()"
   ]
  },
  {
   "cell_type": "code",
   "execution_count": null,
   "metadata": {},
   "outputs": [],
   "source": []
  },
  {
   "cell_type": "code",
   "execution_count": null,
   "metadata": {},
   "outputs": [],
   "source": []
  }
 ],
 "metadata": {
  "kernelspec": {
   "display_name": "Python 3",
   "language": "python",
   "name": "python3"
  },
  "language_info": {
   "codemirror_mode": {
    "name": "ipython",
    "version": 3
   },
   "file_extension": ".py",
   "mimetype": "text/x-python",
   "name": "python",
   "nbconvert_exporter": "python",
   "pygments_lexer": "ipython3",
   "version": "3.7.3"
  }
 },
 "nbformat": 4,
 "nbformat_minor": 4
}
