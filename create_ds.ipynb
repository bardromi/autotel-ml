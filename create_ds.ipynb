{
 "cells": [
  {
   "cell_type": "markdown",
   "metadata": {},
   "source": [
    "# Table of Contents\n",
    "1. [Step 1: Prepare Data for Consumption](#step1)\n",
    "1. [Step 2: Merge Datasets and Add Rows](#step2)\n",
    "1. [Step 3: Extract Data from Features](#step3)\n",
    "1. [Step 4: Add weather data](#step4)\n"
   ]
  },
  {
   "cell_type": "markdown",
   "metadata": {},
   "source": [
    "<a id=\"step1\"></a>\n",
    "# Step 1: Prepare Data for Consumption"
   ]
  },
  {
   "cell_type": "markdown",
   "metadata": {},
   "source": [
    "## 1.1 Import Libraries"
   ]
  },
  {
   "cell_type": "code",
   "execution_count": 172,
   "metadata": {},
   "outputs": [],
   "source": [
    "import pandas as pd\n",
    "import numpy as np\n",
    "import matplotlib.pyplot as plt\n",
    "import seaborn as sns\n",
    "%matplotlib inline\n",
    "\n",
    "pd.set_option('display.max_columns', None)\n",
    "sns.set(style='white', context='notebook', palette='deep')"
   ]
  },
  {
   "cell_type": "markdown",
   "metadata": {},
   "source": [
    "## 1.2 Load Data"
   ]
  },
  {
   "cell_type": "code",
   "execution_count": 173,
   "metadata": {},
   "outputs": [
    {
     "name": "stderr",
     "output_type": "stream",
     "text": [
      "c:\\projects\\python\\autotel-ml\\venv\\lib\\site-packages\\IPython\\core\\interactiveshell.py:3063: DtypeWarning: Columns (4) have mixed types.Specify dtype option on import or set low_memory=False.\n",
      "  interactivity=interactivity, compiler=compiler, result=result)\n",
      "c:\\projects\\python\\autotel-ml\\venv\\lib\\site-packages\\IPython\\core\\interactiveshell.py:3063: DtypeWarning: Columns (25,26) have mixed types.Specify dtype option on import or set low_memory=False.\n",
      "  interactivity=interactivity, compiler=compiler, result=result)\n"
     ]
    }
   ],
   "source": [
    "df = pd.read_csv(\"./input/2018.csv\")\n",
    "df_extra = pd.read_csv(\"./input/df_with_neis.csv\")"
   ]
  },
  {
   "cell_type": "markdown",
   "metadata": {},
   "source": [
    "## 1.2 Prepare Data for Cosumption"
   ]
  },
  {
   "cell_type": "code",
   "execution_count": 174,
   "metadata": {},
   "outputs": [],
   "source": [
    "df_extra.drop(['vehicle_id','shiryun_cat','avg_dist','billing_minutes','orig_addr','dest_addr',\n",
    "               'start_dt','end_dt','orig_addr_c','dest_addr_c','orig_x_merc',\n",
    "               'orig_y_merc','dest_x_merc','dest_y_merc','start_hour','start_dayofweek','start_month'],axis=1,inplace=True)"
   ]
  },
  {
   "cell_type": "code",
   "execution_count": 175,
   "metadata": {},
   "outputs": [],
   "source": [
    "df = df.rename({'מספר רכב': 'Car id', 'מספר הזמנה': 'Order number','קטגוריית שריון':'Category',\n",
    "                 'ממוצע מרחק לנסיעה':'Avg distance','דקות לחיוב':'Billing minutes','כתובת התחלה':'Start Address',\n",
    "                 'כתובת סיום':'Dest Address','תאריך ושעה התחלת שריון':'Start time','תאריך ושעה סיום הזמנה':'End time'},\n",
    "                axis=1) "
   ]
  },
  {
   "cell_type": "code",
   "execution_count": 176,
   "metadata": {},
   "outputs": [],
   "source": [
    "df_extra = df_extra.rename({'order_id': 'Order number'},axis=1) "
   ]
  },
  {
   "cell_type": "markdown",
   "metadata": {},
   "source": [
    "<a id=\"step2\"></a>\n",
    "# Step 2: Merge Datasets and Add Rows"
   ]
  },
  {
   "cell_type": "markdown",
   "metadata": {},
   "source": [
    "## 2.1 Merge Datasets"
   ]
  },
  {
   "cell_type": "code",
   "execution_count": 177,
   "metadata": {},
   "outputs": [],
   "source": [
    "df = pd.merge(df, df_extra, on=['Order number'], how='left')"
   ]
  },
  {
   "cell_type": "markdown",
   "metadata": {},
   "source": [
    "## 2.2 Create New Rows\n",
    "creating new rows from destination data (Dest Address, End time, dest_coord, dest_x, dest_y, dest_nei)"
   ]
  },
  {
   "cell_type": "code",
   "execution_count": 178,
   "metadata": {},
   "outputs": [],
   "source": [
    "df_temp = df.copy()"
   ]
  },
  {
   "cell_type": "code",
   "execution_count": 179,
   "metadata": {},
   "outputs": [],
   "source": [
    "df.drop([\"Dest Address\",\"End time\",\"dest_coord\",\"dest_x\",\"dest_y\",\"dest_nei\"],axis=1,inplace=True)\n",
    "df_temp.drop([\"Start Address\",\"Start time\",\"orig_coord\",\"orig_x\",\"orig_y\",\"orig_nei\"],axis=1,inplace=True)"
   ]
  },
  {
   "cell_type": "code",
   "execution_count": 180,
   "metadata": {},
   "outputs": [],
   "source": [
    "df = df.rename({\"Start Address\":\"Address\",\"Start time\": \"Time\",\"orig_coord\":\"Coords\",\"orig_x\":\"Lat\",\"orig_y\":\"Lon\",\"orig_nei\":\"neighborhood\",},axis=1)\n",
    "df_temp = df_temp.rename({\"Dest Address\":\"Address\",\"End time\": \"Time\",\"dest_coord\":\"Coords\",\"dest_x\":\"Lat\",\"dest_y\":\"Lon\",\"dest_nei\":\"neighborhood\"},axis=1)"
   ]
  },
  {
   "cell_type": "code",
   "execution_count": 181,
   "metadata": {},
   "outputs": [],
   "source": [
    "df = pd.concat([df,df_temp])"
   ]
  },
  {
   "cell_type": "code",
   "execution_count": 182,
   "metadata": {},
   "outputs": [],
   "source": [
    "df.sort_values([\"Order number\",\"Time\"],axis=0,inplace=True)"
   ]
  },
  {
   "cell_type": "markdown",
   "metadata": {},
   "source": [
    "### [Delete] check for null and missing values"
   ]
  },
  {
   "cell_type": "code",
   "execution_count": 183,
   "metadata": {},
   "outputs": [],
   "source": [
    "# Fill empty and NaNs values with NaN\n",
    "df = df.fillna(np.nan)"
   ]
  },
  {
   "cell_type": "code",
   "execution_count": 209,
   "metadata": {},
   "outputs": [
    {
     "name": "stdout",
     "output_type": "stream",
     "text": [
      "<class 'pandas.core.frame.DataFrame'>\n",
      "RangeIndex: 136331 entries, 0 to 136330\n",
      "Data columns (total 10 columns):\n",
      " #   Column        Non-Null Count   Dtype  \n",
      "---  ------        --------------   -----  \n",
      " 0   Order number  136331 non-null  int64  \n",
      " 1   kmh           134214 non-null  float64\n",
      " 2   orig_coord    136331 non-null  object \n",
      " 3   dest_coord    136331 non-null  object \n",
      " 4   orig_x        136331 non-null  float64\n",
      " 5   orig_y        136331 non-null  float64\n",
      " 6   dest_x        136331 non-null  float64\n",
      " 7   dest_y        136331 non-null  float64\n",
      " 8   orig_nei      123860 non-null  object \n",
      " 9   dest_nei      123860 non-null  object \n",
      "dtypes: float64(5), int64(1), object(4)\n",
      "memory usage: 8.3+ MB\n"
     ]
    },
    {
     "data": {
      "text/plain": [
       "Order number        0\n",
       "kmh              2117\n",
       "orig_coord          0\n",
       "dest_coord          0\n",
       "orig_x              0\n",
       "orig_y              0\n",
       "dest_x              0\n",
       "dest_y              0\n",
       "orig_nei        12471\n",
       "dest_nei        12471\n",
       "dtype: int64"
      ]
     },
     "execution_count": 209,
     "metadata": {},
     "output_type": "execute_result"
    }
   ],
   "source": [
    "df.info()\n",
    "df.isnull().sum()"
   ]
  },
  {
   "cell_type": "markdown",
   "metadata": {},
   "source": [
    "<a id=\"step3\"></a>\n",
    "# Step 3: Extract Data from Features"
   ]
  },
  {
   "cell_type": "markdown",
   "metadata": {},
   "source": [
    "### Splitting address to country, city, street"
   ]
  },
  {
   "cell_type": "code",
   "execution_count": 185,
   "metadata": {},
   "outputs": [
    {
     "data": {
      "text/html": [
       "<div>\n",
       "<style scoped>\n",
       "    .dataframe tbody tr th:only-of-type {\n",
       "        vertical-align: middle;\n",
       "    }\n",
       "\n",
       "    .dataframe tbody tr th {\n",
       "        vertical-align: top;\n",
       "    }\n",
       "\n",
       "    .dataframe thead th {\n",
       "        text-align: right;\n",
       "    }\n",
       "</style>\n",
       "<table border=\"1\" class=\"dataframe\">\n",
       "  <thead>\n",
       "    <tr style=\"text-align: right;\">\n",
       "      <th></th>\n",
       "      <th>0</th>\n",
       "      <th>1</th>\n",
       "      <th>2</th>\n",
       "      <th>3</th>\n",
       "    </tr>\n",
       "  </thead>\n",
       "  <tbody>\n",
       "    <tr>\n",
       "      <th>0</th>\n",
       "      <td>גורדון 86-88</td>\n",
       "      <td>תל אביב יפו</td>\n",
       "      <td>ישראל</td>\n",
       "      <td>None</td>\n",
       "    </tr>\n",
       "    <tr>\n",
       "      <th>0</th>\n",
       "      <td>הרב רובינשטיין 61</td>\n",
       "      <td>תל אביב יפו</td>\n",
       "      <td>ישראל</td>\n",
       "      <td>None</td>\n",
       "    </tr>\n",
       "    <tr>\n",
       "      <th>1</th>\n",
       "      <td>יעקב אפטר 3</td>\n",
       "      <td>תל אביב יפו</td>\n",
       "      <td>ישראל</td>\n",
       "      <td>None</td>\n",
       "    </tr>\n",
       "  </tbody>\n",
       "</table>\n",
       "</div>"
      ],
      "text/plain": [
       "                   0             1       2     3\n",
       "0       גורדון 86-88   תל אביב יפו   ישראל  None\n",
       "0  הרב רובינשטיין 61   תל אביב יפו   ישראל  None\n",
       "1        יעקב אפטר 3   תל אביב יפו   ישראל  None"
      ]
     },
     "execution_count": 185,
     "metadata": {},
     "output_type": "execute_result"
    }
   ],
   "source": [
    "split_col = df[\"Address\"].str.split(\",\", expand=True)\n",
    "split_col[:3]"
   ]
  },
  {
   "cell_type": "code",
   "execution_count": 186,
   "metadata": {},
   "outputs": [],
   "source": [
    "df[\"Street\"] = split_col[0]\n",
    "df[\"City\"] = split_col[1]\n",
    "df[\"Country\"] = split_col[2]"
   ]
  },
  {
   "cell_type": "markdown",
   "metadata": {},
   "source": [
    "#### extracting street without numbers"
   ]
  },
  {
   "cell_type": "code",
   "execution_count": 187,
   "metadata": {},
   "outputs": [],
   "source": [
    "df[\"Street_c\"] = df['Street'].str.replace(r'(\\d+)(-(\\d+))*', r'')"
   ]
  },
  {
   "cell_type": "markdown",
   "metadata": {},
   "source": [
    "#### extract clean address for google api use"
   ]
  },
  {
   "cell_type": "code",
   "execution_count": 188,
   "metadata": {},
   "outputs": [],
   "source": [
    "df['Address_c'] = df['Address'].str.replace(r'(\\d+)-(\\d+)', r'\\1')"
   ]
  },
  {
   "cell_type": "markdown",
   "metadata": {},
   "source": [
    "### Extract date and time"
   ]
  },
  {
   "cell_type": "code",
   "execution_count": 189,
   "metadata": {},
   "outputs": [],
   "source": [
    "df[\"Time\"] = pd.to_datetime(df[\"Time\"])"
   ]
  },
  {
   "cell_type": "code",
   "execution_count": 190,
   "metadata": {},
   "outputs": [],
   "source": [
    "df[\"Date\"] = df[\"Time\"].dt.date\n",
    "# df[\"time\"] = df[\"Time\"].dt.time\n",
    "df[\"Year\"] = df[\"Time\"].dt.year\n",
    "df[\"Month\"] = df[\"Time\"].dt.month\n",
    "df[\"Day\"] = df[\"Time\"].dt.day\n",
    "df[\"Hour\"] = df[\"Time\"].dt.hour\n",
    "df[\"Minute\"] = df[\"Time\"].dt.minute"
   ]
  },
  {
   "cell_type": "code",
   "execution_count": 191,
   "metadata": {},
   "outputs": [
    {
     "data": {
      "text/html": [
       "<div>\n",
       "<style scoped>\n",
       "    .dataframe tbody tr th:only-of-type {\n",
       "        vertical-align: middle;\n",
       "    }\n",
       "\n",
       "    .dataframe tbody tr th {\n",
       "        vertical-align: top;\n",
       "    }\n",
       "\n",
       "    .dataframe thead th {\n",
       "        text-align: right;\n",
       "    }\n",
       "</style>\n",
       "<table border=\"1\" class=\"dataframe\">\n",
       "  <thead>\n",
       "    <tr style=\"text-align: right;\">\n",
       "      <th></th>\n",
       "      <th>Car id</th>\n",
       "      <th>Order number</th>\n",
       "      <th>Category</th>\n",
       "      <th>Avg distance</th>\n",
       "      <th>Billing minutes</th>\n",
       "      <th>Address</th>\n",
       "      <th>Time</th>\n",
       "      <th>kmh</th>\n",
       "      <th>Coords</th>\n",
       "      <th>Lat</th>\n",
       "      <th>Lon</th>\n",
       "      <th>neighborhood</th>\n",
       "      <th>Street</th>\n",
       "      <th>City</th>\n",
       "      <th>Country</th>\n",
       "      <th>Street_c</th>\n",
       "      <th>Address_c</th>\n",
       "      <th>Date</th>\n",
       "      <th>Year</th>\n",
       "      <th>Month</th>\n",
       "      <th>Day</th>\n",
       "      <th>Hour</th>\n",
       "      <th>Minute</th>\n",
       "    </tr>\n",
       "  </thead>\n",
       "  <tbody>\n",
       "    <tr>\n",
       "      <th>0</th>\n",
       "      <td>46-525-81</td>\n",
       "      <td>60386</td>\n",
       "      <td>שריון חינמי</td>\n",
       "      <td>8</td>\n",
       "      <td>13</td>\n",
       "      <td>גורדון 86-88, תל אביב יפו, ישראל</td>\n",
       "      <td>2017-10-23 00:08:00</td>\n",
       "      <td>37.151703</td>\n",
       "      <td>(32.0807428, 34.7792228)</td>\n",
       "      <td>32.080743</td>\n",
       "      <td>34.779223</td>\n",
       "      <td>הצפון הישן-החלק הדרומי</td>\n",
       "      <td>גורדון 86-88</td>\n",
       "      <td>תל אביב יפו</td>\n",
       "      <td>ישראל</td>\n",
       "      <td>גורדון</td>\n",
       "      <td>גורדון 86, תל אביב יפו, ישראל</td>\n",
       "      <td>2017-10-23</td>\n",
       "      <td>2017.0</td>\n",
       "      <td>10.0</td>\n",
       "      <td>23.0</td>\n",
       "      <td>0.0</td>\n",
       "      <td>8.0</td>\n",
       "    </tr>\n",
       "    <tr>\n",
       "      <th>0</th>\n",
       "      <td>46-525-81</td>\n",
       "      <td>60386</td>\n",
       "      <td>שריון חינמי</td>\n",
       "      <td>8</td>\n",
       "      <td>13</td>\n",
       "      <td>הרב רובינשטיין 61, תל אביב יפו, ישראל</td>\n",
       "      <td>2017-10-23 00:31:00</td>\n",
       "      <td>37.151703</td>\n",
       "      <td>(32.0357011, 34.7581719)</td>\n",
       "      <td>32.035701</td>\n",
       "      <td>34.758172</td>\n",
       "      <td>(יפו ד' (גבעת התמרים</td>\n",
       "      <td>הרב רובינשטיין 61</td>\n",
       "      <td>תל אביב יפו</td>\n",
       "      <td>ישראל</td>\n",
       "      <td>הרב רובינשטיין</td>\n",
       "      <td>הרב רובינשטיין 61, תל אביב יפו, ישראל</td>\n",
       "      <td>2017-10-23</td>\n",
       "      <td>2017.0</td>\n",
       "      <td>10.0</td>\n",
       "      <td>23.0</td>\n",
       "      <td>0.0</td>\n",
       "      <td>31.0</td>\n",
       "    </tr>\n",
       "    <tr>\n",
       "      <th>1</th>\n",
       "      <td>48-437-81</td>\n",
       "      <td>60387</td>\n",
       "      <td>שריון חינמי</td>\n",
       "      <td>3</td>\n",
       "      <td>8</td>\n",
       "      <td>יעקב אפטר 3, תל אביב יפו, ישראל</td>\n",
       "      <td>2017-10-23 00:09:00</td>\n",
       "      <td>21.556886</td>\n",
       "      <td>(32.1050698, 34.7892274)</td>\n",
       "      <td>32.105070</td>\n",
       "      <td>34.789227</td>\n",
       "      <td>'תכנית ל</td>\n",
       "      <td>יעקב אפטר 3</td>\n",
       "      <td>תל אביב יפו</td>\n",
       "      <td>ישראל</td>\n",
       "      <td>יעקב אפטר</td>\n",
       "      <td>יעקב אפטר 3, תל אביב יפו, ישראל</td>\n",
       "      <td>2017-10-23</td>\n",
       "      <td>2017.0</td>\n",
       "      <td>10.0</td>\n",
       "      <td>23.0</td>\n",
       "      <td>0.0</td>\n",
       "      <td>9.0</td>\n",
       "    </tr>\n",
       "    <tr>\n",
       "      <th>1</th>\n",
       "      <td>48-437-81</td>\n",
       "      <td>60387</td>\n",
       "      <td>שריון חינמי</td>\n",
       "      <td>3</td>\n",
       "      <td>8</td>\n",
       "      <td>ז'בוטינסקי 10, תל אביב יפו, ישראל</td>\n",
       "      <td>2017-10-23 00:21:00</td>\n",
       "      <td>21.556886</td>\n",
       "      <td>(32.0895831, 34.7734306)</td>\n",
       "      <td>32.089583</td>\n",
       "      <td>34.773431</td>\n",
       "      <td>הצפון הישן - החלק הצפוני</td>\n",
       "      <td>ז'בוטינסקי 10</td>\n",
       "      <td>תל אביב יפו</td>\n",
       "      <td>ישראל</td>\n",
       "      <td>ז'בוטינסקי</td>\n",
       "      <td>ז'בוטינסקי 10, תל אביב יפו, ישראל</td>\n",
       "      <td>2017-10-23</td>\n",
       "      <td>2017.0</td>\n",
       "      <td>10.0</td>\n",
       "      <td>23.0</td>\n",
       "      <td>0.0</td>\n",
       "      <td>21.0</td>\n",
       "    </tr>\n",
       "    <tr>\n",
       "      <th>2</th>\n",
       "      <td>63-887-81</td>\n",
       "      <td>60388</td>\n",
       "      <td>שריון חינמי</td>\n",
       "      <td>0</td>\n",
       "      <td>2</td>\n",
       "      <td>רופין 32-34, תל אביב יפו, ישראל</td>\n",
       "      <td>2017-10-23 00:10:00</td>\n",
       "      <td>0.000000</td>\n",
       "      <td>(32.0836176, 34.7710507)</td>\n",
       "      <td>32.083618</td>\n",
       "      <td>34.771051</td>\n",
       "      <td>הצפון הישן-החלק הדרומי</td>\n",
       "      <td>רופין 32-34</td>\n",
       "      <td>תל אביב יפו</td>\n",
       "      <td>ישראל</td>\n",
       "      <td>רופין</td>\n",
       "      <td>רופין 32, תל אביב יפו, ישראל</td>\n",
       "      <td>2017-10-23</td>\n",
       "      <td>2017.0</td>\n",
       "      <td>10.0</td>\n",
       "      <td>23.0</td>\n",
       "      <td>0.0</td>\n",
       "      <td>10.0</td>\n",
       "    </tr>\n",
       "  </tbody>\n",
       "</table>\n",
       "</div>"
      ],
      "text/plain": [
       "      Car id  Order number     Category  Avg distance Billing minutes  \\\n",
       "0  46-525-81         60386  שריון חינמי             8              13   \n",
       "0  46-525-81         60386  שריון חינמי             8              13   \n",
       "1  48-437-81         60387  שריון חינמי             3               8   \n",
       "1  48-437-81         60387  שריון חינמי             3               8   \n",
       "2  63-887-81         60388  שריון חינמי             0               2   \n",
       "\n",
       "                                 Address                Time        kmh  \\\n",
       "0       גורדון 86-88, תל אביב יפו, ישראל 2017-10-23 00:08:00  37.151703   \n",
       "0  הרב רובינשטיין 61, תל אביב יפו, ישראל 2017-10-23 00:31:00  37.151703   \n",
       "1        יעקב אפטר 3, תל אביב יפו, ישראל 2017-10-23 00:09:00  21.556886   \n",
       "1      ז'בוטינסקי 10, תל אביב יפו, ישראל 2017-10-23 00:21:00  21.556886   \n",
       "2        רופין 32-34, תל אביב יפו, ישראל 2017-10-23 00:10:00   0.000000   \n",
       "\n",
       "                     Coords        Lat        Lon              neighborhood  \\\n",
       "0  (32.0807428, 34.7792228)  32.080743  34.779223    הצפון הישן-החלק הדרומי   \n",
       "0  (32.0357011, 34.7581719)  32.035701  34.758172      (יפו ד' (גבעת התמרים   \n",
       "1  (32.1050698, 34.7892274)  32.105070  34.789227                  'תכנית ל   \n",
       "1  (32.0895831, 34.7734306)  32.089583  34.773431  הצפון הישן - החלק הצפוני   \n",
       "2  (32.0836176, 34.7710507)  32.083618  34.771051    הצפון הישן-החלק הדרומי   \n",
       "\n",
       "              Street          City Country         Street_c  \\\n",
       "0       גורדון 86-88   תל אביב יפו   ישראל          גורדון    \n",
       "0  הרב רובינשטיין 61   תל אביב יפו   ישראל  הרב רובינשטיין    \n",
       "1        יעקב אפטר 3   תל אביב יפו   ישראל       יעקב אפטר    \n",
       "1      ז'בוטינסקי 10   תל אביב יפו   ישראל      ז'בוטינסקי    \n",
       "2        רופין 32-34   תל אביב יפו   ישראל           רופין    \n",
       "\n",
       "                               Address_c        Date    Year  Month   Day  \\\n",
       "0          גורדון 86, תל אביב יפו, ישראל  2017-10-23  2017.0   10.0  23.0   \n",
       "0  הרב רובינשטיין 61, תל אביב יפו, ישראל  2017-10-23  2017.0   10.0  23.0   \n",
       "1        יעקב אפטר 3, תל אביב יפו, ישראל  2017-10-23  2017.0   10.0  23.0   \n",
       "1      ז'בוטינסקי 10, תל אביב יפו, ישראל  2017-10-23  2017.0   10.0  23.0   \n",
       "2           רופין 32, תל אביב יפו, ישראל  2017-10-23  2017.0   10.0  23.0   \n",
       "\n",
       "   Hour  Minute  \n",
       "0   0.0     8.0  \n",
       "0   0.0    31.0  \n",
       "1   0.0     9.0  \n",
       "1   0.0    21.0  \n",
       "2   0.0    10.0  "
      ]
     },
     "execution_count": 191,
     "metadata": {},
     "output_type": "execute_result"
    }
   ],
   "source": [
    "df.head()"
   ]
  },
  {
   "cell_type": "markdown",
   "metadata": {},
   "source": [
    "<a id=\"step4\"></a>\n",
    "# Step 4: Add weather data"
   ]
  },
  {
   "cell_type": "code",
   "execution_count": 192,
   "metadata": {},
   "outputs": [],
   "source": [
    "weather = pd.read_csv(\"./input/ims_data_2017_2018.csv\",na_values={\n",
    "    \"טמפרטורה(C°)\": [\"-\"],\n",
    "    \"טמפרטורת מקסימום(C°)\": [\"-\"],\n",
    "    \"טמפרטורת מינימום(C°)\": [\"-\"],\n",
    "    \"לחות יחסית(%)\": [\"-\"],\n",
    "    \"מהירות הרוח(m/s)\": [\"-\"],\n",
    "    \"כיוון הרוח(מעלות)\": [\"-\"],\n",
    "    \"מהירות רוח דקתית מקסימלית(m/s)\": [\"-\"],\n",
    "    \"מהירות רוח 10 דקתית מקסימלית(m/s)\": [\"-\"]\n",
    "},dtype={\n",
    "    \"טמפרטורה(C°)\": np.float64,\n",
    "    \"טמפרטורת מקסימום(C°)\":np.float64,\n",
    "    \"טמפרטורת מינימום(C°)\":np.float64,\n",
    "    \"לחות יחסית(%)\": np.float64,\n",
    "    \"מהירות הרוח(m/s)\":np.float64,\n",
    "    'כמות גשם(מ\"מ)': np.float64,\n",
    "    \"מהירות הרוח(m/s)\": np.float64,\n",
    "    \"כיוון הרוח(מעלות)\": np.float64,\n",
    "    \"מהירות רוח דקתית מקסימלית(m/s)\": np.float64,\n",
    "    \"מהירות רוח 10 דקתית מקסימלית(m/s)\": np.float64\n",
    "})"
   ]
  },
  {
   "cell_type": "code",
   "execution_count": 193,
   "metadata": {},
   "outputs": [],
   "source": [
    "weather = weather.rename({\"שם תחנה\":\"station\",\"תאריך\":\"Date\",\"שעה- LST\":\"Time - LST\",\"טמפרטורה(C°)\":\"Temprature\",\n",
    "                          \"טמפרטורת מקסימום(C°)\":\"Max Temprature\",\"טמפרטורת מינימום(C°)\":\"Min Temprature\",\"לחות יחסית(%)\":\"Relative Humidity\",\n",
    "                          'כמות גשם(מ\"מ)':\"Amount of Rain\",\"מהירות הרוח(m/s)\":\"Wind Speed\",\"כיוון הרוח(מעלות)\":\"Wind Direction\",\n",
    "                          \"מהירות רוח דקתית מקסימלית(m/s)\":\"Max Wind Speed per Min\",\"מהירות רוח 10 דקתית מקסימלית(m/s)\":\"Max Win Speed per 10 Min\"}\n",
    "                         ,axis=1)"
   ]
  },
  {
   "cell_type": "code",
   "execution_count": 194,
   "metadata": {},
   "outputs": [],
   "source": [
    "weather[\"Time - LST\"] = pd.to_datetime(weather[\"Time - LST\"])\n",
    "weather[\"Date\"] = pd.to_datetime(weather[\"Date\"])"
   ]
  },
  {
   "cell_type": "code",
   "execution_count": 195,
   "metadata": {},
   "outputs": [],
   "source": [
    "weather[\"Hour\"] = weather[\"Time - LST\"].dt.hour.astype(float)\n",
    "weather[\"Date\"] = weather[\"Date\"].dt.date"
   ]
  },
  {
   "cell_type": "code",
   "execution_count": 196,
   "metadata": {},
   "outputs": [
    {
     "data": {
      "text/html": [
       "<div>\n",
       "<style scoped>\n",
       "    .dataframe tbody tr th:only-of-type {\n",
       "        vertical-align: middle;\n",
       "    }\n",
       "\n",
       "    .dataframe tbody tr th {\n",
       "        vertical-align: top;\n",
       "    }\n",
       "\n",
       "    .dataframe thead th {\n",
       "        text-align: right;\n",
       "    }\n",
       "</style>\n",
       "<table border=\"1\" class=\"dataframe\">\n",
       "  <thead>\n",
       "    <tr style=\"text-align: right;\">\n",
       "      <th></th>\n",
       "      <th>station</th>\n",
       "      <th>Date</th>\n",
       "      <th>Time - LST</th>\n",
       "      <th>Temprature</th>\n",
       "      <th>Max Temprature</th>\n",
       "      <th>Min Temprature</th>\n",
       "      <th>Relative Humidity</th>\n",
       "      <th>Amount of Rain</th>\n",
       "      <th>Wind Speed</th>\n",
       "      <th>Wind Direction</th>\n",
       "      <th>Max Wind Speed per Min</th>\n",
       "      <th>Max Win Speed per 10 Min</th>\n",
       "      <th>Hour</th>\n",
       "    </tr>\n",
       "  </thead>\n",
       "  <tbody>\n",
       "    <tr>\n",
       "      <th>0</th>\n",
       "      <td>תל-אביב חוף                                   ...</td>\n",
       "      <td>2017-01-01</td>\n",
       "      <td>2020-03-25 00:00:00</td>\n",
       "      <td>10.4</td>\n",
       "      <td>10.5</td>\n",
       "      <td>10.3</td>\n",
       "      <td>84.0</td>\n",
       "      <td>0.0</td>\n",
       "      <td>2.6</td>\n",
       "      <td>114.0</td>\n",
       "      <td>2.8</td>\n",
       "      <td>2.7</td>\n",
       "      <td>0.0</td>\n",
       "    </tr>\n",
       "    <tr>\n",
       "      <th>1</th>\n",
       "      <td>תל-אביב חוף                                   ...</td>\n",
       "      <td>2017-01-01</td>\n",
       "      <td>2020-03-25 00:10:00</td>\n",
       "      <td>10.3</td>\n",
       "      <td>10.3</td>\n",
       "      <td>10.2</td>\n",
       "      <td>84.0</td>\n",
       "      <td>0.0</td>\n",
       "      <td>2.5</td>\n",
       "      <td>115.0</td>\n",
       "      <td>2.9</td>\n",
       "      <td>2.6</td>\n",
       "      <td>0.0</td>\n",
       "    </tr>\n",
       "    <tr>\n",
       "      <th>2</th>\n",
       "      <td>תל-אביב חוף                                   ...</td>\n",
       "      <td>2017-01-01</td>\n",
       "      <td>2020-03-25 00:20:00</td>\n",
       "      <td>10.2</td>\n",
       "      <td>10.2</td>\n",
       "      <td>10.2</td>\n",
       "      <td>84.0</td>\n",
       "      <td>0.0</td>\n",
       "      <td>2.3</td>\n",
       "      <td>114.0</td>\n",
       "      <td>2.6</td>\n",
       "      <td>2.6</td>\n",
       "      <td>0.0</td>\n",
       "    </tr>\n",
       "    <tr>\n",
       "      <th>3</th>\n",
       "      <td>תל-אביב חוף                                   ...</td>\n",
       "      <td>2017-01-01</td>\n",
       "      <td>2020-03-25 00:30:00</td>\n",
       "      <td>10.1</td>\n",
       "      <td>10.2</td>\n",
       "      <td>10.1</td>\n",
       "      <td>83.0</td>\n",
       "      <td>0.0</td>\n",
       "      <td>1.8</td>\n",
       "      <td>112.0</td>\n",
       "      <td>2.4</td>\n",
       "      <td>2.3</td>\n",
       "      <td>0.0</td>\n",
       "    </tr>\n",
       "    <tr>\n",
       "      <th>4</th>\n",
       "      <td>תל-אביב חוף                                   ...</td>\n",
       "      <td>2017-01-01</td>\n",
       "      <td>2020-03-25 00:40:00</td>\n",
       "      <td>10.1</td>\n",
       "      <td>10.1</td>\n",
       "      <td>10.1</td>\n",
       "      <td>83.0</td>\n",
       "      <td>0.0</td>\n",
       "      <td>1.8</td>\n",
       "      <td>108.0</td>\n",
       "      <td>2.3</td>\n",
       "      <td>1.8</td>\n",
       "      <td>0.0</td>\n",
       "    </tr>\n",
       "  </tbody>\n",
       "</table>\n",
       "</div>"
      ],
      "text/plain": [
       "                                             station        Date  \\\n",
       "0  תל-אביב חוף                                   ...  2017-01-01   \n",
       "1  תל-אביב חוף                                   ...  2017-01-01   \n",
       "2  תל-אביב חוף                                   ...  2017-01-01   \n",
       "3  תל-אביב חוף                                   ...  2017-01-01   \n",
       "4  תל-אביב חוף                                   ...  2017-01-01   \n",
       "\n",
       "           Time - LST  Temprature  Max Temprature  Min Temprature  \\\n",
       "0 2020-03-25 00:00:00        10.4            10.5            10.3   \n",
       "1 2020-03-25 00:10:00        10.3            10.3            10.2   \n",
       "2 2020-03-25 00:20:00        10.2            10.2            10.2   \n",
       "3 2020-03-25 00:30:00        10.1            10.2            10.1   \n",
       "4 2020-03-25 00:40:00        10.1            10.1            10.1   \n",
       "\n",
       "   Relative Humidity  Amount of Rain  Wind Speed  Wind Direction  \\\n",
       "0               84.0             0.0         2.6           114.0   \n",
       "1               84.0             0.0         2.5           115.0   \n",
       "2               84.0             0.0         2.3           114.0   \n",
       "3               83.0             0.0         1.8           112.0   \n",
       "4               83.0             0.0         1.8           108.0   \n",
       "\n",
       "   Max Wind Speed per Min  Max Win Speed per 10 Min  Hour  \n",
       "0                     2.8                       2.7   0.0  \n",
       "1                     2.9                       2.6   0.0  \n",
       "2                     2.6                       2.6   0.0  \n",
       "3                     2.4                       2.3   0.0  \n",
       "4                     2.3                       1.8   0.0  "
      ]
     },
     "execution_count": 196,
     "metadata": {},
     "output_type": "execute_result"
    }
   ],
   "source": [
    "weather.head()"
   ]
  },
  {
   "cell_type": "code",
   "execution_count": 197,
   "metadata": {},
   "outputs": [],
   "source": [
    "weather_hour_grouped = weather.groupby([\"Date\",\"Hour\"]).agg({\n",
    "        'Temprature':'mean', 'Max Temprature':'max','Min Temprature':'min',\n",
    "        'Relative Humidity':'mean','Amount of Rain':'mean','Wind Speed':'mean',\n",
    "        'Wind Direction':'mean','Max Wind Speed per Min':'max','Max Win Speed per 10 Min':'max'}).reset_index()"
   ]
  },
  {
   "cell_type": "code",
   "execution_count": 198,
   "metadata": {},
   "outputs": [],
   "source": [
    "df = pd.merge(df,weather_hour_grouped,on=[\"Date\",\"Hour\"],how='left')"
   ]
  },
  {
   "cell_type": "markdown",
   "metadata": {},
   "source": [
    "## Visualization"
   ]
  },
  {
   "cell_type": "code",
   "execution_count": 65,
   "metadata": {},
   "outputs": [],
   "source": [
    "counts = df['neighborhood'].value_counts()\n",
    "counts_more_then = df[df['neighborhood'].isin(counts[counts > 1000].index)]"
   ]
  },
  {
   "cell_type": "code",
   "execution_count": 165,
   "metadata": {},
   "outputs": [],
   "source": [
    "tmp = df.groupby(['Year', 'Month']).size().reset_index(name='Freq')"
   ]
  },
  {
   "cell_type": "code",
   "execution_count": null,
   "metadata": {},
   "outputs": [],
   "source": []
  },
  {
   "cell_type": "code",
   "execution_count": null,
   "metadata": {},
   "outputs": [],
   "source": []
  }
 ],
 "metadata": {
  "kernelspec": {
   "display_name": "Python 3",
   "language": "python",
   "name": "python3"
  },
  "language_info": {
   "codemirror_mode": {
    "name": "ipython",
    "version": 3
   },
   "file_extension": ".py",
   "mimetype": "text/x-python",
   "name": "python",
   "nbconvert_exporter": "python",
   "pygments_lexer": "ipython3",
   "version": "3.7.4"
  }
 },
 "nbformat": 4,
 "nbformat_minor": 4
}
