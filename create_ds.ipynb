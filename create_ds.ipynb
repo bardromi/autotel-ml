{
 "cells": [
  {
   "cell_type": "markdown",
   "metadata": {},
   "source": [
    "# Table of Contents\n",
    "1. [Step 1: Prepare Data for Consumption](#step1)\n",
    "1. [Step 2: Merge Datasets and Add Rows](#step2)\n",
    "1. [Step 3: Extract Data from Features](#step3)\n",
    "1. [Step 4: Add weather data](#step4)\n"
   ]
  },
  {
   "cell_type": "markdown",
   "metadata": {},
   "source": [
    "<a id=\"step1\"></a>\n",
    "# Step 1: Prepare Data for Consumption"
   ]
  },
  {
   "cell_type": "markdown",
   "metadata": {},
   "source": [
    "## 1.1 Import Libraries"
   ]
  },
  {
   "cell_type": "code",
   "execution_count": 38,
   "metadata": {},
   "outputs": [],
   "source": [
    "import pandas as pd\n",
    "import numpy as np\n",
    "import matplotlib.pyplot as plt\n",
    "import seaborn as sns\n",
    "%matplotlib inline\n",
    "\n",
    "pd.set_option('display.max_columns', None)\n",
    "sns.set(style='white', context='notebook', palette='deep')"
   ]
  },
  {
   "cell_type": "markdown",
   "metadata": {},
   "source": [
    "## 1.2 Load Data"
   ]
  },
  {
   "cell_type": "code",
   "execution_count": 44,
   "metadata": {},
   "outputs": [
    {
     "name": "stderr",
     "output_type": "stream",
     "text": [
      "c:\\projects\\python\\autotel-ml\\venv\\lib\\site-packages\\IPython\\core\\interactiveshell.py:3063: DtypeWarning: Columns (4) have mixed types.Specify dtype option on import or set low_memory=False.\n",
      "  interactivity=interactivity, compiler=compiler, result=result)\n"
     ]
    }
   ],
   "source": [
    "df = pd.read_csv(\"./input/2018.csv\")\n",
    "df_extra = pd.read_csv(\"./input/df_date_range_by_staying.csv\")"
   ]
  },
  {
   "cell_type": "code",
   "execution_count": 45,
   "metadata": {},
   "outputs": [
    {
     "data": {
      "text/html": [
       "<div>\n",
       "<style scoped>\n",
       "    .dataframe tbody tr th:only-of-type {\n",
       "        vertical-align: middle;\n",
       "    }\n",
       "\n",
       "    .dataframe tbody tr th {\n",
       "        vertical-align: top;\n",
       "    }\n",
       "\n",
       "    .dataframe thead th {\n",
       "        text-align: right;\n",
       "    }\n",
       "</style>\n",
       "<table border=\"1\" class=\"dataframe\">\n",
       "  <thead>\n",
       "    <tr style=\"text-align: right;\">\n",
       "      <th></th>\n",
       "      <th>vehicle_id</th>\n",
       "      <th>order_id</th>\n",
       "      <th>shiryun_cat</th>\n",
       "      <th>avg_dist</th>\n",
       "      <th>billing_minutes</th>\n",
       "      <th>orig_addr</th>\n",
       "      <th>dest_addr</th>\n",
       "      <th>start_dt</th>\n",
       "      <th>end_dt</th>\n",
       "      <th>kmh</th>\n",
       "      <th>orig_addr_c</th>\n",
       "      <th>dest_addr_c</th>\n",
       "      <th>orig_coord</th>\n",
       "      <th>dest_coord</th>\n",
       "      <th>orig_x</th>\n",
       "      <th>orig_y</th>\n",
       "      <th>dest_x</th>\n",
       "      <th>dest_y</th>\n",
       "      <th>orig_x_merc</th>\n",
       "      <th>orig_y_merc</th>\n",
       "      <th>dest_x_merc</th>\n",
       "      <th>dest_y_merc</th>\n",
       "      <th>start_hour</th>\n",
       "      <th>start_dayofweek</th>\n",
       "      <th>start_month</th>\n",
       "      <th>orig_nei</th>\n",
       "      <th>dest_nei</th>\n",
       "      <th>origin_nei_id</th>\n",
       "      <th>orig_nei_name</th>\n",
       "      <th>orig_nei_area</th>\n",
       "      <th>orig_nei_popu</th>\n",
       "      <th>dest_nei_id</th>\n",
       "      <th>dest_nei_name</th>\n",
       "      <th>dest_nei_area</th>\n",
       "      <th>dest_nei_popu</th>\n",
       "      <th>next_origin_nei_id</th>\n",
       "      <th>next_start_dt</th>\n",
       "      <th>hour_list</th>\n",
       "    </tr>\n",
       "  </thead>\n",
       "  <tbody>\n",
       "    <tr>\n",
       "      <th>0</th>\n",
       "      <td>46-525-81</td>\n",
       "      <td>60386</td>\n",
       "      <td>שריון חינמי</td>\n",
       "      <td>8</td>\n",
       "      <td>12.92</td>\n",
       "      <td>גורדון 86-88, תל אביב יפו, ישראל</td>\n",
       "      <td>הרב רובינשטיין 61, תל אביב יפו, ישראל</td>\n",
       "      <td>2017-10-23 00:08:53.000</td>\n",
       "      <td>2017-10-23 00:31:40.370</td>\n",
       "      <td>37.151703</td>\n",
       "      <td>גורדון 86, תל אביב יפו, ישראל</td>\n",
       "      <td>הרב רובינשטיין 61, תל אביב יפו, ישראל</td>\n",
       "      <td>(32.0807428, 34.7792228)</td>\n",
       "      <td>(32.0357011, 34.7581719)</td>\n",
       "      <td>32.080743</td>\n",
       "      <td>34.779223</td>\n",
       "      <td>32.035701</td>\n",
       "      <td>34.758172</td>\n",
       "      <td>3.871605e+06</td>\n",
       "      <td>3.773914e+06</td>\n",
       "      <td>3.869262e+06</td>\n",
       "      <td>3.767998e+06</td>\n",
       "      <td>0</td>\n",
       "      <td>Monday</td>\n",
       "      <td>October</td>\n",
       "      <td>הצפון הישן-החלק הדרומי</td>\n",
       "      <td>(יפו ד' (גבעת התמרים</td>\n",
       "      <td>31.0</td>\n",
       "      <td>הצפון הישן-החלק הדרומי</td>\n",
       "      <td>1348333.357</td>\n",
       "      <td>29394</td>\n",
       "      <td>49.0</td>\n",
       "      <td>(יפו ד' (גבעת התמרים</td>\n",
       "      <td>389591.6863</td>\n",
       "      <td>6631</td>\n",
       "      <td>35.0</td>\n",
       "      <td>2017-10-24 15:58:11.000</td>\n",
       "      <td>[Timestamp('2017-10-23 00:31:40.370000')]</td>\n",
       "    </tr>\n",
       "    <tr>\n",
       "      <th>1</th>\n",
       "      <td>46-549-81</td>\n",
       "      <td>60953</td>\n",
       "      <td>שריון חינמי</td>\n",
       "      <td>6</td>\n",
       "      <td>19.05</td>\n",
       "      <td>שדרות מסריק 19, תל אביב יפו, ישראל</td>\n",
       "      <td>הרב רובינשטיין 63, תל אביב יפו, ישראל</td>\n",
       "      <td>2017-10-24 04:01:12.000</td>\n",
       "      <td>2017-10-24 04:24:45.240</td>\n",
       "      <td>18.897638</td>\n",
       "      <td>שדרות מסריק 19, תל אביב יפו, ישראל</td>\n",
       "      <td>הרב רובינשטיין 63, תל אביב יפו, ישראל</td>\n",
       "      <td>(32.0792292, 34.77892540000001)</td>\n",
       "      <td>(32.0358154, 34.7583417)</td>\n",
       "      <td>32.079229</td>\n",
       "      <td>34.778925</td>\n",
       "      <td>32.035815</td>\n",
       "      <td>34.758342</td>\n",
       "      <td>3.871572e+06</td>\n",
       "      <td>3.773715e+06</td>\n",
       "      <td>3.869281e+06</td>\n",
       "      <td>3.768013e+06</td>\n",
       "      <td>4</td>\n",
       "      <td>Tuesday</td>\n",
       "      <td>October</td>\n",
       "      <td>הצפון הישן-החלק הדרומי</td>\n",
       "      <td>(יפו ד' (גבעת התמרים</td>\n",
       "      <td>31.0</td>\n",
       "      <td>הצפון הישן-החלק הדרומי</td>\n",
       "      <td>1348333.357</td>\n",
       "      <td>29394</td>\n",
       "      <td>49.0</td>\n",
       "      <td>(יפו ד' (גבעת התמרים</td>\n",
       "      <td>389591.6863</td>\n",
       "      <td>6631</td>\n",
       "      <td>46.0</td>\n",
       "      <td>2017-10-28 20:58:25.000</td>\n",
       "      <td>[Timestamp('2017-10-24 04:24:45.240000')]</td>\n",
       "    </tr>\n",
       "    <tr>\n",
       "      <th>2</th>\n",
       "      <td>60-609-55</td>\n",
       "      <td>66006</td>\n",
       "      <td>שריון חינמי</td>\n",
       "      <td>8</td>\n",
       "      <td>13.12</td>\n",
       "      <td>נצח ישראל 6, תל אביב יפו, ישראל</td>\n",
       "      <td>סומקן 34, תל אביב יפו, ישראל</td>\n",
       "      <td>2017-11-02 02:19:45.000</td>\n",
       "      <td>2017-11-02 02:41:30.513</td>\n",
       "      <td>36.585366</td>\n",
       "      <td>נצח ישראל 6, תל אביב יפו, ישראל</td>\n",
       "      <td>סומקן 34, תל אביב יפו, ישראל</td>\n",
       "      <td>(32.0777774, 34.7786358)</td>\n",
       "      <td>(32.0353933, 34.7587304)</td>\n",
       "      <td>32.077777</td>\n",
       "      <td>34.778636</td>\n",
       "      <td>32.035393</td>\n",
       "      <td>34.758730</td>\n",
       "      <td>3.871540e+06</td>\n",
       "      <td>3.773524e+06</td>\n",
       "      <td>3.869324e+06</td>\n",
       "      <td>3.767957e+06</td>\n",
       "      <td>2</td>\n",
       "      <td>Thursday</td>\n",
       "      <td>November</td>\n",
       "      <td>הצפון הישן-החלק הדרומי</td>\n",
       "      <td>(יפו ד' (גבעת התמרים</td>\n",
       "      <td>31.0</td>\n",
       "      <td>הצפון הישן-החלק הדרומי</td>\n",
       "      <td>1348333.357</td>\n",
       "      <td>29394</td>\n",
       "      <td>49.0</td>\n",
       "      <td>(יפו ד' (גבעת התמרים</td>\n",
       "      <td>389591.6863</td>\n",
       "      <td>6631</td>\n",
       "      <td>49.0</td>\n",
       "      <td>2017-11-02 20:26:47.000</td>\n",
       "      <td>[Period('2017-11-02 02:00', 'H'), Period('2017...</td>\n",
       "    </tr>\n",
       "    <tr>\n",
       "      <th>3</th>\n",
       "      <td>60-589-55</td>\n",
       "      <td>67326</td>\n",
       "      <td>שריון חינמי</td>\n",
       "      <td>8</td>\n",
       "      <td>12.70</td>\n",
       "      <td>נצח ישראל 6, תל אביב יפו, ישראל</td>\n",
       "      <td>הרב רובינשטיין 61, תל אביב יפו, ישראל</td>\n",
       "      <td>2017-11-04 03:54:18.000</td>\n",
       "      <td>2017-11-04 04:14:54.977</td>\n",
       "      <td>37.795276</td>\n",
       "      <td>נצח ישראל 6, תל אביב יפו, ישראל</td>\n",
       "      <td>הרב רובינשטיין 61, תל אביב יפו, ישראל</td>\n",
       "      <td>(32.0777774, 34.7786358)</td>\n",
       "      <td>(32.0357011, 34.7581719)</td>\n",
       "      <td>32.077777</td>\n",
       "      <td>34.778636</td>\n",
       "      <td>32.035701</td>\n",
       "      <td>34.758172</td>\n",
       "      <td>3.871540e+06</td>\n",
       "      <td>3.773524e+06</td>\n",
       "      <td>3.869262e+06</td>\n",
       "      <td>3.767998e+06</td>\n",
       "      <td>3</td>\n",
       "      <td>Saturday</td>\n",
       "      <td>November</td>\n",
       "      <td>הצפון הישן-החלק הדרומי</td>\n",
       "      <td>(יפו ד' (גבעת התמרים</td>\n",
       "      <td>31.0</td>\n",
       "      <td>הצפון הישן-החלק הדרומי</td>\n",
       "      <td>1348333.357</td>\n",
       "      <td>29394</td>\n",
       "      <td>49.0</td>\n",
       "      <td>(יפו ד' (גבעת התמרים</td>\n",
       "      <td>389591.6863</td>\n",
       "      <td>6631</td>\n",
       "      <td>49.0</td>\n",
       "      <td>2017-11-04 14:24:16.000</td>\n",
       "      <td>[Period('2017-11-04 04:00', 'H'), Period('2017...</td>\n",
       "    </tr>\n",
       "    <tr>\n",
       "      <th>4</th>\n",
       "      <td>63-879-81</td>\n",
       "      <td>69181</td>\n",
       "      <td>שריון חינמי</td>\n",
       "      <td>6</td>\n",
       "      <td>18.67</td>\n",
       "      <td>שדרות ח\"ן 7, תל אביב יפו, ישראל</td>\n",
       "      <td>סומקן 34, תל אביב יפו, ישראל</td>\n",
       "      <td>2017-11-07 00:24:40.000</td>\n",
       "      <td>2017-11-07 00:50:09.500</td>\n",
       "      <td>19.282271</td>\n",
       "      <td>שדרות ח\"ן 7, תל אביב יפו, ישראל</td>\n",
       "      <td>סומקן 34, תל אביב יפו, ישראל</td>\n",
       "      <td>(32.074634, 34.7798203)</td>\n",
       "      <td>(32.0353933, 34.7587304)</td>\n",
       "      <td>32.074634</td>\n",
       "      <td>34.779820</td>\n",
       "      <td>32.035393</td>\n",
       "      <td>34.758730</td>\n",
       "      <td>3.871672e+06</td>\n",
       "      <td>3.773111e+06</td>\n",
       "      <td>3.869324e+06</td>\n",
       "      <td>3.767957e+06</td>\n",
       "      <td>0</td>\n",
       "      <td>Tuesday</td>\n",
       "      <td>November</td>\n",
       "      <td>הצפון הישן-החלק הדרומי</td>\n",
       "      <td>(יפו ד' (גבעת התמרים</td>\n",
       "      <td>31.0</td>\n",
       "      <td>הצפון הישן-החלק הדרומי</td>\n",
       "      <td>1348333.357</td>\n",
       "      <td>29394</td>\n",
       "      <td>49.0</td>\n",
       "      <td>(יפו ד' (גבעת התמרים</td>\n",
       "      <td>389591.6863</td>\n",
       "      <td>6631</td>\n",
       "      <td>37.0</td>\n",
       "      <td>2017-11-08 11:16:19.000</td>\n",
       "      <td>[Timestamp('2017-11-07 00:50:09.500000')]</td>\n",
       "    </tr>\n",
       "  </tbody>\n",
       "</table>\n",
       "</div>"
      ],
      "text/plain": [
       "  vehicle_id  order_id  shiryun_cat  avg_dist  billing_minutes  \\\n",
       "0  46-525-81     60386  שריון חינמי         8            12.92   \n",
       "1  46-549-81     60953  שריון חינמי         6            19.05   \n",
       "2  60-609-55     66006  שריון חינמי         8            13.12   \n",
       "3  60-589-55     67326  שריון חינמי         8            12.70   \n",
       "4  63-879-81     69181  שריון חינמי         6            18.67   \n",
       "\n",
       "                            orig_addr                              dest_addr  \\\n",
       "0    גורדון 86-88, תל אביב יפו, ישראל  הרב רובינשטיין 61, תל אביב יפו, ישראל   \n",
       "1  שדרות מסריק 19, תל אביב יפו, ישראל  הרב רובינשטיין 63, תל אביב יפו, ישראל   \n",
       "2     נצח ישראל 6, תל אביב יפו, ישראל           סומקן 34, תל אביב יפו, ישראל   \n",
       "3     נצח ישראל 6, תל אביב יפו, ישראל  הרב רובינשטיין 61, תל אביב יפו, ישראל   \n",
       "4     שדרות ח\"ן 7, תל אביב יפו, ישראל           סומקן 34, תל אביב יפו, ישראל   \n",
       "\n",
       "                  start_dt                   end_dt        kmh  \\\n",
       "0  2017-10-23 00:08:53.000  2017-10-23 00:31:40.370  37.151703   \n",
       "1  2017-10-24 04:01:12.000  2017-10-24 04:24:45.240  18.897638   \n",
       "2  2017-11-02 02:19:45.000  2017-11-02 02:41:30.513  36.585366   \n",
       "3  2017-11-04 03:54:18.000  2017-11-04 04:14:54.977  37.795276   \n",
       "4  2017-11-07 00:24:40.000  2017-11-07 00:50:09.500  19.282271   \n",
       "\n",
       "                          orig_addr_c                            dest_addr_c  \\\n",
       "0       גורדון 86, תל אביב יפו, ישראל  הרב רובינשטיין 61, תל אביב יפו, ישראל   \n",
       "1  שדרות מסריק 19, תל אביב יפו, ישראל  הרב רובינשטיין 63, תל אביב יפו, ישראל   \n",
       "2     נצח ישראל 6, תל אביב יפו, ישראל           סומקן 34, תל אביב יפו, ישראל   \n",
       "3     נצח ישראל 6, תל אביב יפו, ישראל  הרב רובינשטיין 61, תל אביב יפו, ישראל   \n",
       "4     שדרות ח\"ן 7, תל אביב יפו, ישראל           סומקן 34, תל אביב יפו, ישראל   \n",
       "\n",
       "                        orig_coord                dest_coord     orig_x  \\\n",
       "0         (32.0807428, 34.7792228)  (32.0357011, 34.7581719)  32.080743   \n",
       "1  (32.0792292, 34.77892540000001)  (32.0358154, 34.7583417)  32.079229   \n",
       "2         (32.0777774, 34.7786358)  (32.0353933, 34.7587304)  32.077777   \n",
       "3         (32.0777774, 34.7786358)  (32.0357011, 34.7581719)  32.077777   \n",
       "4          (32.074634, 34.7798203)  (32.0353933, 34.7587304)  32.074634   \n",
       "\n",
       "      orig_y     dest_x     dest_y   orig_x_merc   orig_y_merc   dest_x_merc  \\\n",
       "0  34.779223  32.035701  34.758172  3.871605e+06  3.773914e+06  3.869262e+06   \n",
       "1  34.778925  32.035815  34.758342  3.871572e+06  3.773715e+06  3.869281e+06   \n",
       "2  34.778636  32.035393  34.758730  3.871540e+06  3.773524e+06  3.869324e+06   \n",
       "3  34.778636  32.035701  34.758172  3.871540e+06  3.773524e+06  3.869262e+06   \n",
       "4  34.779820  32.035393  34.758730  3.871672e+06  3.773111e+06  3.869324e+06   \n",
       "\n",
       "    dest_y_merc  start_hour start_dayofweek start_month  \\\n",
       "0  3.767998e+06           0          Monday     October   \n",
       "1  3.768013e+06           4         Tuesday     October   \n",
       "2  3.767957e+06           2        Thursday    November   \n",
       "3  3.767998e+06           3        Saturday    November   \n",
       "4  3.767957e+06           0         Tuesday    November   \n",
       "\n",
       "                 orig_nei              dest_nei  origin_nei_id  \\\n",
       "0  הצפון הישן-החלק הדרומי  (יפו ד' (גבעת התמרים           31.0   \n",
       "1  הצפון הישן-החלק הדרומי  (יפו ד' (גבעת התמרים           31.0   \n",
       "2  הצפון הישן-החלק הדרומי  (יפו ד' (גבעת התמרים           31.0   \n",
       "3  הצפון הישן-החלק הדרומי  (יפו ד' (גבעת התמרים           31.0   \n",
       "4  הצפון הישן-החלק הדרומי  (יפו ד' (גבעת התמרים           31.0   \n",
       "\n",
       "            orig_nei_name  orig_nei_area  orig_nei_popu  dest_nei_id  \\\n",
       "0  הצפון הישן-החלק הדרומי    1348333.357          29394         49.0   \n",
       "1  הצפון הישן-החלק הדרומי    1348333.357          29394         49.0   \n",
       "2  הצפון הישן-החלק הדרומי    1348333.357          29394         49.0   \n",
       "3  הצפון הישן-החלק הדרומי    1348333.357          29394         49.0   \n",
       "4  הצפון הישן-החלק הדרומי    1348333.357          29394         49.0   \n",
       "\n",
       "          dest_nei_name  dest_nei_area  dest_nei_popu  next_origin_nei_id  \\\n",
       "0  (יפו ד' (גבעת התמרים    389591.6863           6631                35.0   \n",
       "1  (יפו ד' (גבעת התמרים    389591.6863           6631                46.0   \n",
       "2  (יפו ד' (גבעת התמרים    389591.6863           6631                49.0   \n",
       "3  (יפו ד' (גבעת התמרים    389591.6863           6631                49.0   \n",
       "4  (יפו ד' (גבעת התמרים    389591.6863           6631                37.0   \n",
       "\n",
       "             next_start_dt                                          hour_list  \n",
       "0  2017-10-24 15:58:11.000          [Timestamp('2017-10-23 00:31:40.370000')]  \n",
       "1  2017-10-28 20:58:25.000          [Timestamp('2017-10-24 04:24:45.240000')]  \n",
       "2  2017-11-02 20:26:47.000  [Period('2017-11-02 02:00', 'H'), Period('2017...  \n",
       "3  2017-11-04 14:24:16.000  [Period('2017-11-04 04:00', 'H'), Period('2017...  \n",
       "4  2017-11-08 11:16:19.000          [Timestamp('2017-11-07 00:50:09.500000')]  "
      ]
     },
     "execution_count": 45,
     "metadata": {},
     "output_type": "execute_result"
    }
   ],
   "source": [
    "df_extra.head()"
   ]
  },
  {
   "cell_type": "code",
   "execution_count": 3,
   "metadata": {},
   "outputs": [
    {
     "name": "stdout",
     "output_type": "stream",
     "text": [
      "<class 'pandas.core.frame.DataFrame'>\n",
      "RangeIndex: 150002 entries, 0 to 150001\n",
      "Data columns (total 9 columns):\n",
      " #   Column                  Non-Null Count   Dtype \n",
      "---  ------                  --------------   ----- \n",
      " 0   מספר רכב                150002 non-null  object\n",
      " 1   מספר הזמנה              150002 non-null  int64 \n",
      " 2   קטגוריית שריון          150002 non-null  object\n",
      " 3   ממוצע מרחק לנסיעה       150002 non-null  int64 \n",
      " 4   דקות לחיוב              137847 non-null  object\n",
      " 5   כתובת התחלה             150002 non-null  object\n",
      " 6   כתובת סיום              136964 non-null  object\n",
      " 7   תאריך ושעה התחלת שריון  150002 non-null  object\n",
      " 8   תאריך ושעה סיום הזמנה   136356 non-null  object\n",
      "dtypes: int64(2), object(7)\n",
      "memory usage: 6.3+ MB\n"
     ]
    }
   ],
   "source": [
    "df.info()"
   ]
  },
  {
   "cell_type": "markdown",
   "metadata": {},
   "source": [
    "## 1.2 Prepare Data for Cosumption"
   ]
  },
  {
   "cell_type": "code",
   "execution_count": 4,
   "metadata": {},
   "outputs": [],
   "source": [
    "df_extra.drop(['vehicle_id','shiryun_cat','avg_dist','billing_minutes','orig_addr','dest_addr',\n",
    "               'start_dt','end_dt','orig_addr_c','dest_addr_c','orig_x_merc',\n",
    "               'orig_y_merc','dest_x_merc','dest_y_merc','start_hour','start_dayofweek','start_month',\n",
    "               'origin_nei_id','orig_nei_name','dest_nei_id','dest_nei_name',],axis=1,inplace=True)"
   ]
  },
  {
   "cell_type": "code",
   "execution_count": 5,
   "metadata": {},
   "outputs": [],
   "source": [
    "df = df.rename({'מספר רכב': 'Car id', 'מספר הזמנה': 'Order number','קטגוריית שריון':'Category',\n",
    "                 'ממוצע מרחק לנסיעה':'Avg distance','דקות לחיוב':'Billing minutes','כתובת התחלה':'Start Address',\n",
    "                 'כתובת סיום':'Dest Address','תאריך ושעה התחלת שריון':'Start time','תאריך ושעה סיום הזמנה':'End time'},\n",
    "                axis=1) "
   ]
  },
  {
   "cell_type": "code",
   "execution_count": 6,
   "metadata": {},
   "outputs": [],
   "source": [
    "df_extra = df_extra.rename({'order_id': 'Order number'},axis=1) "
   ]
  },
  {
   "cell_type": "markdown",
   "metadata": {},
   "source": [
    "<a id=\"step2\"></a>\n",
    "# Step 2: Merge Datasets and Add Rows"
   ]
  },
  {
   "cell_type": "markdown",
   "metadata": {},
   "source": [
    "## 2.1 Merge Datasets"
   ]
  },
  {
   "cell_type": "code",
   "execution_count": 7,
   "metadata": {},
   "outputs": [
    {
     "data": {
      "text/html": [
       "<div>\n",
       "<style scoped>\n",
       "    .dataframe tbody tr th:only-of-type {\n",
       "        vertical-align: middle;\n",
       "    }\n",
       "\n",
       "    .dataframe tbody tr th {\n",
       "        vertical-align: top;\n",
       "    }\n",
       "\n",
       "    .dataframe thead th {\n",
       "        text-align: right;\n",
       "    }\n",
       "</style>\n",
       "<table border=\"1\" class=\"dataframe\">\n",
       "  <thead>\n",
       "    <tr style=\"text-align: right;\">\n",
       "      <th></th>\n",
       "      <th>Car id</th>\n",
       "      <th>Order number</th>\n",
       "      <th>Category</th>\n",
       "      <th>Avg distance</th>\n",
       "      <th>Billing minutes</th>\n",
       "      <th>Start Address</th>\n",
       "      <th>Dest Address</th>\n",
       "      <th>Start time</th>\n",
       "      <th>End time</th>\n",
       "      <th>kmh</th>\n",
       "      <th>orig_coord</th>\n",
       "      <th>dest_coord</th>\n",
       "      <th>orig_x</th>\n",
       "      <th>orig_y</th>\n",
       "      <th>dest_x</th>\n",
       "      <th>dest_y</th>\n",
       "      <th>orig_nei</th>\n",
       "      <th>dest_nei</th>\n",
       "      <th>orig_nei_area</th>\n",
       "      <th>orig_nei_popu</th>\n",
       "      <th>dest_nei_area</th>\n",
       "      <th>dest_nei_popu</th>\n",
       "    </tr>\n",
       "  </thead>\n",
       "  <tbody>\n",
       "    <tr>\n",
       "      <th>0</th>\n",
       "      <td>46-525-81</td>\n",
       "      <td>60386</td>\n",
       "      <td>שריון חינמי</td>\n",
       "      <td>8</td>\n",
       "      <td>13</td>\n",
       "      <td>גורדון 86-88, תל אביב יפו, ישראל</td>\n",
       "      <td>הרב רובינשטיין 61, תל אביב יפו, ישראל</td>\n",
       "      <td>23/10/2017 0:08</td>\n",
       "      <td>23/10/2017 0:31</td>\n",
       "      <td>37.151703</td>\n",
       "      <td>(32.0807428, 34.7792228)</td>\n",
       "      <td>(32.0357011, 34.7581719)</td>\n",
       "      <td>32.080743</td>\n",
       "      <td>34.779223</td>\n",
       "      <td>32.035701</td>\n",
       "      <td>34.758172</td>\n",
       "      <td>הצפון הישן-החלק הדרומי</td>\n",
       "      <td>(יפו ד' (גבעת התמרים</td>\n",
       "      <td>1.348333e+06</td>\n",
       "      <td>29394.0</td>\n",
       "      <td>3.895917e+05</td>\n",
       "      <td>6631.0</td>\n",
       "    </tr>\n",
       "    <tr>\n",
       "      <th>1</th>\n",
       "      <td>48-437-81</td>\n",
       "      <td>60387</td>\n",
       "      <td>שריון חינמי</td>\n",
       "      <td>3</td>\n",
       "      <td>8</td>\n",
       "      <td>יעקב אפטר 3, תל אביב יפו, ישראל</td>\n",
       "      <td>ז'בוטינסקי 10, תל אביב יפו, ישראל</td>\n",
       "      <td>23/10/2017 0:09</td>\n",
       "      <td>23/10/2017 0:21</td>\n",
       "      <td>21.556886</td>\n",
       "      <td>(32.1050698, 34.7892274)</td>\n",
       "      <td>(32.0895831, 34.7734306)</td>\n",
       "      <td>32.105070</td>\n",
       "      <td>34.789227</td>\n",
       "      <td>32.089583</td>\n",
       "      <td>34.773431</td>\n",
       "      <td>'תכנית ל</td>\n",
       "      <td>הצפון הישן - החלק הצפוני</td>\n",
       "      <td>9.167206e+05</td>\n",
       "      <td>5617.0</td>\n",
       "      <td>1.819996e+06</td>\n",
       "      <td>32080.0</td>\n",
       "    </tr>\n",
       "    <tr>\n",
       "      <th>2</th>\n",
       "      <td>63-887-81</td>\n",
       "      <td>60388</td>\n",
       "      <td>שריון חינמי</td>\n",
       "      <td>0</td>\n",
       "      <td>2</td>\n",
       "      <td>רופין 32-34, תל אביב יפו, ישראל</td>\n",
       "      <td>רופין 32-34, תל אביב יפו, ישראל</td>\n",
       "      <td>23/10/2017 0:10</td>\n",
       "      <td>23/10/2017 0:15</td>\n",
       "      <td>0.000000</td>\n",
       "      <td>(32.0836176, 34.7710507)</td>\n",
       "      <td>(32.0836176, 34.7710507)</td>\n",
       "      <td>32.083618</td>\n",
       "      <td>34.771051</td>\n",
       "      <td>32.083618</td>\n",
       "      <td>34.771051</td>\n",
       "      <td>הצפון הישן-החלק הדרומי</td>\n",
       "      <td>הצפון הישן-החלק הדרומי</td>\n",
       "      <td>1.348333e+06</td>\n",
       "      <td>29394.0</td>\n",
       "      <td>1.348333e+06</td>\n",
       "      <td>29394.0</td>\n",
       "    </tr>\n",
       "    <tr>\n",
       "      <th>3</th>\n",
       "      <td>63-906-81</td>\n",
       "      <td>60389</td>\n",
       "      <td>שריון חינמי</td>\n",
       "      <td>4</td>\n",
       "      <td>9</td>\n",
       "      <td>שדרות מסריק 19, תל אביב יפו, ישראל</td>\n",
       "      <td>אונקלוס 3, תל אביב יפו, ישראל</td>\n",
       "      <td>23/10/2017 0:12</td>\n",
       "      <td>23/10/2017 0:23</td>\n",
       "      <td>26.229508</td>\n",
       "      <td>(32.0792292, 34.77892540000001)</td>\n",
       "      <td>(32.0957684, 34.7956908)</td>\n",
       "      <td>32.079229</td>\n",
       "      <td>34.778925</td>\n",
       "      <td>32.095768</td>\n",
       "      <td>34.795691</td>\n",
       "      <td>הצפון הישן-החלק הדרומי</td>\n",
       "      <td>בבלי</td>\n",
       "      <td>1.348333e+06</td>\n",
       "      <td>29394.0</td>\n",
       "      <td>7.890963e+05</td>\n",
       "      <td>9403.0</td>\n",
       "    </tr>\n",
       "    <tr>\n",
       "      <th>4</th>\n",
       "      <td>60-589-55</td>\n",
       "      <td>60390</td>\n",
       "      <td>שריון חינמי</td>\n",
       "      <td>2</td>\n",
       "      <td>6</td>\n",
       "      <td>הירקון 188, תל אביב יפו, ישראל</td>\n",
       "      <td>גורדון 83-85, תל אביב יפו, ישראל</td>\n",
       "      <td>23/10/2017 0:12</td>\n",
       "      <td>23/10/2017 0:21</td>\n",
       "      <td>18.662519</td>\n",
       "      <td>(32.0874575, 34.7714172)</td>\n",
       "      <td>(32.0807886, 34.7793035)</td>\n",
       "      <td>32.087457</td>\n",
       "      <td>34.771417</td>\n",
       "      <td>32.080789</td>\n",
       "      <td>34.779303</td>\n",
       "      <td>הצפון הישן - החלק הצפוני</td>\n",
       "      <td>הצפון הישן-החלק הדרומי</td>\n",
       "      <td>1.819996e+06</td>\n",
       "      <td>32080.0</td>\n",
       "      <td>1.348333e+06</td>\n",
       "      <td>29394.0</td>\n",
       "    </tr>\n",
       "  </tbody>\n",
       "</table>\n",
       "</div>"
      ],
      "text/plain": [
       "      Car id  Order number     Category  Avg distance Billing minutes  \\\n",
       "0  46-525-81         60386  שריון חינמי             8              13   \n",
       "1  48-437-81         60387  שריון חינמי             3               8   \n",
       "2  63-887-81         60388  שריון חינמי             0               2   \n",
       "3  63-906-81         60389  שריון חינמי             4               9   \n",
       "4  60-589-55         60390  שריון חינמי             2               6   \n",
       "\n",
       "                        Start Address                           Dest Address  \\\n",
       "0    גורדון 86-88, תל אביב יפו, ישראל  הרב רובינשטיין 61, תל אביב יפו, ישראל   \n",
       "1     יעקב אפטר 3, תל אביב יפו, ישראל      ז'בוטינסקי 10, תל אביב יפו, ישראל   \n",
       "2     רופין 32-34, תל אביב יפו, ישראל        רופין 32-34, תל אביב יפו, ישראל   \n",
       "3  שדרות מסריק 19, תל אביב יפו, ישראל          אונקלוס 3, תל אביב יפו, ישראל   \n",
       "4      הירקון 188, תל אביב יפו, ישראל       גורדון 83-85, תל אביב יפו, ישראל   \n",
       "\n",
       "        Start time         End time        kmh  \\\n",
       "0  23/10/2017 0:08  23/10/2017 0:31  37.151703   \n",
       "1  23/10/2017 0:09  23/10/2017 0:21  21.556886   \n",
       "2  23/10/2017 0:10  23/10/2017 0:15   0.000000   \n",
       "3  23/10/2017 0:12  23/10/2017 0:23  26.229508   \n",
       "4  23/10/2017 0:12  23/10/2017 0:21  18.662519   \n",
       "\n",
       "                        orig_coord                dest_coord     orig_x  \\\n",
       "0         (32.0807428, 34.7792228)  (32.0357011, 34.7581719)  32.080743   \n",
       "1         (32.1050698, 34.7892274)  (32.0895831, 34.7734306)  32.105070   \n",
       "2         (32.0836176, 34.7710507)  (32.0836176, 34.7710507)  32.083618   \n",
       "3  (32.0792292, 34.77892540000001)  (32.0957684, 34.7956908)  32.079229   \n",
       "4         (32.0874575, 34.7714172)  (32.0807886, 34.7793035)  32.087457   \n",
       "\n",
       "      orig_y     dest_x     dest_y                  orig_nei  \\\n",
       "0  34.779223  32.035701  34.758172    הצפון הישן-החלק הדרומי   \n",
       "1  34.789227  32.089583  34.773431                  'תכנית ל   \n",
       "2  34.771051  32.083618  34.771051    הצפון הישן-החלק הדרומי   \n",
       "3  34.778925  32.095768  34.795691    הצפון הישן-החלק הדרומי   \n",
       "4  34.771417  32.080789  34.779303  הצפון הישן - החלק הצפוני   \n",
       "\n",
       "                   dest_nei  orig_nei_area  orig_nei_popu  dest_nei_area  \\\n",
       "0      (יפו ד' (גבעת התמרים   1.348333e+06        29394.0   3.895917e+05   \n",
       "1  הצפון הישן - החלק הצפוני   9.167206e+05         5617.0   1.819996e+06   \n",
       "2    הצפון הישן-החלק הדרומי   1.348333e+06        29394.0   1.348333e+06   \n",
       "3                      בבלי   1.348333e+06        29394.0   7.890963e+05   \n",
       "4    הצפון הישן-החלק הדרומי   1.819996e+06        32080.0   1.348333e+06   \n",
       "\n",
       "   dest_nei_popu  \n",
       "0         6631.0  \n",
       "1        32080.0  \n",
       "2        29394.0  \n",
       "3         9403.0  \n",
       "4        29394.0  "
      ]
     },
     "execution_count": 7,
     "metadata": {},
     "output_type": "execute_result"
    }
   ],
   "source": [
    "df = pd.merge(df, df_extra, on=['Order number'], how='left')\n",
    "df.head()"
   ]
  },
  {
   "cell_type": "markdown",
   "metadata": {},
   "source": [
    "## 2.2 Create New Rows\n",
    "creating new rows from destination data (Dest Address, End time, dest_coord, dest_x, dest_y, dest_nei)"
   ]
  },
  {
   "cell_type": "code",
   "execution_count": 8,
   "metadata": {},
   "outputs": [],
   "source": [
    "df_temp = df.copy()"
   ]
  },
  {
   "cell_type": "code",
   "execution_count": 9,
   "metadata": {},
   "outputs": [],
   "source": [
    "df.drop([\"Dest Address\",\"End time\",\"dest_coord\",\"dest_x\",\"dest_y\",\"dest_nei\",\"dest_nei_area\",\"dest_nei_popu\"],axis=1,inplace=True)\n",
    "df_temp.drop([\"Start Address\",\"Start time\",\"orig_coord\",\"orig_x\",\"orig_y\",\"orig_nei\",\"orig_nei_area\",\"orig_nei_popu\"],axis=1,inplace=True)"
   ]
  },
  {
   "cell_type": "code",
   "execution_count": 10,
   "metadata": {},
   "outputs": [],
   "source": [
    "df = df.rename({\"Start Address\":\"Address\",\"Start time\": \"Time\",\"orig_coord\":\"Coords\",\"orig_x\":\"Lat\",\"orig_y\":\"Lon\",\"orig_nei\":\"neighborhood\",\"orig_nei_area\":\"Area\",\"orig_nei_popu\":\"Population\"},axis=1)\n",
    "df_temp = df_temp.rename({\"Dest Address\":\"Address\",\"End time\": \"Time\",\"dest_coord\":\"Coords\",\"dest_x\":\"Lat\",\"dest_y\":\"Lon\",\"dest_nei\":\"neighborhood\",\"dest_nei_area\":\"Area\",\"dest_nei_popu\":\"Population\"},axis=1)"
   ]
  },
  {
   "cell_type": "code",
   "execution_count": 11,
   "metadata": {},
   "outputs": [],
   "source": [
    "df = pd.concat([df,df_temp])"
   ]
  },
  {
   "cell_type": "code",
   "execution_count": 12,
   "metadata": {},
   "outputs": [],
   "source": [
    "df.sort_values([\"Order number\",\"Time\"],axis=0,inplace=True)"
   ]
  },
  {
   "cell_type": "markdown",
   "metadata": {},
   "source": [
    "### [Delete] check for null and missing values"
   ]
  },
  {
   "cell_type": "code",
   "execution_count": 13,
   "metadata": {},
   "outputs": [],
   "source": [
    "# Fill empty and NaNs values with NaN\n",
    "df = df.fillna(np.nan)"
   ]
  },
  {
   "cell_type": "code",
   "execution_count": 14,
   "metadata": {},
   "outputs": [
    {
     "name": "stdout",
     "output_type": "stream",
     "text": [
      "<class 'pandas.core.frame.DataFrame'>\n",
      "Int64Index: 300004 entries, 0 to 150001\n",
      "Data columns (total 14 columns):\n",
      " #   Column           Non-Null Count   Dtype  \n",
      "---  ------           --------------   -----  \n",
      " 0   Car id           300004 non-null  object \n",
      " 1   Order number     300004 non-null  int64  \n",
      " 2   Category         300004 non-null  object \n",
      " 3   Avg distance     300004 non-null  int64  \n",
      " 4   Billing minutes  275694 non-null  object \n",
      " 5   Address          286966 non-null  object \n",
      " 6   Time             286358 non-null  object \n",
      " 7   kmh              268428 non-null  float64\n",
      " 8   Coords           272662 non-null  object \n",
      " 9   Lat              272662 non-null  float64\n",
      " 10  Lon              272662 non-null  float64\n",
      " 11  neighborhood     272662 non-null  object \n",
      " 12  Area             272662 non-null  float64\n",
      " 13  Population       272662 non-null  float64\n",
      "dtypes: float64(5), int64(2), object(7)\n",
      "memory usage: 26.3+ MB\n"
     ]
    },
    {
     "data": {
      "text/plain": [
       "Car id                 0\n",
       "Order number           0\n",
       "Category               0\n",
       "Avg distance           0\n",
       "Billing minutes    24310\n",
       "Address            13038\n",
       "Time               13646\n",
       "kmh                31576\n",
       "Coords             27342\n",
       "Lat                27342\n",
       "Lon                27342\n",
       "neighborhood       27342\n",
       "Area               27342\n",
       "Population         27342\n",
       "dtype: int64"
      ]
     },
     "execution_count": 14,
     "metadata": {},
     "output_type": "execute_result"
    }
   ],
   "source": [
    "df.info()\n",
    "df.isnull().sum()"
   ]
  },
  {
   "cell_type": "markdown",
   "metadata": {},
   "source": [
    "<a id=\"step3\"></a>\n",
    "# Step 3: Extract Data from Features"
   ]
  },
  {
   "cell_type": "markdown",
   "metadata": {},
   "source": [
    "### Splitting address to country, city, street"
   ]
  },
  {
   "cell_type": "code",
   "execution_count": 15,
   "metadata": {},
   "outputs": [
    {
     "data": {
      "text/html": [
       "<div>\n",
       "<style scoped>\n",
       "    .dataframe tbody tr th:only-of-type {\n",
       "        vertical-align: middle;\n",
       "    }\n",
       "\n",
       "    .dataframe tbody tr th {\n",
       "        vertical-align: top;\n",
       "    }\n",
       "\n",
       "    .dataframe thead th {\n",
       "        text-align: right;\n",
       "    }\n",
       "</style>\n",
       "<table border=\"1\" class=\"dataframe\">\n",
       "  <thead>\n",
       "    <tr style=\"text-align: right;\">\n",
       "      <th></th>\n",
       "      <th>0</th>\n",
       "      <th>1</th>\n",
       "      <th>2</th>\n",
       "      <th>3</th>\n",
       "    </tr>\n",
       "  </thead>\n",
       "  <tbody>\n",
       "    <tr>\n",
       "      <th>0</th>\n",
       "      <td>גורדון 86-88</td>\n",
       "      <td>תל אביב יפו</td>\n",
       "      <td>ישראל</td>\n",
       "      <td>None</td>\n",
       "    </tr>\n",
       "    <tr>\n",
       "      <th>0</th>\n",
       "      <td>הרב רובינשטיין 61</td>\n",
       "      <td>תל אביב יפו</td>\n",
       "      <td>ישראל</td>\n",
       "      <td>None</td>\n",
       "    </tr>\n",
       "    <tr>\n",
       "      <th>1</th>\n",
       "      <td>יעקב אפטר 3</td>\n",
       "      <td>תל אביב יפו</td>\n",
       "      <td>ישראל</td>\n",
       "      <td>None</td>\n",
       "    </tr>\n",
       "  </tbody>\n",
       "</table>\n",
       "</div>"
      ],
      "text/plain": [
       "                   0             1       2     3\n",
       "0       גורדון 86-88   תל אביב יפו   ישראל  None\n",
       "0  הרב רובינשטיין 61   תל אביב יפו   ישראל  None\n",
       "1        יעקב אפטר 3   תל אביב יפו   ישראל  None"
      ]
     },
     "execution_count": 15,
     "metadata": {},
     "output_type": "execute_result"
    }
   ],
   "source": [
    "split_col = df[\"Address\"].str.split(\",\", expand=True)\n",
    "split_col[:3]"
   ]
  },
  {
   "cell_type": "code",
   "execution_count": 16,
   "metadata": {},
   "outputs": [],
   "source": [
    "df[\"Street\"] = split_col[0]\n",
    "df[\"City\"] = split_col[1]\n",
    "df[\"Country\"] = split_col[2]"
   ]
  },
  {
   "cell_type": "markdown",
   "metadata": {},
   "source": [
    "#### extracting street without numbers"
   ]
  },
  {
   "cell_type": "code",
   "execution_count": 17,
   "metadata": {},
   "outputs": [],
   "source": [
    "df[\"Street_c\"] = df['Street'].str.replace(r'(\\d+)(-(\\d+))*', r'').str.replace(r'\\\\', r'')"
   ]
  },
  {
   "cell_type": "markdown",
   "metadata": {},
   "source": [
    "#### extract clean address for google api use"
   ]
  },
  {
   "cell_type": "code",
   "execution_count": 18,
   "metadata": {},
   "outputs": [],
   "source": [
    "df['Address_c'] = df['Address'].str.replace(r'(\\d+)-(\\d+)', r'\\1').str.replace(r'\\\\', r'')\n",
    "df['Address_c2'] = df['Address'].str.replace(r'(\\d+)(-(\\d+))*', r'').str.replace(r'\\\\', r'')"
   ]
  },
  {
   "cell_type": "markdown",
   "metadata": {},
   "source": [
    "### Extract date and time"
   ]
  },
  {
   "cell_type": "code",
   "execution_count": 19,
   "metadata": {},
   "outputs": [],
   "source": [
    "df[\"Time\"] = pd.to_datetime(df[\"Time\"])"
   ]
  },
  {
   "cell_type": "code",
   "execution_count": 20,
   "metadata": {},
   "outputs": [],
   "source": [
    "df[\"Date\"] = df[\"Time\"].dt.date\n",
    "# df[\"time\"] = df[\"Time\"].dt.time\n",
    "df[\"Year\"] = df[\"Time\"].dt.year\n",
    "df[\"Month\"] = df[\"Time\"].dt.month\n",
    "df[\"Day\"] = df[\"Time\"].dt.day\n",
    "df[\"Hour\"] = df[\"Time\"].dt.hour\n",
    "df[\"Minute\"] = df[\"Time\"].dt.minute"
   ]
  },
  {
   "cell_type": "markdown",
   "metadata": {},
   "source": [
    "<a id=\"step4\"></a>\n",
    "# Step 4: Add weather data"
   ]
  },
  {
   "cell_type": "code",
   "execution_count": 21,
   "metadata": {},
   "outputs": [],
   "source": [
    "weather = pd.read_csv(\"./input/ims_data_2017_2018.csv\",na_values={\n",
    "    \"טמפרטורה(C°)\": [\"-\"],\n",
    "    \"טמפרטורת מקסימום(C°)\": [\"-\"],\n",
    "    \"טמפרטורת מינימום(C°)\": [\"-\"],\n",
    "    \"לחות יחסית(%)\": [\"-\"],\n",
    "    \"מהירות הרוח(m/s)\": [\"-\"],\n",
    "    \"כיוון הרוח(מעלות)\": [\"-\"],\n",
    "    \"מהירות רוח דקתית מקסימלית(m/s)\": [\"-\"],\n",
    "    \"מהירות רוח 10 דקתית מקסימלית(m/s)\": [\"-\"]\n",
    "},dtype={\n",
    "    \"טמפרטורה(C°)\": np.float64,\n",
    "    \"טמפרטורת מקסימום(C°)\":np.float64,\n",
    "    \"טמפרטורת מינימום(C°)\":np.float64,\n",
    "    \"לחות יחסית(%)\": np.float64,\n",
    "    \"מהירות הרוח(m/s)\":np.float64,\n",
    "    'כמות גשם(מ\"מ)': np.float64,\n",
    "    \"מהירות הרוח(m/s)\": np.float64,\n",
    "    \"כיוון הרוח(מעלות)\": np.float64,\n",
    "    \"מהירות רוח דקתית מקסימלית(m/s)\": np.float64,\n",
    "    \"מהירות רוח 10 דקתית מקסימלית(m/s)\": np.float64\n",
    "})"
   ]
  },
  {
   "cell_type": "code",
   "execution_count": 22,
   "metadata": {},
   "outputs": [],
   "source": [
    "weather = weather.rename({\"שם תחנה\":\"station\",\"תאריך\":\"Date\",\"שעה- LST\":\"Time - LST\",\"טמפרטורה(C°)\":\"Temprature\",\n",
    "                          \"טמפרטורת מקסימום(C°)\":\"Max Temprature\",\"טמפרטורת מינימום(C°)\":\"Min Temprature\",\"לחות יחסית(%)\":\"Relative Humidity\",\n",
    "                          'כמות גשם(מ\"מ)':\"Amount of Rain\",\"מהירות הרוח(m/s)\":\"Wind Speed\",\"כיוון הרוח(מעלות)\":\"Wind Direction\",\n",
    "                          \"מהירות רוח דקתית מקסימלית(m/s)\":\"Max Wind Speed per Min\",\"מהירות רוח 10 דקתית מקסימלית(m/s)\":\"Max Win Speed per 10 Min\"}\n",
    "                         ,axis=1)"
   ]
  },
  {
   "cell_type": "code",
   "execution_count": 23,
   "metadata": {},
   "outputs": [],
   "source": [
    "weather[\"Time - LST\"] = pd.to_datetime(weather[\"Time - LST\"])\n",
    "weather[\"Date\"] = pd.to_datetime(weather[\"Date\"])"
   ]
  },
  {
   "cell_type": "code",
   "execution_count": 24,
   "metadata": {},
   "outputs": [],
   "source": [
    "weather[\"Hour\"] = weather[\"Time - LST\"].dt.hour.astype(float)\n",
    "weather[\"Date\"] = weather[\"Date\"].dt.date"
   ]
  },
  {
   "cell_type": "code",
   "execution_count": 25,
   "metadata": {},
   "outputs": [],
   "source": [
    "# weather[\"Date\"] = pd.to_datetime(weather[\"Date\"])\n",
    "# df[\"Date\"] = pd.to_datetime(df[\"Date\"])"
   ]
  },
  {
   "cell_type": "code",
   "execution_count": 26,
   "metadata": {},
   "outputs": [],
   "source": [
    "# fill na values with previous values\n",
    "weather.fillna(method='ffill',inplace=True)"
   ]
  },
  {
   "cell_type": "code",
   "execution_count": 27,
   "metadata": {},
   "outputs": [
    {
     "data": {
      "text/plain": [
       "station                     0\n",
       "Date                        0\n",
       "Time - LST                  0\n",
       "Temprature                  0\n",
       "Max Temprature              0\n",
       "Min Temprature              0\n",
       "Relative Humidity           0\n",
       "Amount of Rain              0\n",
       "Wind Speed                  0\n",
       "Wind Direction              0\n",
       "Max Wind Speed per Min      0\n",
       "Max Win Speed per 10 Min    0\n",
       "Hour                        0\n",
       "dtype: int64"
      ]
     },
     "execution_count": 27,
     "metadata": {},
     "output_type": "execute_result"
    }
   ],
   "source": [
    "weather.isna().sum()"
   ]
  },
  {
   "cell_type": "code",
   "execution_count": 28,
   "metadata": {},
   "outputs": [],
   "source": [
    "weather_hour_grouped = weather.groupby([\"Date\",\"Hour\"]).agg({\n",
    "        'Temprature':'mean', 'Max Temprature':'max','Min Temprature':'min',\n",
    "        'Relative Humidity':'mean','Amount of Rain':'mean','Wind Speed':'mean',\n",
    "        'Wind Direction':'mean','Max Wind Speed per Min':'max','Max Win Speed per 10 Min':'max'}).reset_index()"
   ]
  },
  {
   "cell_type": "code",
   "execution_count": 29,
   "metadata": {},
   "outputs": [],
   "source": [
    "df = pd.merge(df,weather_hour_grouped,on=[\"Date\",\"Hour\"],how='left')"
   ]
  },
  {
   "cell_type": "code",
   "execution_count": 30,
   "metadata": {},
   "outputs": [],
   "source": [
    "# d = df.groupby([\"Date\",\"Hour\"]).size().reset_index()"
   ]
  },
  {
   "cell_type": "code",
   "execution_count": 31,
   "metadata": {},
   "outputs": [],
   "source": [
    "# w = weather.groupby([\"Date\",\"Hour\"]).size().reset_index()"
   ]
  },
  {
   "cell_type": "code",
   "execution_count": 32,
   "metadata": {},
   "outputs": [],
   "source": [
    "#  tmp = pd.merge(d,w,on=[\"Date\",\"Hour\"],how=\"left\")"
   ]
  },
  {
   "cell_type": "code",
   "execution_count": 35,
   "metadata": {},
   "outputs": [],
   "source": [
    "# df.drop([\"Unnamed: 0\"],axis=1, inplace=True)"
   ]
  },
  {
   "cell_type": "code",
   "execution_count": 36,
   "metadata": {},
   "outputs": [],
   "source": [
    "# delete city != תל אביב יפו\n",
    "df = df[df[\"City\"] == ' תל אביב יפו']"
   ]
  },
  {
   "cell_type": "code",
   "execution_count": 37,
   "metadata": {},
   "outputs": [],
   "source": [
    "df = df.round(2)\n",
    "df.to_csv(\"./input/autotel.csv\", encoding='utf-8-sig')"
   ]
  },
  {
   "cell_type": "markdown",
   "metadata": {},
   "source": [
    "## Visualization"
   ]
  },
  {
   "cell_type": "code",
   "execution_count": null,
   "metadata": {},
   "outputs": [],
   "source": [
    "# counts = df['neighborhood'].value_counts()\n",
    "# counts_more_then = df[df['neighborhood'].isin(counts[counts > 1000].index)]"
   ]
  },
  {
   "cell_type": "code",
   "execution_count": null,
   "metadata": {},
   "outputs": [],
   "source": [
    "# tmp = df.groupby(['Year', 'Month']).size().reset_index(name='Freq')"
   ]
  },
  {
   "cell_type": "code",
   "execution_count": null,
   "metadata": {},
   "outputs": [],
   "source": [
    "# df.groupby(['Address', 'neighborhood']).size().reset_index(name='Freq')"
   ]
  },
  {
   "cell_type": "code",
   "execution_count": null,
   "metadata": {},
   "outputs": [],
   "source": [
    "# df[(df[\"Address_c2\"] == ', תל אביב יפו, ישראל') & (df[\"neighborhood\"] == \"מונטיפיורי\")]"
   ]
  },
  {
   "cell_type": "code",
   "execution_count": null,
   "metadata": {},
   "outputs": [],
   "source": [
    "#  df['neighborhood'].value_counts()"
   ]
  },
  {
   "cell_type": "code",
   "execution_count": null,
   "metadata": {},
   "outputs": [],
   "source": [
    "\n",
    "# df[\"value\"] = df.groupby(\"name\").transform(lambda x: x.fillna(x.mean()))"
   ]
  },
  {
   "cell_type": "code",
   "execution_count": null,
   "metadata": {},
   "outputs": [],
   "source": []
  },
  {
   "cell_type": "code",
   "execution_count": null,
   "metadata": {},
   "outputs": [],
   "source": []
  }
 ],
 "metadata": {
  "kernelspec": {
   "display_name": "Python 3",
   "language": "python",
   "name": "python3"
  },
  "language_info": {
   "codemirror_mode": {
    "name": "ipython",
    "version": 3
   },
   "file_extension": ".py",
   "mimetype": "text/x-python",
   "name": "python",
   "nbconvert_exporter": "python",
   "pygments_lexer": "ipython3",
   "version": "3.7.4"
  }
 },
 "nbformat": 4,
 "nbformat_minor": 4
}
