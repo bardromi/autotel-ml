{
 "cells": [
  {
   "cell_type": "markdown",
   "metadata": {},
   "source": [
    "# Table of Contents\n",
    "1. [Step 1: Prepare Data for Consumption](#step1)\n",
    "1. [Step 2: Merge Datasets and Add Rows](#step2)\n",
    "1. [Step 3: Extract Data from Features](#step3)\n",
    "1. [Step 4: Add weather data](#step4)\n"
   ]
  },
  {
   "cell_type": "markdown",
   "metadata": {},
   "source": [
    "<a id=\"step1\"></a>\n",
    "# Step 1: Prepare Data for Consumption"
   ]
  },
  {
   "cell_type": "markdown",
   "metadata": {},
   "source": [
    "## 1.1 Import Libraries"
   ]
  },
  {
   "cell_type": "code",
   "execution_count": 67,
   "metadata": {},
   "outputs": [],
   "source": [
    "import pandas as pd\n",
    "import numpy as np\n",
    "import matplotlib.pyplot as plt\n",
    "import seaborn as sns\n",
    "%matplotlib inline\n",
    "\n",
    "pd.set_option('display.max_columns', None)\n",
    "sns.set(style='white', context='notebook', palette='deep')"
   ]
  },
  {
   "cell_type": "markdown",
   "metadata": {},
   "source": [
    "## 1.2 Load Data"
   ]
  },
  {
   "cell_type": "code",
   "execution_count": 68,
   "metadata": {},
   "outputs": [
    {
     "name": "stderr",
     "output_type": "stream",
     "text": [
      "c:\\projects\\python\\autotel-ml\\venv\\lib\\site-packages\\IPython\\core\\interactiveshell.py:3063: DtypeWarning: Columns (4) have mixed types.Specify dtype option on import or set low_memory=False.\n",
      "  interactivity=interactivity, compiler=compiler, result=result)\n"
     ]
    }
   ],
   "source": [
    "df = pd.read_csv(\"./input/2018.csv\")\n",
    "df_extra = pd.read_csv(\"./input/df_with_neis2.csv\")"
   ]
  },
  {
   "cell_type": "markdown",
   "metadata": {},
   "source": [
    "## 1.2 Prepare Data for Cosumption"
   ]
  },
  {
   "cell_type": "code",
   "execution_count": 69,
   "metadata": {},
   "outputs": [],
   "source": [
    "df_extra.drop(['vehicle_id','shiryun_cat','avg_dist','billing_minutes','orig_addr','dest_addr',\n",
    "               'start_dt','end_dt','orig_addr_c','dest_addr_c','orig_x_merc',\n",
    "               'orig_y_merc','dest_x_merc','dest_y_merc','start_hour','start_dayofweek','start_month'],axis=1,inplace=True)"
   ]
  },
  {
   "cell_type": "code",
   "execution_count": 70,
   "metadata": {},
   "outputs": [],
   "source": [
    "df = df.rename({'מספר רכב': 'Car id', 'מספר הזמנה': 'Order number','קטגוריית שריון':'Category',\n",
    "                 'ממוצע מרחק לנסיעה':'Avg distance','דקות לחיוב':'Billing minutes','כתובת התחלה':'Start Address',\n",
    "                 'כתובת סיום':'Dest Address','תאריך ושעה התחלת שריון':'Start time','תאריך ושעה סיום הזמנה':'End time'},\n",
    "                axis=1) "
   ]
  },
  {
   "cell_type": "code",
   "execution_count": 71,
   "metadata": {},
   "outputs": [],
   "source": [
    "df_extra = df_extra.rename({'order_id': 'Order number'},axis=1) "
   ]
  },
  {
   "cell_type": "markdown",
   "metadata": {},
   "source": [
    "<a id=\"step2\"></a>\n",
    "# Step 2: Merge Datasets and Add Rows"
   ]
  },
  {
   "cell_type": "markdown",
   "metadata": {},
   "source": [
    "## 2.1 Merge Datasets"
   ]
  },
  {
   "cell_type": "code",
   "execution_count": 72,
   "metadata": {},
   "outputs": [],
   "source": [
    "df = pd.merge(df, df_extra, on=['Order number'], how='left')"
   ]
  },
  {
   "cell_type": "markdown",
   "metadata": {},
   "source": [
    "## 2.2 Create New Rows\n",
    "creating new rows from destination data (Dest Address, End time, dest_coord, dest_x, dest_y, dest_nei)"
   ]
  },
  {
   "cell_type": "code",
   "execution_count": 73,
   "metadata": {},
   "outputs": [],
   "source": [
    "df_temp = df.copy()"
   ]
  },
  {
   "cell_type": "code",
   "execution_count": 74,
   "metadata": {},
   "outputs": [],
   "source": [
    "df.drop([\"Dest Address\",\"End time\",\"dest_coord\",\"dest_x\",\"dest_y\",\"dest_nei\"],axis=1,inplace=True)\n",
    "df_temp.drop([\"Start Address\",\"Start time\",\"orig_coord\",\"orig_x\",\"orig_y\",\"orig_nei\"],axis=1,inplace=True)"
   ]
  },
  {
   "cell_type": "code",
   "execution_count": 75,
   "metadata": {},
   "outputs": [],
   "source": [
    "df = df.rename({\"Start Address\":\"Address\",\"Start time\": \"Time\",\"orig_coord\":\"Coords\",\"orig_x\":\"Lat\",\"orig_y\":\"Lon\",\"orig_nei\":\"neighborhood\",},axis=1)\n",
    "df_temp = df_temp.rename({\"Dest Address\":\"Address\",\"End time\": \"Time\",\"dest_coord\":\"Coords\",\"dest_x\":\"Lat\",\"dest_y\":\"Lon\",\"dest_nei\":\"neighborhood\"},axis=1)"
   ]
  },
  {
   "cell_type": "code",
   "execution_count": 76,
   "metadata": {},
   "outputs": [],
   "source": [
    "df = pd.concat([df,df_temp])"
   ]
  },
  {
   "cell_type": "code",
   "execution_count": 77,
   "metadata": {},
   "outputs": [],
   "source": [
    "df.sort_values([\"Order number\",\"Time\"],axis=0,inplace=True)"
   ]
  },
  {
   "cell_type": "markdown",
   "metadata": {},
   "source": [
    "### [Delete] check for null and missing values"
   ]
  },
  {
   "cell_type": "code",
   "execution_count": 78,
   "metadata": {},
   "outputs": [],
   "source": [
    "# Fill empty and NaNs values with NaN\n",
    "df = df.fillna(np.nan)"
   ]
  },
  {
   "cell_type": "code",
   "execution_count": 79,
   "metadata": {},
   "outputs": [
    {
     "name": "stdout",
     "output_type": "stream",
     "text": [
      "<class 'pandas.core.frame.DataFrame'>\n",
      "Int64Index: 300004 entries, 0 to 150001\n",
      "Data columns (total 13 columns):\n",
      " #   Column           Non-Null Count   Dtype  \n",
      "---  ------           --------------   -----  \n",
      " 0   Car id           300004 non-null  object \n",
      " 1   Order number     300004 non-null  int64  \n",
      " 2   Category         300004 non-null  object \n",
      " 3   Avg distance     300004 non-null  int64  \n",
      " 4   Billing minutes  275694 non-null  object \n",
      " 5   Address          286966 non-null  object \n",
      " 6   Time             286358 non-null  object \n",
      " 7   Unnamed: 0       272662 non-null  float64\n",
      " 8   kmh              268428 non-null  float64\n",
      " 9   Coords           272662 non-null  object \n",
      " 10  Lat              272662 non-null  float64\n",
      " 11  Lon              272662 non-null  float64\n",
      " 12  neighborhood     272662 non-null  object \n",
      "dtypes: float64(4), int64(2), object(7)\n",
      "memory usage: 24.0+ MB\n"
     ]
    },
    {
     "data": {
      "text/plain": [
       "Car id                 0\n",
       "Order number           0\n",
       "Category               0\n",
       "Avg distance           0\n",
       "Billing minutes    24310\n",
       "Address            13038\n",
       "Time               13646\n",
       "Unnamed: 0         27342\n",
       "kmh                31576\n",
       "Coords             27342\n",
       "Lat                27342\n",
       "Lon                27342\n",
       "neighborhood       27342\n",
       "dtype: int64"
      ]
     },
     "execution_count": 79,
     "metadata": {},
     "output_type": "execute_result"
    }
   ],
   "source": [
    "df.info()\n",
    "df.isnull().sum()"
   ]
  },
  {
   "cell_type": "markdown",
   "metadata": {},
   "source": [
    "<a id=\"step3\"></a>\n",
    "# Step 3: Extract Data from Features"
   ]
  },
  {
   "cell_type": "markdown",
   "metadata": {},
   "source": [
    "### Splitting address to country, city, street"
   ]
  },
  {
   "cell_type": "code",
   "execution_count": 80,
   "metadata": {},
   "outputs": [
    {
     "data": {
      "text/html": [
       "<div>\n",
       "<style scoped>\n",
       "    .dataframe tbody tr th:only-of-type {\n",
       "        vertical-align: middle;\n",
       "    }\n",
       "\n",
       "    .dataframe tbody tr th {\n",
       "        vertical-align: top;\n",
       "    }\n",
       "\n",
       "    .dataframe thead th {\n",
       "        text-align: right;\n",
       "    }\n",
       "</style>\n",
       "<table border=\"1\" class=\"dataframe\">\n",
       "  <thead>\n",
       "    <tr style=\"text-align: right;\">\n",
       "      <th></th>\n",
       "      <th>0</th>\n",
       "      <th>1</th>\n",
       "      <th>2</th>\n",
       "      <th>3</th>\n",
       "    </tr>\n",
       "  </thead>\n",
       "  <tbody>\n",
       "    <tr>\n",
       "      <th>0</th>\n",
       "      <td>גורדון 86-88</td>\n",
       "      <td>תל אביב יפו</td>\n",
       "      <td>ישראל</td>\n",
       "      <td>None</td>\n",
       "    </tr>\n",
       "    <tr>\n",
       "      <th>0</th>\n",
       "      <td>הרב רובינשטיין 61</td>\n",
       "      <td>תל אביב יפו</td>\n",
       "      <td>ישראל</td>\n",
       "      <td>None</td>\n",
       "    </tr>\n",
       "    <tr>\n",
       "      <th>1</th>\n",
       "      <td>יעקב אפטר 3</td>\n",
       "      <td>תל אביב יפו</td>\n",
       "      <td>ישראל</td>\n",
       "      <td>None</td>\n",
       "    </tr>\n",
       "  </tbody>\n",
       "</table>\n",
       "</div>"
      ],
      "text/plain": [
       "                   0             1       2     3\n",
       "0       גורדון 86-88   תל אביב יפו   ישראל  None\n",
       "0  הרב רובינשטיין 61   תל אביב יפו   ישראל  None\n",
       "1        יעקב אפטר 3   תל אביב יפו   ישראל  None"
      ]
     },
     "execution_count": 80,
     "metadata": {},
     "output_type": "execute_result"
    }
   ],
   "source": [
    "split_col = df[\"Address\"].str.split(\",\", expand=True)\n",
    "split_col[:3]"
   ]
  },
  {
   "cell_type": "code",
   "execution_count": 81,
   "metadata": {},
   "outputs": [],
   "source": [
    "df[\"Street\"] = split_col[0]\n",
    "df[\"City\"] = split_col[1]\n",
    "df[\"Country\"] = split_col[2]"
   ]
  },
  {
   "cell_type": "markdown",
   "metadata": {},
   "source": [
    "#### extracting street without numbers"
   ]
  },
  {
   "cell_type": "code",
   "execution_count": 82,
   "metadata": {},
   "outputs": [],
   "source": [
    "df[\"Street_c\"] = df['Street'].str.replace(r'(\\d+)(-(\\d+))*', r'').str.replace(r'\\\\', r'')"
   ]
  },
  {
   "cell_type": "markdown",
   "metadata": {},
   "source": [
    "#### extract clean address for google api use"
   ]
  },
  {
   "cell_type": "code",
   "execution_count": 83,
   "metadata": {},
   "outputs": [],
   "source": [
    "df['Address_c'] = df['Address'].str.replace(r'(\\d+)-(\\d+)', r'\\1').str.replace(r'\\\\', r'')\n",
    "df['Address_c2'] = df['Address'].str.replace(r'(\\d+)(-(\\d+))*', r'').str.replace(r'\\\\', r'')"
   ]
  },
  {
   "cell_type": "markdown",
   "metadata": {},
   "source": [
    "### Extract date and time"
   ]
  },
  {
   "cell_type": "code",
   "execution_count": 84,
   "metadata": {},
   "outputs": [],
   "source": [
    "df[\"Time\"] = pd.to_datetime(df[\"Time\"])"
   ]
  },
  {
   "cell_type": "code",
   "execution_count": 85,
   "metadata": {},
   "outputs": [],
   "source": [
    "df[\"Date\"] = df[\"Time\"].dt.date\n",
    "# df[\"time\"] = df[\"Time\"].dt.time\n",
    "df[\"Year\"] = df[\"Time\"].dt.year\n",
    "df[\"Month\"] = df[\"Time\"].dt.month\n",
    "df[\"Day\"] = df[\"Time\"].dt.day\n",
    "df[\"Hour\"] = df[\"Time\"].dt.hour\n",
    "df[\"Minute\"] = df[\"Time\"].dt.minute"
   ]
  },
  {
   "cell_type": "markdown",
   "metadata": {},
   "source": [
    "<a id=\"step4\"></a>\n",
    "# Step 4: Add weather data"
   ]
  },
  {
   "cell_type": "code",
   "execution_count": 87,
   "metadata": {},
   "outputs": [],
   "source": [
    "weather = pd.read_csv(\"./input/ims_data_2017_2018.csv\",na_values={\n",
    "    \"טמפרטורה(C°)\": [\"-\"],\n",
    "    \"טמפרטורת מקסימום(C°)\": [\"-\"],\n",
    "    \"טמפרטורת מינימום(C°)\": [\"-\"],\n",
    "    \"לחות יחסית(%)\": [\"-\"],\n",
    "    \"מהירות הרוח(m/s)\": [\"-\"],\n",
    "    \"כיוון הרוח(מעלות)\": [\"-\"],\n",
    "    \"מהירות רוח דקתית מקסימלית(m/s)\": [\"-\"],\n",
    "    \"מהירות רוח 10 דקתית מקסימלית(m/s)\": [\"-\"]\n",
    "},dtype={\n",
    "    \"טמפרטורה(C°)\": np.float64,\n",
    "    \"טמפרטורת מקסימום(C°)\":np.float64,\n",
    "    \"טמפרטורת מינימום(C°)\":np.float64,\n",
    "    \"לחות יחסית(%)\": np.float64,\n",
    "    \"מהירות הרוח(m/s)\":np.float64,\n",
    "    'כמות גשם(מ\"מ)': np.float64,\n",
    "    \"מהירות הרוח(m/s)\": np.float64,\n",
    "    \"כיוון הרוח(מעלות)\": np.float64,\n",
    "    \"מהירות רוח דקתית מקסימלית(m/s)\": np.float64,\n",
    "    \"מהירות רוח 10 דקתית מקסימלית(m/s)\": np.float64\n",
    "})"
   ]
  },
  {
   "cell_type": "code",
   "execution_count": 88,
   "metadata": {},
   "outputs": [],
   "source": [
    "weather = weather.rename({\"שם תחנה\":\"station\",\"תאריך\":\"Date\",\"שעה- LST\":\"Time - LST\",\"טמפרטורה(C°)\":\"Temprature\",\n",
    "                          \"טמפרטורת מקסימום(C°)\":\"Max Temprature\",\"טמפרטורת מינימום(C°)\":\"Min Temprature\",\"לחות יחסית(%)\":\"Relative Humidity\",\n",
    "                          'כמות גשם(מ\"מ)':\"Amount of Rain\",\"מהירות הרוח(m/s)\":\"Wind Speed\",\"כיוון הרוח(מעלות)\":\"Wind Direction\",\n",
    "                          \"מהירות רוח דקתית מקסימלית(m/s)\":\"Max Wind Speed per Min\",\"מהירות רוח 10 דקתית מקסימלית(m/s)\":\"Max Win Speed per 10 Min\"}\n",
    "                         ,axis=1)"
   ]
  },
  {
   "cell_type": "code",
   "execution_count": 89,
   "metadata": {},
   "outputs": [],
   "source": [
    "weather[\"Time - LST\"] = pd.to_datetime(weather[\"Time - LST\"])\n",
    "weather[\"Date\"] = pd.to_datetime(weather[\"Date\"])"
   ]
  },
  {
   "cell_type": "code",
   "execution_count": 90,
   "metadata": {},
   "outputs": [],
   "source": [
    "weather[\"Hour\"] = weather[\"Time - LST\"].dt.hour.astype(float)\n",
    "weather[\"Date\"] = weather[\"Date\"].dt.date"
   ]
  },
  {
   "cell_type": "code",
   "execution_count": 100,
   "metadata": {},
   "outputs": [],
   "source": [
    "# weather[\"Date\"] = pd.to_datetime(weather[\"Date\"])\n",
    "# df[\"Date\"] = pd.to_datetime(df[\"Date\"])"
   ]
  },
  {
   "cell_type": "code",
   "execution_count": 141,
   "metadata": {},
   "outputs": [],
   "source": [
    "# fill na values with previous values\n",
    "weather.fillna(method='ffill',inplace=True)"
   ]
  },
  {
   "cell_type": "code",
   "execution_count": 95,
   "metadata": {},
   "outputs": [
    {
     "data": {
      "text/plain": [
       "station                     0\n",
       "Date                        0\n",
       "Time - LST                  0\n",
       "Temprature                  0\n",
       "Max Temprature              0\n",
       "Min Temprature              0\n",
       "Relative Humidity           0\n",
       "Amount of Rain              0\n",
       "Wind Speed                  0\n",
       "Wind Direction              0\n",
       "Max Wind Speed per Min      0\n",
       "Max Win Speed per 10 Min    0\n",
       "Hour                        0\n",
       "dtype: int64"
      ]
     },
     "execution_count": 95,
     "metadata": {},
     "output_type": "execute_result"
    }
   ],
   "source": [
    "weather.isna().sum()"
   ]
  },
  {
   "cell_type": "code",
   "execution_count": 96,
   "metadata": {},
   "outputs": [],
   "source": [
    "weather_hour_grouped = weather.groupby([\"Date\",\"Hour\"]).agg({\n",
    "        'Temprature':'mean', 'Max Temprature':'max','Min Temprature':'min',\n",
    "        'Relative Humidity':'mean','Amount of Rain':'mean','Wind Speed':'mean',\n",
    "        'Wind Direction':'mean','Max Wind Speed per Min':'max','Max Win Speed per 10 Min':'max'}).reset_index()"
   ]
  },
  {
   "cell_type": "code",
   "execution_count": 101,
   "metadata": {},
   "outputs": [],
   "source": [
    "df = pd.merge(df,weather_hour_grouped,on=[\"Date\",\"Hour\"],how='left')"
   ]
  },
  {
   "cell_type": "code",
   "execution_count": 29,
   "metadata": {},
   "outputs": [],
   "source": [
    "# d = df.groupby([\"Date\",\"Hour\"]).size().reset_index()"
   ]
  },
  {
   "cell_type": "code",
   "execution_count": 30,
   "metadata": {},
   "outputs": [],
   "source": [
    "# w = weather.groupby([\"Date\",\"Hour\"]).size().reset_index()"
   ]
  },
  {
   "cell_type": "code",
   "execution_count": 31,
   "metadata": {},
   "outputs": [],
   "source": [
    "#  tmp = pd.merge(d,w,on=[\"Date\",\"Hour\"],how=\"left\")"
   ]
  },
  {
   "cell_type": "code",
   "execution_count": 32,
   "metadata": {},
   "outputs": [],
   "source": [
    "df.drop([\"Unnamed: 0\"],axis=1, inplace=True)"
   ]
  },
  {
   "cell_type": "code",
   "execution_count": 45,
   "metadata": {},
   "outputs": [],
   "source": [
    "# delete city != תל אביב יפו\n",
    "df = df[df[\"City\"] == ' תל אביב יפו']"
   ]
  },
  {
   "cell_type": "code",
   "execution_count": 48,
   "metadata": {},
   "outputs": [],
   "source": [
    "df = df.round(2)\n",
    "df.to_csv(\"./input/autotel.csv\", encoding='utf-8-sig')"
   ]
  },
  {
   "cell_type": "markdown",
   "metadata": {},
   "source": [
    "## Visualization"
   ]
  },
  {
   "cell_type": "code",
   "execution_count": 144,
   "metadata": {},
   "outputs": [],
   "source": [
    "# counts = df['neighborhood'].value_counts()\n",
    "# counts_more_then = df[df['neighborhood'].isin(counts[counts > 1000].index)]"
   ]
  },
  {
   "cell_type": "code",
   "execution_count": 145,
   "metadata": {},
   "outputs": [],
   "source": [
    "# tmp = df.groupby(['Year', 'Month']).size().reset_index(name='Freq')"
   ]
  },
  {
   "cell_type": "code",
   "execution_count": null,
   "metadata": {},
   "outputs": [],
   "source": [
    "# df.groupby(['Address', 'neighborhood']).size().reset_index(name='Freq')"
   ]
  },
  {
   "cell_type": "code",
   "execution_count": 146,
   "metadata": {},
   "outputs": [],
   "source": [
    "# df[(df[\"Address_c2\"] == ', תל אביב יפו, ישראל') & (df[\"neighborhood\"] == \"מונטיפיורי\")]"
   ]
  },
  {
   "cell_type": "code",
   "execution_count": 147,
   "metadata": {},
   "outputs": [],
   "source": [
    "#  df['neighborhood'].value_counts()"
   ]
  },
  {
   "cell_type": "code",
   "execution_count": 148,
   "metadata": {},
   "outputs": [],
   "source": [
    "\n",
    "# df[\"value\"] = df.groupby(\"name\").transform(lambda x: x.fillna(x.mean()))"
   ]
  },
  {
   "cell_type": "code",
   "execution_count": null,
   "metadata": {},
   "outputs": [],
   "source": []
  },
  {
   "cell_type": "code",
   "execution_count": null,
   "metadata": {},
   "outputs": [],
   "source": []
  }
 ],
 "metadata": {
  "kernelspec": {
   "display_name": "Python 3",
   "language": "python",
   "name": "python3"
  },
  "language_info": {
   "codemirror_mode": {
    "name": "ipython",
    "version": 3
   },
   "file_extension": ".py",
   "mimetype": "text/x-python",
   "name": "python",
   "nbconvert_exporter": "python",
   "pygments_lexer": "ipython3",
   "version": "3.7.4"
  }
 },
 "nbformat": 4,
 "nbformat_minor": 4
}
