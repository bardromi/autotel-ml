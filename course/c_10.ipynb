{
 "cells": [
  {
   "cell_type": "code",
   "execution_count": 1,
   "metadata": {},
   "outputs": [],
   "source": [
    "import pandas as pd\n",
    "import numpy as np\n",
    "import matplotlib.pyplot as plt\n",
    "import statsmodels.graphics.tsaplots as sgt\n",
    "from statsmodels.tsa.arima_model import ARIMA\n",
    "import statsmodels.api as sm\n",
    "from scipy.stats.distributions import chi2\n",
    "import statsmodels.tsa.stattools as sts\n",
    "from math import sqrt\n",
    "import seaborn as sns\n",
    "sns.set()\n",
    "\n",
    "import warnings\n",
    "warnings.filterwarnings(\"ignore\")"
   ]
  },
  {
   "cell_type": "code",
   "execution_count": 2,
   "metadata": {},
   "outputs": [],
   "source": [
    "raw_csv_data = pd.read_csv('./input/013 IndexE8.csv')\n",
    "df_comp = raw_csv_data.copy()\n",
    "df_comp.date = pd.to_datetime(df_comp.date, dayfirst = True)\n",
    "df_comp.set_index('date', inplace=True)\n",
    "df_comp = df_comp.asfreq('b')\n",
    "df_comp = df_comp.fillna(method='ffill')"
   ]
  },
  {
   "cell_type": "code",
   "execution_count": 3,
   "metadata": {},
   "outputs": [],
   "source": [
    "df_comp['market_value'] = df_comp.ftse"
   ]
  },
  {
   "cell_type": "code",
   "execution_count": 4,
   "metadata": {},
   "outputs": [],
   "source": [
    "# del df_comp['spx']\n",
    "# del df_comp['dax']\n",
    "# del df_comp['ftse']\n",
    "# del df_comp['nikkei']\n",
    "size = int(len(df_comp)*0.8)\n",
    "df,df_test = df_comp.iloc[:size], df_comp.iloc[size:]"
   ]
  },
  {
   "cell_type": "code",
   "execution_count": 5,
   "metadata": {},
   "outputs": [],
   "source": [
    "# DF: degree of freedom\n",
    "def LLR_test(mod_1, mod_2, DF=1):\n",
    "    L1 = mod_1.fit(start_ar_lags=11).llf # extracts Log-Lielihood\n",
    "    L2 = mod_2.fit(start_ar_lags=11).llf\n",
    "    LR = (2*(L2-L1)) # compute test statistics\n",
    "    p = chi2.sf(LR, DF).round(3) # calculate p-value\n",
    "    return p"
   ]
  },
  {
   "cell_type": "code",
   "execution_count": 6,
   "metadata": {},
   "outputs": [],
   "source": [
    "df['returns'] = df.market_value.pct_change(1)*100"
   ]
  },
  {
   "cell_type": "markdown",
   "metadata": {},
   "source": [
    "### ARIMA"
   ]
  },
  {
   "cell_type": "code",
   "execution_count": 7,
   "metadata": {},
   "outputs": [
    {
     "data": {
      "text/html": [
       "<table class=\"simpletable\">\n",
       "<caption>ARIMA Model Results</caption>\n",
       "<tr>\n",
       "  <th>Dep. Variable:</th>  <td>D.market_value</td>  <th>  No. Observations:  </th>    <td>5020</td>   \n",
       "</tr>\n",
       "<tr>\n",
       "  <th>Model:</th>          <td>ARIMA(1, 1, 1)</td>  <th>  Log Likelihood     </th> <td>-27603.666</td>\n",
       "</tr>\n",
       "<tr>\n",
       "  <th>Method:</th>             <td>css-mle</td>     <th>  S.D. of innovations</th>   <td>59.134</td>  \n",
       "</tr>\n",
       "<tr>\n",
       "  <th>Date:</th>          <td>Tue, 12 May 2020</td> <th>  AIC                </th>  <td>55215.333</td>\n",
       "</tr>\n",
       "<tr>\n",
       "  <th>Time:</th>              <td>12:37:40</td>     <th>  BIC                </th>  <td>55241.418</td>\n",
       "</tr>\n",
       "<tr>\n",
       "  <th>Sample:</th>           <td>01-10-1994</td>    <th>  HQIC               </th>  <td>55224.473</td>\n",
       "</tr>\n",
       "<tr>\n",
       "  <th></th>                 <td>- 04-05-2013</td>   <th>                     </th>      <td> </td>    \n",
       "</tr>\n",
       "</table>\n",
       "<table class=\"simpletable\">\n",
       "<tr>\n",
       "            <td></td>              <th>coef</th>     <th>std err</th>      <th>z</th>      <th>P>|z|</th>  <th>[0.025</th>    <th>0.975]</th>  \n",
       "</tr>\n",
       "<tr>\n",
       "  <th>const</th>                <td>    0.5655</td> <td>    0.682</td> <td>    0.829</td> <td> 0.407</td> <td>   -0.772</td> <td>    1.903</td>\n",
       "</tr>\n",
       "<tr>\n",
       "  <th>ar.L1.D.market_value</th> <td>    0.7475</td> <td>    0.070</td> <td>   10.652</td> <td> 0.000</td> <td>    0.610</td> <td>    0.885</td>\n",
       "</tr>\n",
       "<tr>\n",
       "  <th>ma.L1.D.market_value</th> <td>   -0.7936</td> <td>    0.064</td> <td>  -12.378</td> <td> 0.000</td> <td>   -0.919</td> <td>   -0.668</td>\n",
       "</tr>\n",
       "</table>\n",
       "<table class=\"simpletable\">\n",
       "<caption>Roots</caption>\n",
       "<tr>\n",
       "    <td></td>   <th>            Real</th>  <th>         Imaginary</th> <th>         Modulus</th>  <th>        Frequency</th>\n",
       "</tr>\n",
       "<tr>\n",
       "  <th>AR.1</th> <td>           1.3378</td> <td>          +0.0000j</td> <td>           1.3378</td> <td>           0.0000</td>\n",
       "</tr>\n",
       "<tr>\n",
       "  <th>MA.1</th> <td>           1.2601</td> <td>          +0.0000j</td> <td>           1.2601</td> <td>           0.0000</td>\n",
       "</tr>\n",
       "</table>"
      ],
      "text/plain": [
       "<class 'statsmodels.iolib.summary.Summary'>\n",
       "\"\"\"\n",
       "                             ARIMA Model Results                              \n",
       "==============================================================================\n",
       "Dep. Variable:         D.market_value   No. Observations:                 5020\n",
       "Model:                 ARIMA(1, 1, 1)   Log Likelihood              -27603.666\n",
       "Method:                       css-mle   S.D. of innovations             59.134\n",
       "Date:                Tue, 12 May 2020   AIC                          55215.333\n",
       "Time:                        12:37:40   BIC                          55241.418\n",
       "Sample:                    01-10-1994   HQIC                         55224.473\n",
       "                         - 04-05-2013                                         \n",
       "========================================================================================\n",
       "                           coef    std err          z      P>|z|      [0.025      0.975]\n",
       "----------------------------------------------------------------------------------------\n",
       "const                    0.5655      0.682      0.829      0.407      -0.772       1.903\n",
       "ar.L1.D.market_value     0.7475      0.070     10.652      0.000       0.610       0.885\n",
       "ma.L1.D.market_value    -0.7936      0.064    -12.378      0.000      -0.919      -0.668\n",
       "                                    Roots                                    \n",
       "=============================================================================\n",
       "                  Real          Imaginary           Modulus         Frequency\n",
       "-----------------------------------------------------------------------------\n",
       "AR.1            1.3378           +0.0000j            1.3378            0.0000\n",
       "MA.1            1.2601           +0.0000j            1.2601            0.0000\n",
       "-----------------------------------------------------------------------------\n",
       "\"\"\""
      ]
     },
     "execution_count": 7,
     "metadata": {},
     "output_type": "execute_result"
    }
   ],
   "source": [
    "model_ar_1_i_1_ma_1 = ARIMA(df.market_value, order=(1,1,1))\n",
    "results_ar_1_i_1_ma_1 = model_ar_1_i_1_ma_1.fit()\n",
    "results_ar_1_i_1_ma_1.summary()"
   ]
  },
  {
   "cell_type": "markdown",
   "metadata": {},
   "source": [
    "### Residuals of the ARIMA(1,1,1)"
   ]
  },
  {
   "cell_type": "code",
   "execution_count": 8,
   "metadata": {},
   "outputs": [
    {
     "data": {
      "text/plain": [
       "Text(0.5, 1.0, 'ACF of Residuals for ARIMA(1,1,1)')"
      ]
     },
     "execution_count": 8,
     "metadata": {},
     "output_type": "execute_result"
    },
    {
     "data": {
      "image/png": "[encoded data removed]",
      "text/plain": [
       "<Figure size 432x288 with 1 Axes>"
      ]
     },
     "metadata": {},
     "output_type": "display_data"
    }
   ],
   "source": [
    "df['res_ar_1_i_1_ma_1'] = results_ar_1_i_1_ma_1.resid\n",
    "sgt.plot_acf(df.res_ar_1_i_1_ma_1[1:],zero = False, lags = 40)\n",
    "plt.title(\"ACF of Residuals for ARIMA(1,1,1)\", size = 24)"
   ]
  },
  {
   "cell_type": "markdown",
   "metadata": {},
   "source": [
    "### Higher-Lag ARIMA Models"
   ]
  },
  {
   "cell_type": "code",
   "execution_count": 9,
   "metadata": {},
   "outputs": [],
   "source": [
    "model_ar_1_i_1_ma_2 = ARIMA(df.market_value, order=(1,1,2))\n",
    "results_ar_1_i_1_ma_2 = model_ar_1_i_1_ma_2.fit()\n",
    "\n",
    "model_ar_1_i_1_ma_3 = ARIMA(df.market_value, order=(1,1,3))\n",
    "results_ar_1_i_1_ma_3 = model_ar_1_i_1_ma_3.fit()\n",
    "\n",
    "model_ar_2_i_1_ma_1 = ARIMA(df.market_value, order=(2,1,1))\n",
    "results_ar_2_i_1_ma_1 = model_ar_2_i_1_ma_1.fit()\n",
    "\n",
    "model_ar_3_i_1_ma_1 = ARIMA(df.market_value, order=(3,1,1))\n",
    "results_ar_3_i_1_ma_1 = model_ar_3_i_1_ma_1.fit()\n",
    "\n",
    "model_ar_3_i_1_ma_2 = ARIMA(df.market_value, order=(3,1,2))\n",
    "results_ar_3_i_1_ma_2 = model_ar_3_i_1_ma_2.fit(start_ar_lags = 5)\n",
    "\n"
   ]
  },
  {
   "cell_type": "code",
   "execution_count": 10,
   "metadata": {},
   "outputs": [
    {
     "name": "stdout",
     "output_type": "stream",
     "text": [
      "\n",
      " ARIMA(1,1,1): \tLL = -27603.66641276545 \tAIC = 55215.3328255309\n",
      "\n",
      " ARIMA(1,1,2): \tLL = -27600.081863148975 \tAIC = 55210.16372629795\n",
      "\n",
      " ARIMA(1,1,3): \tLL = -27590.42403265512 \tAIC = 55192.84806531024\n",
      "\n",
      " ARIMA(2,1,1): \tLL = -27599.807487856524 \tAIC = 55209.61497571305\n",
      "\n",
      " ARIMA(3,1,1): \tLL = -27592.055371723014 \tAIC = 55196.11074344603\n",
      "\n",
      " ARIMA(3,1,2): \tLL = -27590.660808989778 \tAIC = 55195.321617979556\n"
     ]
    }
   ],
   "source": [
    "print(f'\\n ARIMA(1,1,1): \\tLL = {results_ar_1_i_1_ma_1.llf} \\tAIC = {results_ar_1_i_1_ma_1.aic}')\n",
    "print(f'\\n ARIMA(1,1,2): \\tLL = {results_ar_1_i_1_ma_2.llf} \\tAIC = {results_ar_1_i_1_ma_2.aic}')\n",
    "print(f'\\n ARIMA(1,1,3): \\tLL = {results_ar_1_i_1_ma_3.llf} \\tAIC = {results_ar_1_i_1_ma_3.aic}')\n",
    "print(f'\\n ARIMA(2,1,1): \\tLL = {results_ar_2_i_1_ma_1.llf} \\tAIC = {results_ar_2_i_1_ma_1.aic}')\n",
    "print(f'\\n ARIMA(3,1,1): \\tLL = {results_ar_3_i_1_ma_1.llf} \\tAIC = {results_ar_3_i_1_ma_1.aic}')\n",
    "print(f'\\n ARIMA(3,1,2): \\tLL = {results_ar_3_i_1_ma_2.llf} \\tAIC = {results_ar_3_i_1_ma_2.aic}')"
   ]
  },
  {
   "cell_type": "markdown",
   "metadata": {},
   "source": [
    "<b>ARIMA(1,1,3) looks the best but we have to check LLR of ARIMA(1,1,2) and ARIMA(1,1,1) because they nested in ARIMA(1,1,3)</b>"
   ]
  },
  {
   "cell_type": "code",
   "execution_count": 11,
   "metadata": {},
   "outputs": [
    {
     "name": "stdout",
     "output_type": "stream",
     "text": [
      "\n",
      "LLR test p-value = 0.0\n"
     ]
    }
   ],
   "source": [
    "print(f\"\\nLLR test p-value = {LLR_test(model_ar_1_i_1_ma_2,model_ar_1_i_1_ma_3)}\")"
   ]
  },
  {
   "cell_type": "code",
   "execution_count": 12,
   "metadata": {},
   "outputs": [
    {
     "name": "stdout",
     "output_type": "stream",
     "text": [
      "\n",
      "LLR test p-value = 0.0\n"
     ]
    }
   ],
   "source": [
    "print(f\"\\nLLR test p-value = {LLR_test(model_ar_1_i_1_ma_1,model_ar_1_i_1_ma_3, DF = 2)}\")"
   ]
  },
  {
   "cell_type": "code",
   "execution_count": 13,
   "metadata": {},
   "outputs": [
    {
     "data": {
      "text/plain": [
       "Text(0.5, 1.0, 'ACF of Residuals for ARIMA(1,1,3)')"
      ]
     },
     "execution_count": 13,
     "metadata": {},
     "output_type": "execute_result"
    },
    {
     "data": {
      "image/png": "[encoded data removed]",
      "text/plain": [
       "<Figure size 432x288 with 1 Axes>"
      ]
     },
     "metadata": {},
     "output_type": "display_data"
    }
   ],
   "source": [
    "df['res_ar_1_i_1_ma_3'] = results_ar_1_i_1_ma_3.resid\n",
    "sgt.plot_acf(df.res_ar_1_i_1_ma_3[1:],zero = False, lags = 40)\n",
    "plt.title(\"ACF of Residuals for ARIMA(1,1,3)\", size = 24)"
   ]
  },
  {
   "cell_type": "code",
   "execution_count": 14,
   "metadata": {},
   "outputs": [],
   "source": [
    "model_ar_6_i_1_ma_3 = ARIMA(df.market_value, order=(6,1,3))\n",
    "results_ar_6_i_1_ma_3 = model_ar_6_i_1_ma_3.fit(start_ar_lags=11)\n",
    "\n",
    "model_ar_5_i_1_ma_1 = ARIMA(df.market_value, order=(5,1,1))\n",
    "results_ar_5_i_1_ma_1 = model_ar_5_i_1_ma_1.fit(start_ar_lags=11)"
   ]
  },
  {
   "cell_type": "code",
   "execution_count": 15,
   "metadata": {},
   "outputs": [
    {
     "name": "stdout",
     "output_type": "stream",
     "text": [
      "\n",
      " ARIMA(1,1,3): \tLL = -27590.42403265512 \tAIC = 55192.84806531024\n",
      "\n",
      " ARIMA(6,1,3): \tLL = -27583.56532043939 \t\tAIC = 55189.13064087878\n",
      "\n",
      " ARIMA(5,1,1): \tLL = -27586.511888123965 \tAIC = 55189.02377624793\n"
     ]
    }
   ],
   "source": [
    "print(f'\\n ARIMA(1,1,3): \\tLL = {results_ar_1_i_1_ma_3.llf} \\tAIC = {results_ar_1_i_1_ma_3.aic}')\n",
    "print(f'\\n ARIMA(6,1,3): \\tLL = {results_ar_6_i_1_ma_3.llf} \\t\\tAIC = {results_ar_6_i_1_ma_3.aic}')\n",
    "print(f'\\n ARIMA(5,1,1): \\tLL = {results_ar_5_i_1_ma_1.llf} \\tAIC = {results_ar_5_i_1_ma_1.aic}')"
   ]
  },
  {
   "cell_type": "markdown",
   "metadata": {},
   "source": [
    "<b>ARIMA(6,1,3) looks the best</b>"
   ]
  },
  {
   "cell_type": "code",
   "execution_count": 16,
   "metadata": {},
   "outputs": [
    {
     "name": "stdout",
     "output_type": "stream",
     "text": [
      "\n",
      "LLR test p-value = 0.018\n"
     ]
    }
   ],
   "source": [
    "print(f\"\\nLLR test p-value = {LLR_test(model_ar_1_i_1_ma_3,model_ar_6_i_1_ma_3, DF=5)}\")"
   ]
  },
  {
   "cell_type": "code",
   "execution_count": 17,
   "metadata": {},
   "outputs": [
    {
     "name": "stdout",
     "output_type": "stream",
     "text": [
      "\n",
      "LLR test p-value = 0.117\n"
     ]
    }
   ],
   "source": [
    "print(f\"\\nLLR test p-value = {LLR_test(model_ar_5_i_1_ma_1,model_ar_6_i_1_ma_3, DF=3)}\")"
   ]
  },
  {
   "cell_type": "markdown",
   "metadata": {},
   "source": [
    "<b>It is mean that ARIMA(6,1,3) is not better then ARIMA(5,1,1)</b>"
   ]
  },
  {
   "cell_type": "code",
   "execution_count": 18,
   "metadata": {},
   "outputs": [
    {
     "data": {
      "text/plain": [
       "Text(0.5, 1.0, 'ACF of Residuals for ARIMA(5,1,1)')"
      ]
     },
     "execution_count": 18,
     "metadata": {},
     "output_type": "execute_result"
    },
    {
     "data": {
      "image/png": "[encoded data removed]",
      "text/plain": [
       "<Figure size 432x288 with 1 Axes>"
      ]
     },
     "metadata": {},
     "output_type": "display_data"
    }
   ],
   "source": [
    "df['res_ar_5_i_1_ma_1'] = results_ar_5_i_1_ma_1.resid\n",
    "sgt.plot_acf(df.res_ar_5_i_1_ma_1[1:],zero = False, lags = 40)\n",
    "plt.title(\"ACF of Residuals for ARIMA(5,1,1)\", size = 24)"
   ]
  },
  {
   "cell_type": "code",
   "execution_count": 19,
   "metadata": {},
   "outputs": [
    {
     "data": {
      "text/html": [
       "<table class=\"simpletable\">\n",
       "<caption>ARIMA Model Results</caption>\n",
       "<tr>\n",
       "  <th>Dep. Variable:</th>  <td>D.market_value</td>  <th>  No. Observations:  </th>    <td>5020</td>   \n",
       "</tr>\n",
       "<tr>\n",
       "  <th>Model:</th>          <td>ARIMA(5, 1, 1)</td>  <th>  Log Likelihood     </th> <td>-27586.512</td>\n",
       "</tr>\n",
       "<tr>\n",
       "  <th>Method:</th>             <td>css-mle</td>     <th>  S.D. of innovations</th>   <td>58.932</td>  \n",
       "</tr>\n",
       "<tr>\n",
       "  <th>Date:</th>          <td>Tue, 12 May 2020</td> <th>  AIC                </th>  <td>55189.024</td>\n",
       "</tr>\n",
       "<tr>\n",
       "  <th>Time:</th>              <td>12:38:00</td>     <th>  BIC                </th>  <td>55241.193</td>\n",
       "</tr>\n",
       "<tr>\n",
       "  <th>Sample:</th>           <td>01-10-1994</td>    <th>  HQIC               </th>  <td>55207.305</td>\n",
       "</tr>\n",
       "<tr>\n",
       "  <th></th>                 <td>- 04-05-2013</td>   <th>                     </th>      <td> </td>    \n",
       "</tr>\n",
       "</table>\n",
       "<table class=\"simpletable\">\n",
       "<tr>\n",
       "            <td></td>              <th>coef</th>     <th>std err</th>      <th>z</th>      <th>P>|z|</th>  <th>[0.025</th>    <th>0.975]</th>  \n",
       "</tr>\n",
       "<tr>\n",
       "  <th>const</th>                <td>    0.5664</td> <td>    0.690</td> <td>    0.820</td> <td> 0.412</td> <td>   -0.787</td> <td>    1.920</td>\n",
       "</tr>\n",
       "<tr>\n",
       "  <th>ar.L1.D.market_value</th> <td>    0.4011</td> <td>    0.159</td> <td>    2.530</td> <td> 0.011</td> <td>    0.090</td> <td>    0.712</td>\n",
       "</tr>\n",
       "<tr>\n",
       "  <th>ar.L2.D.market_value</th> <td>   -0.0445</td> <td>    0.016</td> <td>   -2.856</td> <td> 0.004</td> <td>   -0.075</td> <td>   -0.014</td>\n",
       "</tr>\n",
       "<tr>\n",
       "  <th>ar.L3.D.market_value</th> <td>   -0.0543</td> <td>    0.017</td> <td>   -3.163</td> <td> 0.002</td> <td>   -0.088</td> <td>   -0.021</td>\n",
       "</tr>\n",
       "<tr>\n",
       "  <th>ar.L4.D.market_value</th> <td>    0.0586</td> <td>    0.019</td> <td>    3.069</td> <td> 0.002</td> <td>    0.021</td> <td>    0.096</td>\n",
       "</tr>\n",
       "<tr>\n",
       "  <th>ar.L5.D.market_value</th> <td>   -0.0581</td> <td>    0.014</td> <td>   -4.118</td> <td> 0.000</td> <td>   -0.086</td> <td>   -0.030</td>\n",
       "</tr>\n",
       "<tr>\n",
       "  <th>ma.L1.D.market_value</th> <td>   -0.4214</td> <td>    0.158</td> <td>   -2.659</td> <td> 0.008</td> <td>   -0.732</td> <td>   -0.111</td>\n",
       "</tr>\n",
       "</table>\n",
       "<table class=\"simpletable\">\n",
       "<caption>Roots</caption>\n",
       "<tr>\n",
       "    <td></td>   <th>            Real</th>  <th>         Imaginary</th> <th>         Modulus</th>  <th>        Frequency</th>\n",
       "</tr>\n",
       "<tr>\n",
       "  <th>AR.1</th> <td>          -1.7609</td> <td>          -0.0000j</td> <td>           1.7609</td> <td>          -0.5000</td>\n",
       "</tr>\n",
       "<tr>\n",
       "  <th>AR.2</th> <td>           1.4633</td> <td>          -0.8605j</td> <td>           1.6975</td> <td>          -0.0846</td>\n",
       "</tr>\n",
       "<tr>\n",
       "  <th>AR.3</th> <td>           1.4633</td> <td>          +0.8605j</td> <td>           1.6975</td> <td>           0.0846</td>\n",
       "</tr>\n",
       "<tr>\n",
       "  <th>AR.4</th> <td>          -0.0790</td> <td>          -1.8393j</td> <td>           1.8410</td> <td>          -0.2568</td>\n",
       "</tr>\n",
       "<tr>\n",
       "  <th>AR.5</th> <td>          -0.0790</td> <td>          +1.8393j</td> <td>           1.8410</td> <td>           0.2568</td>\n",
       "</tr>\n",
       "<tr>\n",
       "  <th>MA.1</th> <td>           2.3733</td> <td>          +0.0000j</td> <td>           2.3733</td> <td>           0.0000</td>\n",
       "</tr>\n",
       "</table>"
      ],
      "text/plain": [
       "<class 'statsmodels.iolib.summary.Summary'>\n",
       "\"\"\"\n",
       "                             ARIMA Model Results                              \n",
       "==============================================================================\n",
       "Dep. Variable:         D.market_value   No. Observations:                 5020\n",
       "Model:                 ARIMA(5, 1, 1)   Log Likelihood              -27586.512\n",
       "Method:                       css-mle   S.D. of innovations             58.932\n",
       "Date:                Tue, 12 May 2020   AIC                          55189.024\n",
       "Time:                        12:38:00   BIC                          55241.193\n",
       "Sample:                    01-10-1994   HQIC                         55207.305\n",
       "                         - 04-05-2013                                         \n",
       "========================================================================================\n",
       "                           coef    std err          z      P>|z|      [0.025      0.975]\n",
       "----------------------------------------------------------------------------------------\n",
       "const                    0.5664      0.690      0.820      0.412      -0.787       1.920\n",
       "ar.L1.D.market_value     0.4011      0.159      2.530      0.011       0.090       0.712\n",
       "ar.L2.D.market_value    -0.0445      0.016     -2.856      0.004      -0.075      -0.014\n",
       "ar.L3.D.market_value    -0.0543      0.017     -3.163      0.002      -0.088      -0.021\n",
       "ar.L4.D.market_value     0.0586      0.019      3.069      0.002       0.021       0.096\n",
       "ar.L5.D.market_value    -0.0581      0.014     -4.118      0.000      -0.086      -0.030\n",
       "ma.L1.D.market_value    -0.4214      0.158     -2.659      0.008      -0.732      -0.111\n",
       "                                    Roots                                    \n",
       "=============================================================================\n",
       "                  Real          Imaginary           Modulus         Frequency\n",
       "-----------------------------------------------------------------------------\n",
       "AR.1           -1.7609           -0.0000j            1.7609           -0.5000\n",
       "AR.2            1.4633           -0.8605j            1.6975           -0.0846\n",
       "AR.3            1.4633           +0.8605j            1.6975            0.0846\n",
       "AR.4           -0.0790           -1.8393j            1.8410           -0.2568\n",
       "AR.5           -0.0790           +1.8393j            1.8410            0.2568\n",
       "MA.1            2.3733           +0.0000j            2.3733            0.0000\n",
       "-----------------------------------------------------------------------------\n",
       "\"\"\""
      ]
     },
     "execution_count": 19,
     "metadata": {},
     "output_type": "execute_result"
    }
   ],
   "source": [
    "results_ar_5_i_1_ma_1.summary()"
   ]
  },
  {
   "cell_type": "markdown",
   "metadata": {},
   "source": [
    "### Models wish Higher Levels of Integration"
   ]
  },
  {
   "cell_type": "code",
   "execution_count": 20,
   "metadata": {},
   "outputs": [],
   "source": [
    "df['delta_prices'] = df.market_value.diff(1)"
   ]
  },
  {
   "cell_type": "code",
   "execution_count": 21,
   "metadata": {},
   "outputs": [
    {
     "data": {
      "text/html": [
       "<table class=\"simpletable\">\n",
       "<caption>ARMA Model Results</caption>\n",
       "<tr>\n",
       "  <th>Dep. Variable:</th>   <td>delta_prices</td>   <th>  No. Observations:  </th>    <td>5020</td>   \n",
       "</tr>\n",
       "<tr>\n",
       "  <th>Model:</th>            <td>ARMA(1, 1)</td>    <th>  Log Likelihood     </th> <td>-27603.666</td>\n",
       "</tr>\n",
       "<tr>\n",
       "  <th>Method:</th>             <td>css-mle</td>     <th>  S.D. of innovations</th>   <td>59.134</td>  \n",
       "</tr>\n",
       "<tr>\n",
       "  <th>Date:</th>          <td>Tue, 12 May 2020</td> <th>  AIC                </th>  <td>55215.333</td>\n",
       "</tr>\n",
       "<tr>\n",
       "  <th>Time:</th>              <td>12:38:01</td>     <th>  BIC                </th>  <td>55241.418</td>\n",
       "</tr>\n",
       "<tr>\n",
       "  <th>Sample:</th>           <td>01-10-1994</td>    <th>  HQIC               </th>  <td>55224.473</td>\n",
       "</tr>\n",
       "<tr>\n",
       "  <th></th>                 <td>- 04-05-2013</td>   <th>                     </th>      <td> </td>    \n",
       "</tr>\n",
       "</table>\n",
       "<table class=\"simpletable\">\n",
       "<tr>\n",
       "           <td></td>             <th>coef</th>     <th>std err</th>      <th>z</th>      <th>P>|z|</th>  <th>[0.025</th>    <th>0.975]</th>  \n",
       "</tr>\n",
       "<tr>\n",
       "  <th>const</th>              <td>    0.5655</td> <td>    0.682</td> <td>    0.829</td> <td> 0.407</td> <td>   -0.772</td> <td>    1.903</td>\n",
       "</tr>\n",
       "<tr>\n",
       "  <th>ar.L1.delta_prices</th> <td>    0.7475</td> <td>    0.070</td> <td>   10.652</td> <td> 0.000</td> <td>    0.610</td> <td>    0.885</td>\n",
       "</tr>\n",
       "<tr>\n",
       "  <th>ma.L1.delta_prices</th> <td>   -0.7936</td> <td>    0.064</td> <td>  -12.378</td> <td> 0.000</td> <td>   -0.919</td> <td>   -0.668</td>\n",
       "</tr>\n",
       "</table>\n",
       "<table class=\"simpletable\">\n",
       "<caption>Roots</caption>\n",
       "<tr>\n",
       "    <td></td>   <th>            Real</th>  <th>         Imaginary</th> <th>         Modulus</th>  <th>        Frequency</th>\n",
       "</tr>\n",
       "<tr>\n",
       "  <th>AR.1</th> <td>           1.3378</td> <td>          +0.0000j</td> <td>           1.3378</td> <td>           0.0000</td>\n",
       "</tr>\n",
       "<tr>\n",
       "  <th>MA.1</th> <td>           1.2601</td> <td>          +0.0000j</td> <td>           1.2601</td> <td>           0.0000</td>\n",
       "</tr>\n",
       "</table>"
      ],
      "text/plain": [
       "<class 'statsmodels.iolib.summary.Summary'>\n",
       "\"\"\"\n",
       "                              ARMA Model Results                              \n",
       "==============================================================================\n",
       "Dep. Variable:           delta_prices   No. Observations:                 5020\n",
       "Model:                     ARMA(1, 1)   Log Likelihood              -27603.666\n",
       "Method:                       css-mle   S.D. of innovations             59.134\n",
       "Date:                Tue, 12 May 2020   AIC                          55215.333\n",
       "Time:                        12:38:01   BIC                          55241.418\n",
       "Sample:                    01-10-1994   HQIC                         55224.473\n",
       "                         - 04-05-2013                                         \n",
       "======================================================================================\n",
       "                         coef    std err          z      P>|z|      [0.025      0.975]\n",
       "--------------------------------------------------------------------------------------\n",
       "const                  0.5655      0.682      0.829      0.407      -0.772       1.903\n",
       "ar.L1.delta_prices     0.7475      0.070     10.652      0.000       0.610       0.885\n",
       "ma.L1.delta_prices    -0.7936      0.064    -12.378      0.000      -0.919      -0.668\n",
       "                                    Roots                                    \n",
       "=============================================================================\n",
       "                  Real          Imaginary           Modulus         Frequency\n",
       "-----------------------------------------------------------------------------\n",
       "AR.1            1.3378           +0.0000j            1.3378            0.0000\n",
       "MA.1            1.2601           +0.0000j            1.2601            0.0000\n",
       "-----------------------------------------------------------------------------\n",
       "\"\"\""
      ]
     },
     "execution_count": 21,
     "metadata": {},
     "output_type": "execute_result"
    }
   ],
   "source": [
    "model_delta_ar_1_i_0_ma_1 = ARIMA(df.delta_prices[1:], order=(1,0,1))\n",
    "results_delta_ar_1_i_0_ma_1 = model_delta_ar_1_i_0_ma_1.fit()\n",
    "results_delta_ar_1_i_0_ma_1.summary()"
   ]
  },
  {
   "cell_type": "markdown",
   "metadata": {},
   "source": [
    "We got same results as ARIMA(1,1,1), it means that the delta is a correct calculation"
   ]
  },
  {
   "cell_type": "code",
   "execution_count": 22,
   "metadata": {},
   "outputs": [
    {
     "data": {
      "text/plain": [
       "(-32.244093495707475,\n",
       " 0.0,\n",
       " 5,\n",
       " 5014,\n",
       " {'1%': -3.4316548765428174,\n",
       "  '5%': -2.8621166146845334,\n",
       "  '10%': -2.5670769326348926},\n",
       " 54845.96104221891)"
      ]
     },
     "execution_count": 22,
     "metadata": {},
     "output_type": "execute_result"
    }
   ],
   "source": [
    "sts.adfuller(df.delta_prices[1:])"
   ]
  },
  {
   "cell_type": "markdown",
   "metadata": {},
   "source": [
    "<b>We can say that the data is stationarity and d=1 (integration) is sufficient</b>"
   ]
  },
  {
   "cell_type": "markdown",
   "metadata": {},
   "source": [
    "### ARIMAX"
   ]
  },
  {
   "cell_type": "code",
   "execution_count": 23,
   "metadata": {},
   "outputs": [
    {
     "data": {
      "text/html": [
       "<table class=\"simpletable\">\n",
       "<caption>ARIMA Model Results</caption>\n",
       "<tr>\n",
       "  <th>Dep. Variable:</th>  <td>D.market_value</td>  <th>  No. Observations:  </th>    <td>5020</td>   \n",
       "</tr>\n",
       "<tr>\n",
       "  <th>Model:</th>          <td>ARIMA(1, 1, 1)</td>  <th>  Log Likelihood     </th> <td>-27603.556</td>\n",
       "</tr>\n",
       "<tr>\n",
       "  <th>Method:</th>             <td>css-mle</td>     <th>  S.D. of innovations</th>   <td>59.132</td>  \n",
       "</tr>\n",
       "<tr>\n",
       "  <th>Date:</th>          <td>Tue, 12 May 2020</td> <th>  AIC                </th>  <td>55217.112</td>\n",
       "</tr>\n",
       "<tr>\n",
       "  <th>Time:</th>              <td>12:42:59</td>     <th>  BIC                </th>  <td>55249.718</td>\n",
       "</tr>\n",
       "<tr>\n",
       "  <th>Sample:</th>           <td>01-10-1994</td>    <th>  HQIC               </th>  <td>55228.538</td>\n",
       "</tr>\n",
       "<tr>\n",
       "  <th></th>                 <td>- 04-05-2013</td>   <th>                     </th>      <td> </td>    \n",
       "</tr>\n",
       "</table>\n",
       "<table class=\"simpletable\">\n",
       "<tr>\n",
       "            <td></td>              <th>coef</th>     <th>std err</th>      <th>z</th>      <th>P>|z|</th>  <th>[0.025</th>    <th>0.975]</th>  \n",
       "</tr>\n",
       "<tr>\n",
       "  <th>const</th>                <td>   -0.5893</td> <td>    2.655</td> <td>   -0.222</td> <td> 0.824</td> <td>   -5.792</td> <td>    4.614</td>\n",
       "</tr>\n",
       "<tr>\n",
       "  <th>spx</th>                  <td>    0.0011</td> <td>    0.002</td> <td>    0.451</td> <td> 0.652</td> <td>   -0.004</td> <td>    0.006</td>\n",
       "</tr>\n",
       "<tr>\n",
       "  <th>ar.L1.D.market_value</th> <td>    0.7462</td> <td>    0.070</td> <td>   10.602</td> <td> 0.000</td> <td>    0.608</td> <td>    0.884</td>\n",
       "</tr>\n",
       "<tr>\n",
       "  <th>ma.L1.D.market_value</th> <td>   -0.7923</td> <td>    0.064</td> <td>  -12.305</td> <td> 0.000</td> <td>   -0.918</td> <td>   -0.666</td>\n",
       "</tr>\n",
       "</table>\n",
       "<table class=\"simpletable\">\n",
       "<caption>Roots</caption>\n",
       "<tr>\n",
       "    <td></td>   <th>            Real</th>  <th>         Imaginary</th> <th>         Modulus</th>  <th>        Frequency</th>\n",
       "</tr>\n",
       "<tr>\n",
       "  <th>AR.1</th> <td>           1.3400</td> <td>          +0.0000j</td> <td>           1.3400</td> <td>           0.0000</td>\n",
       "</tr>\n",
       "<tr>\n",
       "  <th>MA.1</th> <td>           1.2622</td> <td>          +0.0000j</td> <td>           1.2622</td> <td>           0.0000</td>\n",
       "</tr>\n",
       "</table>"
      ],
      "text/plain": [
       "<class 'statsmodels.iolib.summary.Summary'>\n",
       "\"\"\"\n",
       "                             ARIMA Model Results                              \n",
       "==============================================================================\n",
       "Dep. Variable:         D.market_value   No. Observations:                 5020\n",
       "Model:                 ARIMA(1, 1, 1)   Log Likelihood              -27603.556\n",
       "Method:                       css-mle   S.D. of innovations             59.132\n",
       "Date:                Tue, 12 May 2020   AIC                          55217.112\n",
       "Time:                        12:42:59   BIC                          55249.718\n",
       "Sample:                    01-10-1994   HQIC                         55228.538\n",
       "                         - 04-05-2013                                         \n",
       "========================================================================================\n",
       "                           coef    std err          z      P>|z|      [0.025      0.975]\n",
       "----------------------------------------------------------------------------------------\n",
       "const                   -0.5893      2.655     -0.222      0.824      -5.792       4.614\n",
       "spx                      0.0011      0.002      0.451      0.652      -0.004       0.006\n",
       "ar.L1.D.market_value     0.7462      0.070     10.602      0.000       0.608       0.884\n",
       "ma.L1.D.market_value    -0.7923      0.064    -12.305      0.000      -0.918      -0.666\n",
       "                                    Roots                                    \n",
       "=============================================================================\n",
       "                  Real          Imaginary           Modulus         Frequency\n",
       "-----------------------------------------------------------------------------\n",
       "AR.1            1.3400           +0.0000j            1.3400            0.0000\n",
       "MA.1            1.2622           +0.0000j            1.2622            0.0000\n",
       "-----------------------------------------------------------------------------\n",
       "\"\"\""
      ]
     },
     "execution_count": 23,
     "metadata": {},
     "output_type": "execute_result"
    }
   ],
   "source": [
    "model_ar_1_i_1_ma_1_Xspx = ARIMA(df.market_value, exog = df.spx, order=(1,1,1))\n",
    "results_ar_1_i_1_ma_1_Xspx = model_ar_1_i_1_ma_1_Xspx.fit()\n",
    "results_ar_1_i_1_ma_1_Xspx.summary()"
   ]
  },
  {
   "cell_type": "markdown",
   "metadata": {},
   "source": [
    "### SARIMAX"
   ]
  },
  {
   "cell_type": "code",
   "execution_count": 24,
   "metadata": {},
   "outputs": [],
   "source": [
    "from statsmodels.tsa.statespace.sarimax import SARIMAX"
   ]
  },
  {
   "cell_type": "code",
   "execution_count": 27,
   "metadata": {},
   "outputs": [
    {
     "data": {
      "text/html": [
       "<table class=\"simpletable\">\n",
       "<caption>SARIMAX Results</caption>\n",
       "<tr>\n",
       "  <th>Dep. Variable:</th>           <td>market_value</td>          <th>  No. Observations:  </th>    <td>5021</td>   \n",
       "</tr>\n",
       "<tr>\n",
       "  <th>Model:</th>           <td>SARIMAX(1, 1, 1)x(2, 0, 1, 5)</td> <th>  Log Likelihood     </th> <td>-26690.649</td>\n",
       "</tr>\n",
       "<tr>\n",
       "  <th>Date:</th>                  <td>Tue, 12 May 2020</td>        <th>  AIC                </th>  <td>53395.298</td>\n",
       "</tr>\n",
       "<tr>\n",
       "  <th>Time:</th>                      <td>12:55:47</td>            <th>  BIC                </th>  <td>53440.946</td>\n",
       "</tr>\n",
       "<tr>\n",
       "  <th>Sample:</th>                   <td>01-07-1994</td>           <th>  HQIC               </th>  <td>53411.293</td>\n",
       "</tr>\n",
       "<tr>\n",
       "  <th></th>                         <td>- 04-05-2013</td>          <th>                     </th>      <td> </td>    \n",
       "</tr>\n",
       "<tr>\n",
       "  <th>Covariance Type:</th>              <td>opg</td>              <th>                     </th>      <td> </td>    \n",
       "</tr>\n",
       "</table>\n",
       "<table class=\"simpletable\">\n",
       "<tr>\n",
       "      <td></td>        <th>coef</th>     <th>std err</th>      <th>z</th>      <th>P>|z|</th>  <th>[0.025</th>    <th>0.975]</th>  \n",
       "</tr>\n",
       "<tr>\n",
       "  <th>spx</th>      <td>    2.6947</td> <td>    0.035</td> <td>   76.380</td> <td> 0.000</td> <td>    2.626</td> <td>    2.764</td>\n",
       "</tr>\n",
       "<tr>\n",
       "  <th>ar.L1</th>    <td>    0.2394</td> <td>    0.030</td> <td>    8.097</td> <td> 0.000</td> <td>    0.181</td> <td>    0.297</td>\n",
       "</tr>\n",
       "<tr>\n",
       "  <th>ma.L1</th>    <td>   -0.5303</td> <td>    0.026</td> <td>  -20.728</td> <td> 0.000</td> <td>   -0.580</td> <td>   -0.480</td>\n",
       "</tr>\n",
       "<tr>\n",
       "  <th>ar.S.L5</th>  <td>    0.5776</td> <td>    0.478</td> <td>    1.208</td> <td> 0.227</td> <td>   -0.360</td> <td>    1.515</td>\n",
       "</tr>\n",
       "<tr>\n",
       "  <th>ar.S.L10</th> <td>    0.0074</td> <td>    0.023</td> <td>    0.324</td> <td> 0.746</td> <td>   -0.037</td> <td>    0.052</td>\n",
       "</tr>\n",
       "<tr>\n",
       "  <th>ma.S.L5</th>  <td>   -0.6085</td> <td>    0.478</td> <td>   -1.272</td> <td> 0.203</td> <td>   -1.546</td> <td>    0.329</td>\n",
       "</tr>\n",
       "<tr>\n",
       "  <th>sigma2</th>   <td> 2430.4415</td> <td>   27.775</td> <td>   87.505</td> <td> 0.000</td> <td> 2376.004</td> <td> 2484.879</td>\n",
       "</tr>\n",
       "</table>\n",
       "<table class=\"simpletable\">\n",
       "<tr>\n",
       "  <th>Ljung-Box (Q):</th>          <td>74.26</td> <th>  Jarque-Bera (JB):  </th> <td>4297.05</td>\n",
       "</tr>\n",
       "<tr>\n",
       "  <th>Prob(Q):</th>                <td>0.00</td>  <th>  Prob(JB):          </th>  <td>0.00</td>  \n",
       "</tr>\n",
       "<tr>\n",
       "  <th>Heteroskedasticity (H):</th> <td>1.25</td>  <th>  Skew:              </th>  <td>-0.58</td> \n",
       "</tr>\n",
       "<tr>\n",
       "  <th>Prob(H) (two-sided):</th>    <td>0.00</td>  <th>  Kurtosis:          </th>  <td>7.38</td>  \n",
       "</tr>\n",
       "</table><br/><br/>Warnings:<br/>[1] Covariance matrix calculated using the outer product of gradients (complex-step)."
      ],
      "text/plain": [
       "<class 'statsmodels.iolib.summary.Summary'>\n",
       "\"\"\"\n",
       "                                     SARIMAX Results                                     \n",
       "=========================================================================================\n",
       "Dep. Variable:                      market_value   No. Observations:                 5021\n",
       "Model:             SARIMAX(1, 1, 1)x(2, 0, 1, 5)   Log Likelihood              -26690.649\n",
       "Date:                           Tue, 12 May 2020   AIC                          53395.298\n",
       "Time:                                   12:55:47   BIC                          53440.946\n",
       "Sample:                               01-07-1994   HQIC                         53411.293\n",
       "                                    - 04-05-2013                                         \n",
       "Covariance Type:                             opg                                         \n",
       "==============================================================================\n",
       "                 coef    std err          z      P>|z|      [0.025      0.975]\n",
       "------------------------------------------------------------------------------\n",
       "spx            2.6947      0.035     76.380      0.000       2.626       2.764\n",
       "ar.L1          0.2394      0.030      8.097      0.000       0.181       0.297\n",
       "ma.L1         -0.5303      0.026    -20.728      0.000      -0.580      -0.480\n",
       "ar.S.L5        0.5776      0.478      1.208      0.227      -0.360       1.515\n",
       "ar.S.L10       0.0074      0.023      0.324      0.746      -0.037       0.052\n",
       "ma.S.L5       -0.6085      0.478     -1.272      0.203      -1.546       0.329\n",
       "sigma2      2430.4415     27.775     87.505      0.000    2376.004    2484.879\n",
       "===================================================================================\n",
       "Ljung-Box (Q):                       74.26   Jarque-Bera (JB):              4297.05\n",
       "Prob(Q):                              0.00   Prob(JB):                         0.00\n",
       "Heteroskedasticity (H):               1.25   Skew:                            -0.58\n",
       "Prob(H) (two-sided):                  0.00   Kurtosis:                         7.38\n",
       "===================================================================================\n",
       "\n",
       "Warnings:\n",
       "[1] Covariance matrix calculated using the outer product of gradients (complex-step).\n",
       "\"\"\""
      ]
     },
     "execution_count": 27,
     "metadata": {},
     "output_type": "execute_result"
    }
   ],
   "source": [
    "model_sarimax = SARIMAX(df.market_value, exog = df.spx, order=(1,1,1), seasonal_order=(2,0,1,5))\n",
    "results_sarimax = model_sarimax.fit()\n",
    "results_sarimax.summary()"
   ]
  },
  {
   "cell_type": "code",
   "execution_count": null,
   "metadata": {},
   "outputs": [],
   "source": []
  }
 ],
 "metadata": {
  "kernelspec": {
   "display_name": "Python 3",
   "language": "python",
   "name": "python3"
  },
  "language_info": {
   "codemirror_mode": {
    "name": "ipython",
    "version": 3
   },
   "file_extension": ".py",
   "mimetype": "text/x-python",
   "name": "python",
   "nbconvert_exporter": "python",
   "pygments_lexer": "ipython3",
   "version": "3.7.4"
  }
 },
 "nbformat": 4,
 "nbformat_minor": 4
}
